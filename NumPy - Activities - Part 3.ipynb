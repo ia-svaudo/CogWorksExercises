{
 "cells": [
  {
   "cell_type": "markdown",
   "id": "0c8f9490",
   "metadata": {},
   "source": [
    "References\n",
    "\n",
    " * [Basic indexing](https://numpy.org/doc/stable/reference/arrays.indexing.html#indexing)\n",
    "\n",
    " * [Definition of ‘view’](https://numpy.org/doc/stable/glossary.html#term-view)\n",
    " \n",
    " * [Advanced Indexing](https://numpy.org/doc/stable/reference/arrays.indexing.html#advanced-indexing)\n",
    "\n"
   ]
  },
  {
   "cell_type": "code",
   "execution_count": 2,
   "id": "c19d8d0a",
   "metadata": {},
   "outputs": [],
   "source": [
    "import numpy as np"
   ]
  },
  {
   "cell_type": "markdown",
   "id": "107cd9d9",
   "metadata": {},
   "source": [
    "1. __Ellipsis__:  \n",
    "Given a N-dimensional array, x, index into x such that you access entry-0 of axis-0, the last entry of axis-N−1, slicing along all intermediate dimensions. N is at least 2."
   ]
  },
  {
   "cell_type": "code",
   "execution_count": 13,
   "id": "13052264",
   "metadata": {},
   "outputs": [
    {
     "data": {
      "text/plain": [
       "array([0.87824669, 0.65882198, 0.45042015, 0.587846  , 0.03205854])"
      ]
     },
     "execution_count": 13,
     "metadata": {},
     "output_type": "execute_result"
    }
   ],
   "source": [
    "x = np.random.rand(5,5,5)\n",
    "x[0,...,-1]"
   ]
  },
  {
   "cell_type": "markdown",
   "id": "e6d3b32c",
   "metadata": {},
   "source": [
    "2. Given a shape-(4, 3) array,\n",
    "```\n",
    "arr = np.array([[ 0,  1,  2,  3],\n",
    "                [ 4,  5,  6,  7],\n",
    "                [ 8,  9, 10, 11]])\n",
    "```\n",
    "                \n",
    "which of the following indexing schemes perform basic indexing? That is, in which instances does the index satisfy the rules of basic indexing?\n",
    "\n",
    "`arr[0]`\n",
    "\n",
    "`arr[:-1, 0]`\n",
    "\n",
    "`arr[(2, 3)]`\n",
    "\n",
    "`arr[[2, 0]]`\n",
    "\n",
    "`arr[np.array([2, 0])]`\n",
    "\n",
    "`arr[(0, 1), (2, 3)]`\n",
    "\n",
    "`arr[slice(None), ...]`\n",
    "\n",
    "`arr[(np.newaxis, 0, slice(1, 2), np.newaxis)]`"
   ]
  },
  {
   "cell_type": "code",
   "execution_count": 15,
   "id": "586100fe",
   "metadata": {},
   "outputs": [],
   "source": [
    "#arr[0]\n",
    "#arr[:-1, 0]\n",
    "#arr[(2, 3)]\n",
    "#arr[[2, 0]] USING A LIST\n",
    "#arr[np.array([2, 0])] USING A LIST\n",
    "#arr[(0, 1), (2, 3)] Combonation of  A Tuple, Not solely a tuple\n",
    "#arr[slice(None), ...]\n",
    "#arr[(np.newaxis, 0, slice(1, 2), np.newaxis)]"
   ]
  },
  {
   "cell_type": "markdown",
   "id": "92428411",
   "metadata": {},
   "source": [
    "3. Given,\n",
    "```\n",
    "a = np.array([[ 0,  1,  2,  3],\n",
    "              [ 4,  5,  6,  7],\n",
    "              [ 8,  9, 10, 11]])\n",
    "```\n",
    "\n",
    "Which of the following expressions create views of `a`? That is, in which cases do `a` and the created variable reference the same underlying array data? Check your work by using `np.shares_memory`.\n",
    "\n",
    "`a1 = a`\n",
    "\n",
    "`a2 = a[0, 0]`\n",
    "\n",
    "`a3 = a[:, 0]`\n",
    "\n",
    "`a4 = a[:, 0] + np.array([-1, -2, -3])`\n",
    "\n",
    "`a5 = np.copy(a[:, 0])`\n",
    "\n",
    "`a6 = a[np.newaxis]`\n",
    "\n",
    "`a7 = a.reshape(2, 3, 2)`\n",
    "\n",
    "`a8 = 2 + a`"
   ]
  },
  {
   "cell_type": "code",
   "execution_count": 16,
   "id": "50eec511",
   "metadata": {},
   "outputs": [
    {
     "data": {
      "text/plain": [
       "True"
      ]
     },
     "execution_count": 16,
     "metadata": {},
     "output_type": "execute_result"
    }
   ],
   "source": [
    "a = np.array([[ 0,  1,  2,  3],\n",
    "           [ 4,  5,  6,  7],\n",
    "           [ 8,  9, 10, 11]])\n",
    "a1 = a #True\n",
    "\n",
    "a2 = a[0, 0] #False\n",
    "\n",
    "a3 = a[:, 0] #True\n",
    "\n",
    "a4 = a[:, 0] + np.array([-1, -2, -3]) #False\n",
    "\n",
    "a5 = np.copy(a[:, 0]) #False\n",
    " \n",
    "a6 = a[np.newaxis] #True\n",
    "\n",
    "a7 = a.reshape(2, 3, 2) #True\n",
    "\n",
    "a8 = 2 + a #False\n",
    "\n",
    "np.shares_memory(a, a)"
   ]
  },
  {
   "cell_type": "markdown",
   "id": "40e82795",
   "metadata": {},
   "source": [
    "4. Augmenting Array Data In-Place\n",
    "\n",
    "Given,\n",
    "```\n",
    "x = np.array([[ 0.,  1.,  2.,  3.],\n",
    "              [ 4.,  5.,  6.,  7.],\n",
    "              [ 8.,  9., 10., 11.]])\n",
    "\n",
    "y = x[0, :]\n",
    "```\n",
    "Which of the following expressions updates the data originally referenced by `x`?\n",
    "\n",
    "a. `x += 3`\n",
    "\n",
    "b. `y *= 2.4`\n",
    "\n",
    "c. `x = x + 3`\n",
    "\n",
    "d. `y = np.copy(y) \n",
    "   y += 3`\n",
    "\n",
    "e. `np.log(x[1:3], out=x[1:3])`\n",
    "\n",
    "f. `y[:] = y + 2`\n",
    "\n",
    "g. `x = np.square(x)`\n",
    "\n",
    "h. `x[:] = 0`\n",
    "\n",
    "i. `def f(z): z /= 3 \n",
    "   f(y)`\n",
    "\n",
    "j. `np.square(y, out=y)`"
   ]
  },
  {
   "cell_type": "code",
   "execution_count": null,
   "id": "c8852643",
   "metadata": {},
   "outputs": [],
   "source": [
    "#a) yes\n",
    "#b) yes\n",
    "#c) no\n",
    "#d) no\n",
    "#e) yes\n",
    "#f) yes\n",
    "#g) no\n",
    "#h) yes\n",
    "#i) yes\n",
    "#j) yes"
   ]
  },
  {
   "cell_type": "markdown",
   "id": "34ce59f8",
   "metadata": {},
   "source": [
    "## Advanced Indexing\n"
   ]
  },
  {
   "cell_type": "markdown",
   "id": "0c277052",
   "metadata": {},
   "source": [
    "5. Given the following array:\n",
    "\n",
    "`y = np.array([ 0, -1, -2, -3, -4, -5])`\n",
    "\n",
    "Use advanced indexing, using an integer-array, to produce the following arrays:\n",
    "\n",
    "a. \n",
    "`array([-1])`\n",
    "\n",
    "b. \n",
    "`array([-1, -2, -1, -2])`\n",
    "\n",
    "c. \n",
    "`array([[ 0, -5], \n",
    "       [-1, -4]])`\n",
    "\n",
    "d. \n",
    "`array([[-2], \n",
    "       [-3], \n",
    "       [-2]])`"
   ]
  },
  {
   "cell_type": "code",
   "execution_count": null,
   "id": "d24127f8",
   "metadata": {},
   "outputs": [],
   "source": []
  },
  {
   "cell_type": "markdown",
   "id": "32b649c8",
   "metadata": {},
   "source": [
    "6. Given the following array:\n",
    "```\n",
    "z = np.array([[[ 0,  1,  2,  3],\n",
    "               [ 4,  5,  6,  7],\n",
    "               [ 8,  9, 10, 11]],\n",
    "\n",
    "              [[12, 13, 14, 15],\n",
    "               [16, 17, 18, 19],\n",
    "               [20, 21, 22, 23]]])\n",
    "```\n",
    "Use advanced indexing, using integer-arrays, to produce the following arrays:\n",
    "\n",
    "a. \n",
    "`array([[ 0,  5, 10],\n",
    "       [12, 17, 22]])`\n",
    "\n",
    "b. \n",
    "`array([[ 0, 23],\n",
    "       [23,  0]])`"
   ]
  },
  {
   "cell_type": "code",
   "execution_count": null,
   "id": "633aa523",
   "metadata": {},
   "outputs": [],
   "source": []
  }
 ],
 "metadata": {
  "kernelspec": {
   "display_name": "Python 3",
   "language": "python",
   "name": "python3"
  },
  "language_info": {
   "codemirror_mode": {
    "name": "ipython",
    "version": 3
   },
   "file_extension": ".py",
   "mimetype": "text/x-python",
   "name": "python",
   "nbconvert_exporter": "python",
   "pygments_lexer": "ipython3",
   "version": "3.8.8"
  }
 },
 "nbformat": 4,
 "nbformat_minor": 5
}

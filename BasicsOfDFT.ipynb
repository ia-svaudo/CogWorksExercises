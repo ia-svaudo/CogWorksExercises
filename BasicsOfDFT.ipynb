{
 "cells": [
  {
   "cell_type": "markdown",
   "id": "31adcdfe",
   "metadata": {},
   "source": [
    "<div class=\"alert alert-warning\">\n",
    "\n",
    "**Source Material**:\n",
    "\n",
    "The following exercises are adapted from Chapter 7 of [Mark Newman's book, \"Computational Physics\"](http://www-personal.umich.edu/~mejn/cp/)\n",
    "\n",
    "</div>\n",
    "\n",
    "\n",
    "<!-- #region {\"code_folding\": [0, 11]} -->\n",
    "# Exercises: Basics of DFTs\n",
    "\n",
    "<!-- #endregion -->"
   ]
  },
  {
   "cell_type": "code",
   "execution_count": 1,
   "id": "f32834cc",
   "metadata": {},
   "outputs": [],
   "source": [
    "import numpy as np\n",
    "import matplotlib.pyplot as plt\n",
    "from typing import Union, Tuple, Sequence\n",
    "\n",
    "%matplotlib notebook"
   ]
  },
  {
   "cell_type": "markdown",
   "id": "4b7ca1c9",
   "metadata": {},
   "source": [
    "(1.4.1) Write a function that performs a discrete Fourier transform on a *real-valued* signal containing $N$ samples: $(y_n)_{n=0}^{N-1} \\rightarrow  (c_k)_{k=0}^{\\left\\lfloor \\frac{N}{2} \\right\\rfloor}$\n",
    "\n",
    "This should produce identical results to `numpy.fft.rfft`."
   ]
  },
  {
   "cell_type": "code",
   "execution_count": null,
   "id": "a0151687",
   "metadata": {
    "attributes": {
     "classes": [],
     "code_folding": "[]",
     "id": ""
    }
   },
   "outputs": [],
   "source": [
    "def py_dft(samples: Sequence[float]) -> np.ndarray:\n",
    "    \"\"\"Performs a Discrete Fourier Transform (type-1) for \n",
    "    real-valued data.\n",
    "        \n",
    "    Parameters\n",
    "    ----------\n",
    "    samples : Sequence[float]\n",
    "        N evenly-spaced, real-valued numbers\n",
    "\n",
    "    Returns\n",
    "    -------\n",
    "    numpy.ndarray, shape-(N//2 + 1,)\n",
    "        The N//2 + 1 complex-valued Fourier coefficients describing `samples`\"\"\"\n",
    "    \n",
    "\n",
    "    N = len(samples)\n",
    "    coefs = np.zeros(N // 2 + 1, dtype=complex)\n",
    "    const = -1 * np.pi / N * 2j\n",
    "    \n",
    "    # STUDENT CODE: \n",
    "    \n",
    "\n",
    "    \n",
    "    return np.array(coefs)\n"
   ]
  },
  {
   "cell_type": "markdown",
   "id": "149e2d3a",
   "metadata": {},
   "source": [
    "Consider the sine wave with frequency $f$\n",
    "\n",
    "\\begin{equation}\n",
    "g(t) = \\sin(2 \\pi f t)\n",
    "\\end{equation}\n",
    "\n",
    "Let's assume that $f = \\frac{1}{150}\\;\\mathrm{Hz}$ (recall: $\\mathrm{Hz}=\\frac{1}{\\mathrm{seconds}}$).\n",
    "Thus the period of the wave is $T_{\\text{period}} = 1/f = 150$ seconds.\n",
    "\n",
    "(1.4.2) Using Euler's formula, $e^{ix} = \\cos{x} + i\\sin{x}$, write this sine wave in terms of complex-valued exponentials (i.e. using $e^{ix}$).\n",
    "Notice that this represents a very simple Fourier series, one in which only a single frequency is present.\n",
    "\n",
    "> 1.4.2 Solution: <COGINST>$g(t) = \\frac{1}{2i}e^{i 2 \\pi f t} + \\frac{-1}{2i}e^{-i 2 \\pi f t}$</COGINST>\n",
    "\n",
    "\n",
    "(1.4.3) Take $N=100$ samples of this sine wave over four complete periods of oscillation.\n",
    "That is, create an array of $t_{n} = \\frac{n}{N}T$ for $n = 0, 1, ... N-1$, where $T = 4T_{\\text{period}}$, and create a corresponding array of $y_{n} = f(t_{n})$ ."
   ]
  },
  {
   "cell_type": "code",
   "execution_count": null,
   "id": "b201f989",
   "metadata": {},
   "outputs": [],
   "source": [
    "# STUDENT CODE\n",
    "\n"
   ]
  },
  {
   "cell_type": "markdown",
   "id": "a9068415",
   "metadata": {},
   "source": [
    "<!-- #region -->\n",
    "Now plot the sampled signal, $y_{n}$, using the following code."
   ]
  },
  {
   "cell_type": "markdown",
   "id": "ddf87afd",
   "metadata": {},
   "source": [
    "<!-- #endregion -->"
   ]
  },
  {
   "cell_type": "code",
   "execution_count": null,
   "id": "5bb75478",
   "metadata": {},
   "outputs": [],
   "source": [
    "fig, ax = plt.subplots()\n",
    "ax.plot(t_samples, y_samples, marker=\"x\")\n",
    "ax.grid()\n",
    "ax.set_xlabel(\"t (seconds)\")\n"
   ]
  },
  {
   "cell_type": "markdown",
   "id": "9283c774",
   "metadata": {},
   "source": [
    "<!-- #region {\"code_folding\": [11]} -->\n",
    "(1.4.4) Perform a real-valued DFT of the sampled wave-form, obtaining $c_{k}$.\n",
    "How many Fourier-coefficients will be produced?\n",
    "Verify that numpy's FFT (for real-valued signals), `np.fft.rfft`, returns the same results as your DFT;\n",
    "you can use the function `numpy.allclose` to compare your array of coefficients with those produced by `np.fft.rfft`.\n",
    "<!-- #endregion -->"
   ]
  },
  {
   "cell_type": "code",
   "execution_count": null,
   "id": "4007933e",
   "metadata": {},
   "outputs": [],
   "source": [
    "# STUDENT CODE \n",
    "\n"
   ]
  },
  {
   "cell_type": "markdown",
   "id": "6c910325",
   "metadata": {},
   "source": [
    "(1.4.5) Recall that $k$ takes on integer values $0, 1, ..., \\big\\lfloor\\frac{N}{2}\\big\\rfloor$.\n",
    "Convert each $k$ value into frequency, $\\nu_{k}$, with units of Hz. \n",
    "\n",
    "Similarly, $n$ takes on integer values: $0, 1, ..., N - 1$.\n",
    "Convert $n$ into time, $t_{n}$, with units of seconds.\n",
    "\n",
    "> 1.4.5 Solution: <COGINST>To convert to \"physical\" units: $t_n = \\frac{n}{N}T$ and $\\nu_{k} = \\frac{k}{T}$.</COGINST>"
   ]
  },
  {
   "cell_type": "code",
   "execution_count": null,
   "id": "e190b506",
   "metadata": {},
   "outputs": [],
   "source": [
    "# STUDENT CODE\n",
    "\n",
    "# n-values: indicate which sample we are looking at\n",
    "\n",
    "\n",
    "# times: \n",
    "\n",
    "\n",
    "# k-values: indicate which Fourier-component we are considering\n",
    "\n",
    "\n",
    "# converted to frequencies\n",
    "# recall that exp(2*pi k/L * x) is a sinusoid with frequency k / T\n",
    "\n"
   ]
  },
  {
   "cell_type": "markdown",
   "id": "c6219fe8",
   "metadata": {},
   "source": [
    "(1.4.6) What should the plot of $|a_{k}|$ vs $\\nu_{k}$, look like, considering the form of the original signal that we sampled?\n",
    "\n",
    "- Should there be one peak? Multiple peaks? \n",
    "- At what value(s) of $k$ should the peak(s) reside?\n",
    "- What should the value(s) of $\\varphi'_k$ at the peak(s) be? \n",
    "\n",
    "> 1.4.6 Solution: <COGINST>Because we are taking the DFT of a pure sinusoid, sampled over a periodic region, we expect the Fourier spectrum to consist of a single peak residing at the same frequency as the sinusoid.\n",
    ">\n",
    ">The coefficients should be zero for all $k$, except for $\\nu_{k} = f = \\frac{1}{150}\\:\\mathrm{Hz}$, which occurs at $\\frac{k}{T} = \\frac{1}{150\\;\\text{seconds}}\\rightarrow k = \\frac{600\\;\\text{seconds}}{150\\;\\text{seconds}} = 4 $.\n",
    "> Thus we expect $|a_4| = 1$\n",
    ">\n",
    "> Because\n",
    "> $\\sin(2 \\pi f t) = \\cos\\big(2 \\pi f t - \\frac{\\pi}{2}\\big)$\n",
    "> we expect $\\varphi'_4 = \\frac{\\pi}{2}$\n",
    "></COGINST>\n",
    "\n",
    "\n",
    "<!-- #region -->\n",
    "Now, using $(c_k)_{k=0}^{\\left\\lfloor \\frac{N}{2} \\right\\rfloor}$, compute $(|a_k|)_{k=0}^{\\left\\lfloor \\frac{N}{2} \\right\\rfloor}$ and $(\\varphi'_k)_{k=0}^{\\left\\lfloor \\frac{N}{2} \\right\\rfloor}$.\n",
    "Plot the Fourier spectrum $|a_{k}|$ vs $\\nu_{k}$, along with a vertical line where you predict the peak to occur. Use the following pseudocode to help you with your plot:"
   ]
  },
  {
   "cell_type": "code",
   "execution_count": null,
   "id": "7a91b2a3",
   "metadata": {},
   "outputs": [],
   "source": [
    "fig, ax = plt.subplots()\n",
    "expected_peak_freq = ???\n",
    "\n",
    "# plots Fourier spectrum\n",
    "ax.stem(freqs, amps, basefmt=\" \", use_line_collection=True)\n",
    "\n",
    "# plots a vertical line at the frequency corresponding to our sine wave\n",
    "ax.vlines(expected_peak_freq, 0, 1.0, lw=5, alpha=0.5, ls=\"--\", color=\"black\")\n",
    "\n",
    "# make the plot look nice\n",
    "ax.set_xlim(0, 0.03)\n",
    "ax.grid(True)\n",
    "ax.set_ylabel(r\"$| a_{k} |$\")\n",
    "ax.set_xlabel(\"Frequency (Hz)\");"
   ]
  },
  {
   "cell_type": "markdown",
   "id": "bba33767",
   "metadata": {},
   "source": [
    "<!-- #endregion -->"
   ]
  },
  {
   "cell_type": "code",
   "execution_count": null,
   "id": "ca2484f1",
   "metadata": {},
   "outputs": [],
   "source": [
    "\n",
    "def fourier_complex_to_real(\n",
    "    complex_coeffs: np.ndarray, N: int\n",
    "    ) -> Tuple[np.ndarray, np.ndarray]:\n",
    "    \"\"\"\n",
    "    Converts complex-valued Fourier coefficients (of \n",
    "    real-valued data) to the associated amplitudes and \n",
    "    phase-shifts of the real-valued sinusoids\n",
    "    \n",
    "    Parameters\n",
    "    ----------\n",
    "    complex_coeffs : numpy.ndarray, shape-(N//2 + 1,)\n",
    "        The complex valued Fourier coefficients for k=0, 1, ...\n",
    "    \n",
    "    N : int\n",
    "        The number of samples that the DFT was performed on.\n",
    "    \n",
    "    Returns\n",
    "    -------\n",
    "    Tuple[numpy.ndarray, numpy.ndarray]\n",
    "        (amplitudes, phase-shifts)\n",
    "        Two real-valued, shape-(N//2 + 1,) arrays\n",
    "    \"\"\"\n",
    "    \n",
    "    #STUDENT CODE \n",
    "    \n",
    "    #amplitudes:\n",
    "\n",
    "\n",
    "    # |a_k| = 2 |c_k| / N for all k except for\n",
    "    # k=0 and k=N/2 (only if N is even)\n",
    "    # where |a_k| = |c_k| / N\n",
    "\n",
    "\n",
    "    #phases:\n",
    "    \n",
    "    \n",
    "    \n",
    "    return amplitudes, phases\n",
    "\n",
    "\n",
    "# STUDENT CODE (plotting)\n",
    "\n",
    "\n",
    "\n"
   ]
  },
  {
   "cell_type": "markdown",
   "id": "b77a7cbe",
   "metadata": {},
   "source": [
    "<!-- #region -->\n",
    "The peak-valued coefficient, $c_{k_{\\text{peak}}}$, should be the only non-zero coefficient.\n",
    "What is this telling us?\n",
    "This says that the samples of our pure sinusoid is described by the following summation (inverse DFT) where all but two of the terms are zero:\n",
    "\n",
    "\\begin{align}\n",
    "\\sin(2\\pi t_n) &= \\frac{1}{N}\\sum_{k=0}^{N-1}{c_{k}e^{i 2\\pi\\frac{k}{T}t_n}} = 0\\;+ ... + \\frac{1}{N} c_{k_{\\text{peak}}}e^{i 2 \\pi f t_n} + 0\\;+ ... +\\; \\frac{1}{N} c^{*}_{k_{\\text{peak}}}e^{-i 2 \\pi f t_n};\\;\\; n \\in [0, 1, \\dots, N-1]\\\\\n",
    "&= \\frac{1}{N}(c_{k_{\\text{peak}}}e^{i 2\\pi\\frac{k_{\\text{peak}}}{T}t_n} + c^{*}_{k_{\\text{peak}}}e^{-i 2\\pi\\frac{k_{\\text{peak}}}{T}t_n});\\;\\; n \\in [0, 1, \\dots, N-1]\n",
    "\\end{align}\n",
    "\n",
    "Earlier, we rewrote $\\sin(2\\pi t)$ in terms of complex-valued exponentials; let's rewrite the left side of this equation – $\\sin(2\\pi t_n)$ — in the same way\n",
    "\n",
    "\\begin{equation}\n",
    "\\sin(2\\pi t_n) = \\frac{1}{2i}e^{i 2 \\pi f t_n} + \\frac{-1}{2i}e^{-i 2 \\pi f t_n}\n",
    "\\end{equation}\n",
    "\n",
    "\n",
    "Given that these two expressions are equal, we have:\n",
    "\\begin{equation}\n",
    "\\frac{1}{2i}e^{i 2 \\pi f t_n} + \\frac{-1}{2i}e^{-i 2 \\pi f t_n} = \\frac{1}{N}(c_{k_{\\text{peak}}}e^{i 2\\pi\\frac{k_{\\text{peak}}}{T}t_n} + c^{*}_{k_{\\text{peak}}}e^{-i 2\\pi\\frac{k_{\\text{peak}}}{T}t_n});\\;\\; n \\in [0, 1, \\dots, N-1]\n",
    "\\end{equation}\n",
    "\n",
    "\n",
    "(1.4.7) Given this expression, what should $c_{k_{\\text{peak}}}$ be equal to? What should $k_{\\text{peak}}$ be equal to? \n",
    "\n",
    "Verify that the values for $c_{k_{\\text{peak}}}$ and $k_{\\text{peak}}$ produced by your DFT match the values that you predict.\n",
    "<!-- #endregion -->\n",
    "\n",
    "> 1.4.5 Solution: <COGINST>We expect that $c_{k_{\\text{peak}}} = \\frac{N}{2i} = -\\frac{iN}{2}$ and $k_{\\text{peak}} = Tf = 4$</COGINST>"
   ]
  },
  {
   "cell_type": "code",
   "execution_count": null,
   "id": "3a10d8ca",
   "metadata": {},
   "outputs": [],
   "source": [
    "# STUDENT CODE \n",
    "# k-peak should be the nearest integer to f*T, since freq = k/T,\n",
    "# and the frequency of our sampled wave it f\n",
    "\n"
   ]
  },
  {
   "cell_type": "markdown",
   "id": "e783ff31",
   "metadata": {},
   "source": [
    "(1.4.8) Use `np.fft.irfft` to compute the *exact* inverse DFT and verify that it recovers the original sampled data."
   ]
  },
  {
   "cell_type": "code",
   "execution_count": null,
   "id": "f1227bf3",
   "metadata": {},
   "outputs": [],
   "source": [
    "# STUDENT CODE \n",
    "\n"
   ]
  },
  {
   "cell_type": "markdown",
   "id": "266853d8",
   "metadata": {},
   "source": [
    "(1.4.9) Return to the \"Audio Signals Basics\" notebook and copy the code that you used to sample and plot the major triad:\n",
    "\n",
    " - $523.25\\;\\mathrm{Hz}$ (C)\n",
    " - $659.25\\;\\mathrm{Hz}$ (E)\n",
    " - $783.99\\;\\mathrm{Hz}$ (G)\n",
    " \n",
    "where each pure tone has an amplitude of $1\\:\\mathrm{Pascal}$.\n",
    "\n",
    "\n",
    "Sample $0.5$ seconds of this analog signal using a sample rate of $2000\\;\\mathrm{Hz}$.\n",
    "Take the discrete Fourier transform of the resulting digital signal. Plot the magnitudes of the Fourier coefficients as a function of frequency: $|a_{k}|$ vs $\\nu_{k}$.\n",
    "What are the significance of the peaks that you see?\n",
    "What information does this plot provide us with that a plot of the wave form doesn't?\n",
    "\n",
    "Are these peaks \"perfect\" as we saw above? I.e. are they confined to individual $k$-values or do they have a \"thickness\" across multiple $k$-values?\n",
    "What might be a cause for this phenomenon?\n",
    "\n",
    "Use `ax.set_xlim(400, 1000)` to limit the x-values plotted to be between $400\\;\\mathrm{Hz}$ and $1000\\;\\mathrm{Hz}$."
   ]
  },
  {
   "cell_type": "code",
   "execution_count": null,
   "id": "45f5aca7",
   "metadata": {},
   "outputs": [],
   "source": [
    "def p(t: np.ndarray, A: Union[int, float], f: Union[int, float]) -> np.ndarray:\n",
    "    return A * np.sin(2 * np.pi * f * t)\n",
    "\n",
    "\n",
    "# sampling 0.5 seconds at 2000 HZ: \n",
    "\n",
    "\n",
    "\n",
    "# k-values: \n",
    "\n",
    "\n",
    "\n",
    "# converted to frequencies: \n",
    "\n",
    "\n",
    "\n",
    "# fourier coefficients: \n",
    " \n",
    "\n",
    "\n",
    "#triad_amps, triad_phases: \n",
    "\n",
    "\n",
    "\n",
    "\n",
    "# plotting |ak| vs vk\n",
    "\n",
    "fig, ax = plt.subplots()\n",
    "\n",
    "ax.stem(v, triad_amps, basefmt=\" \", use_line_collection=True)\n",
    "ax.set_xlim(0, 0.03)\n",
    "ax.set_xlim(400, 1000)\n",
    "ax.set_ylabel(r\"$| a_{k} |$\")\n",
    "ax.set_xlabel(\"Frequency (Hz)\")\n",
    "ax.grid(True)\n"
   ]
  }
 ],
 "metadata": {
  "kernelspec": {
   "display_name": "Python 3 (ipykernel)",
   "language": "python",
   "name": "python3"
  },
  "language_info": {
   "codemirror_mode": {
    "name": "ipython",
    "version": 3
   },
   "file_extension": ".py",
   "mimetype": "text/x-python",
   "name": "python",
   "nbconvert_exporter": "python",
   "pygments_lexer": "ipython3",
   "version": "3.8.12"
  }
 },
 "nbformat": 4,
 "nbformat_minor": 5
}

{
 "cells": [
  {
   "cell_type": "markdown",
   "id": "a521458a",
   "metadata": {},
   "source": [
    "<div class=\"alert alert-warning\">\n",
    "\n",
    "**Source Material**:\n",
    "\n",
    "The following exercises are adapted from Chapter 7 of [Mark Newman's book, \"Computational Physics\"](http://www-personal.umich.edu/~mejn/cp/)\n",
    "\n",
    "</div>\n",
    "\n",
    "\n",
    "# Exercises: Applications of DFTs"
   ]
  },
  {
   "cell_type": "code",
   "execution_count": null,
   "id": "4d1f0503",
   "metadata": {},
   "outputs": [],
   "source": [
    "import numpy as np\n",
    "import matplotlib.pyplot as plt\n",
    "from typing import Tuple\n",
    "\n",
    "%matplotlib notebook"
   ]
  },
  {
   "cell_type": "markdown",
   "id": "2c5490c5",
   "metadata": {},
   "source": [
    "<!-- #region -->\n",
    "### Sunspot Data Analysis \n",
    "\n",
    "(1.6.1a) Read in the `sunspots.txt` data as a 2-D array.\n",
    "This file contains the number of recorded sunspots in a given month over a timespan of hundreds of years.\n",
    "\n",
    "There are two columns of numbers (separated by tabs) in the data.\n",
    "The first column is the number of the recorded month.\n",
    "The second column is the number of sunspots recorded in that month. \n",
    "\n",
    "Use the following code to read in this data:"
   ]
  },
  {
   "cell_type": "code",
   "execution_count": null,
   "id": "e34c0624",
   "metadata": {},
   "outputs": [],
   "source": [
    "with open(\"data/sunspots.txt\", \"r\") as F:\n",
    "    # Produces a shape-(N, 2) array\n",
    "    # column-0: month number\n",
    "    # column-1: count of sunspots that month\n",
    "    data = np.array([[float(i) for i in j.split('\\t')] for j in F])\n",
    "    "
   ]
  },
  {
   "cell_type": "markdown",
   "id": "bef0c1d7",
   "metadata": {},
   "source": [
    "Once you read in the data, determine: how many months are accounted for in this dataset?\n",
    "What are the range (minimum and maximum) of number of sunspots per month recorded in this dataset?\n",
    "\n",
    "Plot this data with labeled axes.\n",
    "<!-- #endregion -->"
   ]
  },
  {
   "cell_type": "code",
   "execution_count": null,
   "id": "0103a30b",
   "metadata": {},
   "outputs": [],
   "source": [
    "with open(\"data/sunspots.txt\", \"r\") as F:\n",
    "    data = np.array([[float(i) for i in j.split(\"\\t\")] for j in F])\n",
    "\n",
    "# STUDENT CODE\n",
    "\n",
    "\n"
   ]
  },
  {
   "cell_type": "markdown",
   "id": "ed832073",
   "metadata": {},
   "source": [
    "(1.6.1b) Estimate the frequency of the slowly-oscillating pattern in the data that manifests between the major peaks that we see in the plot.\n",
    "Do this by visual inspection (you can click on the box button in the bottom-left of the plot to do a box-zoom); determine roughly the number of months that separate consecutive peaks, and then convert this into a frequency (with units of 1/month).\n",
    "\n",
    "> 1.6.1b Solution: <COGINST>A peak occurs roughly every $100$ months.\n",
    "Thus the frequency is approximately $0.01$ [1/months]</COGINST>\n",
    "\n",
    "\n",
    "(1.6.2) Take a DFT of this real-valued data and consult the power spectrum, $|a_{k}|$ vs $\\nu_{k}$, to evaluate the periodicity of the data."
   ]
  },
  {
   "cell_type": "code",
   "execution_count": null,
   "id": "6387a80e",
   "metadata": {},
   "outputs": [],
   "source": [
    "def fourier_complex_to_real(\n",
    "    complex_coeffs: np.ndarray, N: int\n",
    ") -> Tuple[np.ndarray, np.ndarray]:\n",
    "    \"\"\"\n",
    "    Converts complex-valued Fourier coefficients (of \n",
    "    real-valued data) to the associated amplitudes and \n",
    "    phase-shifts of the real-valued sinusoids\n",
    "    \n",
    "    Parameters\n",
    "    ----------\n",
    "    complex_coeffs : numpy.ndarray, shape-(N//2 + 1,)\n",
    "        The complex valued Fourier coefficients for k=0, 1, ...\n",
    "    \n",
    "    N : int\n",
    "        The number of samples that the DFT was performed on.\n",
    "    \n",
    "    Returns\n",
    "    -------\n",
    "    Tuple[numpy.ndarray, numpy.ndarray]\n",
    "        (amplitudes, phase-shifts)\n",
    "        Two real-valued, shape-(N//2 + 1,) arrays\n",
    "    \"\"\"\n",
    "    \n",
    "    # STUDENT CODE\n",
    "\n",
    "    # amplitudes: \n",
    "    \n",
    "\n",
    "    \n",
    "    # |a_k| = 2 |c_k| / N for all k except for\n",
    "    # k=0 and k=N/2 (only if N is even)\n",
    "    # where |a_k| = |c_k| / N\n",
    "\n",
    "    \n",
    "    \n",
    "    \n",
    "    \n",
    "    \n",
    "    return amplitudes, phases\n",
    "\n",
    "\n",
    "#Plot: \n",
    "\n",
    "fig, ax = plt.subplots()\n",
    "\n",
    "# Compute duration of \"signal\" based on DFT\n",
    "# sampling scheme. Recall that the end-point is not included\n",
    "# in the sampled\n",
    "\n",
    "# T = \n",
    "\n",
    "# freqs = \n",
    "\n",
    "# amps, phases = \n",
    "\n",
    "\n",
    "ax.stem(freqs, amps, basefmt=\" \", use_line_collection=True)\n",
    "ax.set_xlim(0, 0.05)\n",
    "ax.grid()\n",
    "ax.set_xlabel(r\"$\\nu_{k}$\" + \" (1 / month)\")\n",
    "ax.set_ylabel(\"Size of Variation in Sunspots\")\n",
    "ax.set_title(\"Fourier Spectrum of Sunspot Data\")\n",
    "fig.tight_layout()\n"
   ]
  },
  {
   "cell_type": "markdown",
   "id": "b37f93b1",
   "metadata": {},
   "source": [
    "(1.6.3) What is the cause of the large peak at $k = 0$?\n",
    "Study the form of the equation for the discrete Fourier transform, specifically for $c_{k=0}$.\n",
    "What is the simple relationship between $c_{k=0}$ and the data $({y_{n}})_{n=0}^{N-1}$?\n",
    "Uniformly adjust the sunspot data so that $c_{k=0} \\approx 0$ when you take the Fourier transform of this updated data, and plot the Fourier spectrum of the new data.\n",
    "\n",
    "> <COGINST> 1.6.3 Solution: The $c_{0}$ coefficient is simply equal to the sum of the sampled data.\n",
    "> Thus $0$-centering the data will remove this peak.\n",
    "> (The data can also be normalized between $-1$ and $1$ to reduce the magnitude of the coefficients.)</COGINST>"
   ]
  },
  {
   "cell_type": "code",
   "execution_count": null,
   "id": "5b48f8ec",
   "metadata": {},
   "outputs": [],
   "source": [
    "fig, ax = plt.subplots()\n",
    "\n",
    "# STUDENT CODE \n",
    "\n",
    "# shift the data so that c_0 = 0\n",
    "\n",
    "\n",
    "# amps, phases = \n",
    "\n",
    "\n",
    "ax.stem(freqs, amps, basefmt=\" \", use_line_collection=True)\n",
    "ax.set_xlim(0, 0.05)\n",
    "ax.grid()\n",
    "ax.set_xlabel(r\"$\\nu_{k}$\" + \" (1 / month)\")\n",
    "ax.set_ylabel(\"Size of Variation in Sunspots\")\n",
    "ax.set_title(\"Fourier Spectrum of Sunspot Data (Zero-Centered)\")\n",
    "fig.tight_layout()\n"
   ]
  },
  {
   "cell_type": "markdown",
   "id": "f88b2e61",
   "metadata": {},
   "source": [
    "### Analyzing Audio Signals from Instruments\n",
    "\n",
    "<!-- #region -->\n",
    "(1.6.4) Read in the digital audio signal for a trumpet, from `data/trumpet.txt`, as an array of integers.\n",
    "This signal was recorded at a rate of $44.1\\;\\mathrm{kHz}$, which is the defacto standard for audio sampling (as implemented by Sony).\n",
    "\n",
    "You can read in the digital samples with the code:"
   ]
  },
  {
   "cell_type": "code",
   "execution_count": null,
   "id": "4e8190f2",
   "metadata": {},
   "outputs": [],
   "source": [
    "with open(\"data/trumpet.txt\", 'r') as R:\n",
    "    # each sample is written to a single line in the text file\n",
    "    # this reads them in as a single integer-valued numpy array\n",
    "    data = np.asarray([int(i) for i in R])"
   ]
  },
  {
   "cell_type": "markdown",
   "id": "fe1ca13f",
   "metadata": {},
   "source": [
    "Plot the signal on an $x$-axis labeled `\"Time (sec)\"` - be sure that the axis is scaled appropriately such that it reflects units of seconds.\n",
    "**There is too much data to be plotted, so plot only every** $100\\text{th}$ **datapoint**.\n",
    "Then, play the audio using"
   ]
  },
  {
   "cell_type": "code",
   "execution_count": null,
   "id": "bf793d46",
   "metadata": {},
   "outputs": [],
   "source": [
    "from IPython.display import Audio\n",
    "Audio(data, rate=???)"
   ]
  },
  {
   "cell_type": "markdown",
   "id": "fb76d7c7",
   "metadata": {},
   "source": [
    "<!-- #endregion -->"
   ]
  },
  {
   "cell_type": "code",
   "execution_count": null,
   "id": "a417cbaa",
   "metadata": {},
   "outputs": [],
   "source": [
    "# plot signal\n",
    "\n",
    "with open(\"data/trumpet.txt\", \"r\") as R:\n",
    "    data = np.asarray([int(i) for i in R])\n",
    "\n",
    "fig, ax = plt.subplots()\n",
    "\n",
    "# STUDENT CODE\n",
    "\n",
    "# t = \n",
    "\n",
    "# ax.plot(    ,    )\n",
    "\n",
    "\n",
    "ax.set_xlabel(\"Time (sec)\")\n",
    "ax.set_ylabel(\"Proportional to Pressure\")\n",
    "ax.set_title(\"Trumpet Waveform\")\n",
    "ax.grid(True)\n",
    "fig.tight_layout()\n"
   ]
  },
  {
   "cell_type": "code",
   "execution_count": null,
   "id": "b6b3e8ef",
   "metadata": {},
   "outputs": [],
   "source": [
    "# STUDENT CODE\n",
    "# play the audio signal\n"
   ]
  },
  {
   "cell_type": "markdown",
   "id": "3d78bece",
   "metadata": {},
   "source": [
    "(1.6.5) Plot the frequency spectrum, $|a_{k}|$ vs $\\nu_{k}$, for the first $10,000$ $k$-values.\n",
    "Be sure to use a FFT (not the plain DFT) for real-valued data - we are working with a lot of data.\n",
    "[What notes are being played](http://www.phy.mtu.edu/~suits/notefreqs.html)?\n",
    "Make sure that the $k$-axis of your spectrum is scaled to be in units of $\\mathrm{Hz}$."
   ]
  },
  {
   "cell_type": "code",
   "execution_count": null,
   "id": "5f25b1f8",
   "metadata": {},
   "outputs": [],
   "source": [
    "# DFT sampling excludes endpoint of the data, so we need to\n",
    "# account for this when computing the duration\n",
    "\n",
    "# STUDENT CODE \n",
    "\n",
    "# num samples / sample-rate -> duration (seconds)\n",
    "# T =  \n",
    "\n",
    "# ck = \n",
    "\n",
    "# freqs = \n",
    "\n",
    "# amps, phases = \n",
    "\n",
    "\n",
    "fig, ax = plt.subplots()\n",
    "ax.stem(freqs[:10000], amps[:10000], basefmt=\" \", use_line_collection=True)\n",
    "\n",
    "ax.grid(True)\n",
    "ax.set_xlabel(r\"$\\nu_{k}$\" + \" [Hz]\")\n",
    "ax.set_ylabel(\"Proportional to Pressure\")\n",
    "ax.set_title(\"Fourier Spectrum of Trumpet Data\")\n",
    "fig.tight_layout()\n"
   ]
  },
  {
   "cell_type": "markdown",
   "id": "e38591e2",
   "metadata": {},
   "source": [
    "Let's try manipulating this audio signal.\n",
    "\n",
    "First, make a copy of the complex-valued Fourier coefficients to a new array. \n",
    "Then find all of the coefficient such that $|a_{k}| > 100$ and **set those complex-valued coefficients to 0**.\n",
    "Next, take the inverse Fourier transform (`np.fft.irfft`) of the now-modified set of complex-valued Fourier coefficients, to produce a \"mutated\" collection of samples $(y^{\\text{mutated}}_n)_{n=0}^{N-1}$.\n",
    "This is a new set of audio samples, but with those Fourier components missing!"
   ]
  },
  {
   "cell_type": "code",
   "execution_count": null,
   "id": "fc65cc79",
   "metadata": {},
   "outputs": [],
   "source": [
    "# STUDENT CODE \n",
    "\n",
    "\n"
   ]
  },
  {
   "cell_type": "markdown",
   "id": "5c824ddc",
   "metadata": {},
   "source": [
    "The result of this is a mutated version of the digital trumpet signal.\n",
    "Plot the wave form of this mutated signal against time (seconds).\n",
    "Only plot every $100^\\text{th}$ point!"
   ]
  },
  {
   "cell_type": "code",
   "execution_count": null,
   "id": "9d9d68a2",
   "metadata": {},
   "outputs": [],
   "source": [
    "fig, ax = plt.subplots()\n",
    "\n",
    "# STUDENT CODE \n",
    "\n",
    "# t = \n",
    "\n",
    "# ax.plot(   ,   )\n",
    "\n",
    "ax.set_xlabel(\"Time (sec)\")\n",
    "ax.set_ylabel(\"Proportional to Pressure\")\n",
    "ax.set_title(\"Mutated Trumpet Waveform\")\n",
    "ax.grid(True)\n",
    "fig.tight_layout();\n"
   ]
  },
  {
   "cell_type": "markdown",
   "id": "4c8c13b3",
   "metadata": {},
   "source": [
    "Play the audio from this new sample.\n",
    "Consider what filtering you performed on the Fourier coefficients and how this affected the audio sample.\n",
    "Does this make sense to you?\n",
    "Chat with a neighbor about this."
   ]
  },
  {
   "cell_type": "code",
   "execution_count": null,
   "id": "c59de29a",
   "metadata": {},
   "outputs": [],
   "source": [
    "# STUDENT CODE \n",
    "\n"
   ]
  },
  {
   "cell_type": "markdown",
   "id": "d117925e",
   "metadata": {},
   "source": [
    "<!-- #region -->\n",
    "(1.6.6) Repeat this work for the __piano__ audio signal, but be creative with how you mutate its audio.\n",
    "\n",
    "Consider plotting the Fourier spectrum on a log-scale, with"
   ]
  },
  {
   "cell_type": "code",
   "execution_count": null,
   "id": "6b9e80bd",
   "metadata": {},
   "outputs": [],
   "source": [
    "ax.set_yscale('log')\n",
    "ax.set_ylim(1, None)"
   ]
  },
  {
   "cell_type": "markdown",
   "id": "573722f0",
   "metadata": {},
   "source": [
    "<!-- #endregion -->"
   ]
  },
  {
   "cell_type": "code",
   "execution_count": null,
   "id": "b0cf8117",
   "metadata": {},
   "outputs": [],
   "source": [
    "# plot piano signal\n",
    "\n",
    "# STUDENT CODE \n",
    "\n",
    "\n"
   ]
  },
  {
   "cell_type": "code",
   "execution_count": null,
   "id": "5eb83768",
   "metadata": {},
   "outputs": [],
   "source": [
    "# play audio signal\n",
    "\n",
    "# STUDENT CODE\n",
    "\n"
   ]
  },
  {
   "cell_type": "code",
   "execution_count": null,
   "id": "7dabef1f",
   "metadata": {},
   "outputs": [],
   "source": [
    "# fourier transform\n",
    "\n",
    "# STUDENT CODE \n",
    "\n",
    "# ck = \n",
    "\n",
    "# T = \n",
    "\n",
    "# freqs = \n",
    "\n",
    "# amps, phases = \n",
    "\n",
    "\n",
    "fig, ax = plt.subplots()\n",
    "\n",
    "ax.stem(freqs[:10000], amps[:10000], basefmt=\" \", use_line_collection=True)\n",
    "\n",
    "ax.set_yscale(\"log\")\n",
    "ax.set_ylim(1, None)\n",
    "ax.grid(True)\n",
    "ax.set_title(\"Fourier Spectrum of Piano\")\n",
    "ax.set_xlabel(\"Frequency [Hz]\")\n",
    "ax.set_ylabel(\"Proportional to Pressure\")\n"
   ]
  },
  {
   "cell_type": "code",
   "execution_count": null,
   "id": "bce91f71",
   "metadata": {},
   "outputs": [],
   "source": [
    "# mutate signal\n",
    "# STUDENT CODE \n",
    "\n",
    "\n",
    "\n",
    "# play audio signal\n",
    "\n"
   ]
  },
  {
   "cell_type": "markdown",
   "id": "40211d30",
   "metadata": {},
   "source": [
    "### Smoothing Stock Market Data\n",
    "\n",
    "<!-- #region -->\n",
    "(1.6.7) Read in the stock market data from `data/dow.txt`.\n",
    "Each data point corresponds to the daily closing value of the Dow Jones Industrial Average (starting in late 2006 and ending in late 2010).\n",
    "Use the following code to read in the data:"
   ]
  },
  {
   "cell_type": "code",
   "execution_count": null,
   "id": "00affba0",
   "metadata": {},
   "outputs": [],
   "source": [
    "with open(\"data/dow.txt\", 'r') as R:\n",
    "    # Each row of the txt file contains the closing value of the market\n",
    "    # This data is read in as a numpy array of floating point values\n",
    "    data = np.asarray([float(i) for i in R])"
   ]
  },
  {
   "cell_type": "markdown",
   "id": "e7bfed3a",
   "metadata": {},
   "source": [
    "Plot the data on labeled axes.\n",
    "<!-- #endregion -->"
   ]
  },
  {
   "cell_type": "code",
   "execution_count": null,
   "id": "d07bcd47",
   "metadata": {},
   "outputs": [],
   "source": [
    "# STUDENT CODE \n",
    "\n",
    "\n"
   ]
  },
  {
   "cell_type": "markdown",
   "id": "ab195ef0",
   "metadata": {},
   "source": [
    "(1.6.8a) Note that this data looks roughly like a single period of a sine-wave.\n",
    "What, roughly, are the frequency and amplitude of this sine wave?\n",
    "Answer with appropriate units.\n",
    "\n",
    "\n",
    "> 1.6.8a Solution: <COGINST>The gross sinusoidal shape of the data has a frequency of $\\sim \\frac{1}{1000\\;\\text{days}}$ and an amplitude of $\\sim 2,500\\;\\text{points}$\n",
    "</COGINST>\n",
    "\n",
    "\n",
    "(1.6.8b) Perform an FFT on this real-valued data, and plot the Fourier spectrum for this data.\n",
    "The $\\nu_{k}$-axis should be scaled to be in units of $\\frac{1}{\\text{days}}$.\n",
    "Label your axes.\n",
    "\n",
    "Some tips:\n",
    "\n",
    "- Zero-center your data (such that its mean-value is $0$) so that $|a_0|$ doesn't dominate your Fourier spectrum\n",
    "- Plot on the domain $[0, 0.04]$ (units 1 / days)\n",
    "\n",
    "Do you see a peak in correspondence to the sinusoidal form discussed in 1.6.8a?\n",
    "Does the frequency and amplitude of this prominent peak make sense?"
   ]
  },
  {
   "cell_type": "code",
   "execution_count": null,
   "id": "17d6df36",
   "metadata": {},
   "outputs": [],
   "source": [
    "# STUDENT CODE \n",
    "\n",
    "# each sample corresponds to 1 day, so L is total number of days\n",
    "\n",
    "\n",
    "\n",
    "\n"
   ]
  },
  {
   "cell_type": "markdown",
   "id": "a97a80ac",
   "metadata": {},
   "source": [
    "(1.6.9) We want to smooth this stock market data.\n",
    "We can do this by \"removing\" the high-frequency coefficients of its Fourier spectrum.\n",
    "Try zeroing-out the top $90\\%$ high-frequency coefficients, and then perform an inverse FFT using these altered coefficients.\n",
    "Plot the \"recovered\" signal on top of a semi-transparent version of the original data (use the plot parameter `alpha=0.5`).\n",
    "Then repeat this, but with zeroing out the top $98\\%$ coefficients.\n",
    "In both of these cases, on what scale are the fluctuations being filtered out?\n",
    "\n",
    "> <COGINST> 1.6.9 Solution: `k[round(.1 * len(k))]` is the frequency after the $10\\%$ lowest frequencies.\n",
    "It is $\\sim 0.05\\;\\frac{1}{\\text{days}}$, which corresponds to fluctuations over the span of $20$ days. \n",
    "This is the lowest frequency that we will filter out. \n",
    "Thus, filtering out the top $90\\%$ of the coefficients removes all of the day-to-day fluctuations, up to the fluctuations over twenty-day spans.\n",
    "Repeating this analysis, filtering the top $98\\%$ coefficients extends this up to $100$-day fluctuations.</COGINST>"
   ]
  },
  {
   "cell_type": "code",
   "execution_count": null,
   "id": "0735bace",
   "metadata": {},
   "outputs": [],
   "source": [
    "# filter top 90% high frequencies\n",
    "# STUDENT CODE\n",
    "\n",
    "\n",
    "\n"
   ]
  },
  {
   "cell_type": "code",
   "execution_count": null,
   "id": "5e45eb2a",
   "metadata": {},
   "outputs": [],
   "source": [
    "# filter top 98% high frequencies\n",
    "# STUDENT CODE\n",
    "\n",
    "\n"
   ]
  },
  {
   "cell_type": "markdown",
   "id": "b3cad09b",
   "metadata": {},
   "source": [
    "(1.6.10) Now repeat this process but zero-out the bottom $10\\%$ **low-frequency** coefficients.\n",
    "What do you see?\n",
    "Why is there a huge down-shift in the recovered data? (Hint: recall the role of $c_{k=0}$).\n",
    "What would happen if you filtered out the bottom $10\\%$ low-frequency coefficients **except** for $c_{0}$?\n",
    "Try this.\n",
    "\n",
    ">  <COGINST>1.6.10 Solution: $c_{0}$ corresponds to the mean of the samples, thus setting it to $0$ will cause the mean of the resulting samples to be $0$.\n",
    "Filtering out the bottom $10\\%$ shifts the data down so that its mean is $0$, and it removes any fluctutions longer than a $20$-day span.\n",
    "Retaining $c_{0}$ will restore the mean value of the data.</COGINST>"
   ]
  },
  {
   "cell_type": "code",
   "execution_count": null,
   "id": "e56291fc",
   "metadata": {},
   "outputs": [],
   "source": [
    "# filter bottom 10% low frequencies\n",
    "# STUDENT CODE\n",
    "\n",
    "\n",
    "\n"
   ]
  },
  {
   "cell_type": "code",
   "execution_count": null,
   "id": "616911d3",
   "metadata": {},
   "outputs": [],
   "source": [
    "# filter bottom 10% low frequencies, except c0\n",
    "# STUDENT CODE\n",
    "\n",
    "\n",
    "\n"
   ]
  }
 ],
 "metadata": {
  "kernelspec": {
   "display_name": "Python 3 (ipykernel)",
   "language": "python",
   "name": "python3"
  },
  "language_info": {
   "codemirror_mode": {
    "name": "ipython",
    "version": 3
   },
   "file_extension": ".py",
   "mimetype": "text/x-python",
   "name": "python",
   "nbconvert_exporter": "python",
   "pygments_lexer": "ipython3",
   "version": "3.8.12"
  }
 },
 "nbformat": 4,
 "nbformat_minor": 5
}

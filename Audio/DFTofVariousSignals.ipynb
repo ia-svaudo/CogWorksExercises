{
 "cells": [
  {
   "cell_type": "markdown",
   "id": "041f6084",
   "metadata": {},
   "source": [
    "\n",
    "<div class=\"alert alert-warning\">\n",
    "\n",
    "**Source Material**:\n",
    "\n",
    "The following exercises are adapted from Chapter 7 of [Mark Newman's book, \"Computational Physics\"](http://www-personal.umich.edu/~mejn/cp/)\n",
    "\n",
    "</div>\n",
    "\n",
    "\n",
    "\n",
    "# Exercises: DFTs of Various Signals"
   ]
  },
  {
   "cell_type": "code",
   "execution_count": 1,
   "id": "2333e0f0",
   "metadata": {},
   "outputs": [],
   "source": [
    "import numpy as np\n",
    "import matplotlib.pyplot as plt\n",
    "from typing import Tuple\n",
    "\n",
    "%matplotlib notebook"
   ]
  },
  {
   "cell_type": "markdown",
   "id": "ad223233",
   "metadata": {},
   "source": [
    "For all problems, take $N = 1,000$ as the number of samples\n",
    "\n",
    "<!-- #region -->\n",
    "(1.5.1) Perform a DFT on a single period of a square wave of amplitude $1$.\n",
    "Its period is $5$ seconds long.\n",
    "Plot the wave form versus time and plot the Fourier spectrum, $|a_{k}|$ vs $\\nu_{k}$.\n",
    "\n",
    "Here is some code that you can use to plot these side-by-side:"
   ]
  },
  {
   "cell_type": "code",
   "execution_count": null,
   "id": "83cea6f5",
   "metadata": {},
   "outputs": [],
   "source": [
    "fig, (ax1, ax2) = plt.subplots(ncols=2, figsize=(8, 4))\n",
    "ax1.plot(t, y, marker=\"o\")  # plot time (t) and waveform (y)\n",
    "ax1.grid()\n",
    "ax1.set_xlabel(\"t (seconds)\")\n",
    "\n",
    "ax2.stem(freqs, amps, basefmt=\" \", use_line_collection=True) # plot frequency (freqs) and amplitudes (amps)\n",
    "ax2.set_xlim(0, 10)\n",
    "ax2.grid()\n",
    "ax2.set_ylabel(r\"$|a_{k}|$\")\n",
    "ax2.set_xlabel(r\"$\\nu_{k}$ (Hz)\")\n",
    "fig.tight_layout()"
   ]
  },
  {
   "cell_type": "markdown",
   "id": "93401613",
   "metadata": {},
   "source": [
    "A square wave is like a sine-wave, except a square wave only takes on values of $1$ (wherever $\\sin(x)$ is positive) or $-1$ (wherever $\\sin(x)$ is negative).\n",
    "<!-- #endregion -->"
   ]
  },
  {
   "cell_type": "code",
   "execution_count": null,
   "id": "b34088ee",
   "metadata": {},
   "outputs": [],
   "source": [
    "def fourier_complex_to_real(\n",
    "    complex_coeffs: np.ndarray, N: int\n",
    ") -> Tuple[np.ndarray, np.ndarray]:\n",
    "    \"\"\"\n",
    "    Converts complex-valued Fourier coefficients (of \n",
    "    real-valued data) to the associated amplitudes and \n",
    "    phase-shifts of the real-valued sinusoids\n",
    "    \n",
    "    Parameters\n",
    "    ----------\n",
    "    complex_coeffs : numpy.ndarray, shape-(N//2 + 1,)\n",
    "        The complex valued Fourier coefficients for k=0, 1, ...\n",
    "    \n",
    "    N : int\n",
    "        The number of samples that the DFT was performed on.\n",
    "    \n",
    "    Returns\n",
    "    -------\n",
    "    Tuple[numpy.ndarray, numpy.ndarray]\n",
    "        (amplitudes, phase-shifts)\n",
    "        Two real-valued, shape-(N//2 + 1,) arrays\n",
    "    \"\"\"\n",
    "    \n",
    "    # amplitudes: \n",
    "    \n",
    "\n",
    "    # |a_k| = 2 |c_k| / N for all k except for\n",
    "    # k=0 and k=N/2 (only if N is even)\n",
    "    # where |a_k| = |c_k| / N\n",
    "    \n",
    "\n",
    "    # phases: \n",
    "\n",
    "    \n",
    "    \n",
    "    return amplitudes, phases\n",
    "\n",
    "\n",
    "def square_filter(x):\n",
    "    #STUDENT CODE (one line of code):\n",
    "\n",
    "\n",
    "    \n",
    "\n",
    "# Plotting code: \n",
    "\n",
    "\n",
    "\n",
    "\n",
    "\n"
   ]
  },
  {
   "cell_type": "markdown",
   "id": "6fdd6393",
   "metadata": {},
   "source": [
    "(1.5.2) Perform a DFT for the simple linear function $y_{t} = t$ for $1000$ seconds in duration.\n",
    "Plot both the waveform and the Fourier spectrum,  $|a_{k}|$ vs $\\nu_{k}$."
   ]
  },
  {
   "cell_type": "code",
   "execution_count": null,
   "id": "746b77d9",
   "metadata": {},
   "outputs": [],
   "source": [
    "fig, (ax1, ax2) = plt.subplots(ncols=2, figsize=(8, 4))\n",
    "\n",
    "N = 1000\n",
    "T = 1000\n",
    "t = np.arange(N) / N * T\n",
    "y = t\n",
    "\n",
    "# freqs: \n",
    "\n",
    "\n",
    "# amps, phases: \n",
    "\n",
    "\n",
    "\n",
    "# Plotting code: \n",
    "\n",
    "\n",
    "\n"
   ]
  },
  {
   "cell_type": "markdown",
   "id": "fc98b49c",
   "metadata": {},
   "source": [
    "(1.5.3) Perform a DFT for the modulated wave $\\sin\\!\\big(\\frac{\\pi t}{Q}\\big) \\sin\\!\\big(\\frac{20 \\pi t}{Q}\\big)$, where $Q=5\\:\\mathrm{seconds}$.\n",
    "Sample this signal **over two periods of the lower-frequency term (a.k.a the modulating term)**.\n",
    "\n",
    "- What are the frequencies of the respective terms in our modulated wave? \n",
    "- Do you expect that these two frequencies present in the Fourier spectrum? Why might we expect for different frequencies to be prominent in our series (hint: compare the functional form of this waveform to that of a Fourier series)?\n",
    "- Use the relationship $\\sin{(a)}\\sin{(b)}=\\frac{1}{2}(\\cos{(a-b)} - \\cos{(a+b)})$ to rewrite this modulated wave as a sum of cosines.\n",
    "From this, predict the number, locations, and heights of the peaks in your Fourier spectrum.\n",
    "- Plot the wave form vs time and plot the Fourier spectrum, $|a_{k}|$ vs $\\nu_{k}$.\n",
    "Be sure to zoom in on your peaks.\n",
    "\n",
    "> <COGINST> 1.5.3 Solution:\n",
    ">    \n",
    "> - The frequencies of the terms in the waveform are $\\frac{1}{10}\\:\\mathrm{Hz}$ and $2\\:\\mathrm{Hz}$, respectively\n",
    "> - The modulated waveform consists of a **product** of sine-waves, whereas our Fourier series represents a **sum** of waves.\n",
    "> We shouldn't expect that a product of waves should be reproduced by a sum of waves of the same frequencies. \n",
    "> - By the given identity, $\\sin\\!\\big(\\frac{\\pi t}{5}\\big) \\sin\\big(\\frac{20 \\pi t}{5}\\big)=\\frac{1}{2}\\big(\\cos{\\big(2\\pi\\frac{19}{10}t\\big)} - \\cos{\\big(2\\pi\\frac{21}{10}t\\big)}\\big)$.\n",
    "> Thus we should see two distinct peaks, one at $1.9\\;\\mathrm{Hz}$ and one at $2.1\\;\\mathrm{Hz}$.\n",
    "> Both peaks should have a height of $0.5$. </COGINST>"
   ]
  },
  {
   "cell_type": "code",
   "execution_count": null,
   "id": "b733b6e0",
   "metadata": {},
   "outputs": [],
   "source": [
    "# STUDENT CODE\n",
    "\n",
    "\n",
    "\n",
    "\n",
    "\n"
   ]
  },
  {
   "cell_type": "markdown",
   "id": "c6694b17",
   "metadata": {},
   "source": [
    "(1.5.4) Perform a DFT on a noisy (i.e. random) signal that is centered around $0$.\n",
    "Have the noisy signal last for $5$ seconds."
   ]
  },
  {
   "cell_type": "code",
   "execution_count": null,
   "id": "edf38671",
   "metadata": {},
   "outputs": [],
   "source": [
    "def noise(t: np.ndarray) -> np.ndarray:\n",
    "    #STUDENT CODE \n",
    "\n"
   ]
  }
 ],
 "metadata": {
  "kernelspec": {
   "display_name": "Python 3 (ipykernel)",
   "language": "python",
   "name": "python3"
  },
  "language_info": {
   "codemirror_mode": {
    "name": "ipython",
    "version": 3
   },
   "file_extension": ".py",
   "mimetype": "text/x-python",
   "name": "python",
   "nbconvert_exporter": "python",
   "pygments_lexer": "ipython3",
   "version": "3.8.12"
  }
 },
 "nbformat": 4,
 "nbformat_minor": 5
}

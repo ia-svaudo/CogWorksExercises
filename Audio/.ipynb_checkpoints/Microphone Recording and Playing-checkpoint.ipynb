{
 "cells": [
  {
   "cell_type": "markdown",
   "id": "43e03bfe",
   "metadata": {},
   "source": [
    "\n",
    "# Recording and Playing Audio\n",
    "\n",
    "See https://github.com/CogWorksBWSI/Microphone for more information. \n"
   ]
  },
  {
   "cell_type": "markdown",
   "id": "c02f0052",
   "metadata": {},
   "source": [
    "### Record Audio"
   ]
  },
  {
   "cell_type": "code",
   "execution_count": 1,
   "id": "c82c5a69",
   "metadata": {
    "scrolled": true
   },
   "outputs": [
    {
     "name": "stdout",
     "output_type": "stream",
     "text": [
      "No microphone configuration file found, attempting to find default device..\n",
      "Using input device 'Microphone Array (Realtek High '\n",
      "Recording ended\n"
     ]
    }
   ],
   "source": [
    "from microphone import record_audio\n",
    "\n",
    "# Record 5 seconds of audio\n",
    "byte_encoded_signal, sampling_rate = record_audio(5)\n"
   ]
  },
  {
   "cell_type": "markdown",
   "id": "433c634e",
   "metadata": {},
   "source": [
    "### Play Audio"
   ]
  },
  {
   "cell_type": "code",
   "execution_count": 2,
   "id": "4ebd3a16",
   "metadata": {},
   "outputs": [],
   "source": [
    "from microphone import play_audio\n",
    "\n",
    "# Play 5 seconds of audio\n",
    "play_audio(byte_encoded_signal, 5)\n"
   ]
  }
 ],
 "metadata": {
  "kernelspec": {
   "display_name": "Python 3 (ipykernel)",
   "language": "python",
   "name": "python3"
  },
  "language_info": {
   "codemirror_mode": {
    "name": "ipython",
    "version": 3
   },
   "file_extension": ".py",
   "mimetype": "text/x-python",
   "name": "python",
   "nbconvert_exporter": "python",
   "pygments_lexer": "ipython3",
   "version": "3.8.11"
  }
 },
 "nbformat": 4,
 "nbformat_minor": 5
}

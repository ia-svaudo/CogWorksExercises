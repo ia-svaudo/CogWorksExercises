{
 "cells": [
  {
   "cell_type": "markdown",
   "id": "43e03bfe",
   "metadata": {},
   "source": [
    "\n",
    "# Recording and Playing Audio\n",
    "\n",
    "See https://github.com/CogWorksBWSI/Microphone for more information. \n"
   ]
  },
  {
   "cell_type": "markdown",
   "id": "c02f0052",
   "metadata": {},
   "source": [
    "### Record Audio"
   ]
  },
  {
   "cell_type": "code",
   "execution_count": 3,
   "id": "c82c5a69",
   "metadata": {
    "scrolled": true
   },
   "outputs": [
    {
     "ename": "ModuleNotFoundError",
     "evalue": "No module named 'microphone'",
     "output_type": "error",
     "traceback": [
      "\u001b[1;31m---------------------------------------------------------------------------\u001b[0m",
      "\u001b[1;31mModuleNotFoundError\u001b[0m                       Traceback (most recent call last)",
      "\u001b[1;32m~\\AppData\\Local\\Temp/ipykernel_6348/2616419090.py\u001b[0m in \u001b[0;36m<module>\u001b[1;34m\u001b[0m\n\u001b[1;32m----> 1\u001b[1;33m \u001b[1;32mfrom\u001b[0m \u001b[0mmicrophone\u001b[0m \u001b[1;32mimport\u001b[0m \u001b[0mrecord_audio\u001b[0m\u001b[1;33m\u001b[0m\u001b[1;33m\u001b[0m\u001b[0m\n\u001b[0m\u001b[0;32m      2\u001b[0m \u001b[1;33m\u001b[0m\u001b[0m\n\u001b[0;32m      3\u001b[0m \u001b[1;31m# Record 5 seconds of audio\u001b[0m\u001b[1;33m\u001b[0m\u001b[1;33m\u001b[0m\u001b[1;33m\u001b[0m\u001b[0m\n\u001b[0;32m      4\u001b[0m \u001b[0mbyte_encoded_signal\u001b[0m\u001b[1;33m,\u001b[0m \u001b[0msampling_rate\u001b[0m \u001b[1;33m=\u001b[0m \u001b[0mrecord_audio\u001b[0m\u001b[1;33m(\u001b[0m\u001b[1;36m5\u001b[0m\u001b[1;33m)\u001b[0m\u001b[1;33m\u001b[0m\u001b[1;33m\u001b[0m\u001b[0m\n",
      "\u001b[1;31mModuleNotFoundError\u001b[0m: No module named 'microphone'"
     ]
    }
   ],
   "source": [
    "from microphone import record_audio\n",
    "\n",
    "# Record 5 seconds of audio\n",
    "byte_encoded_signal, sampling_rate = record_audio(5)\n"
   ]
  },
  {
   "cell_type": "markdown",
   "id": "433c634e",
   "metadata": {},
   "source": [
    "### Play Audio"
   ]
  },
  {
   "cell_type": "code",
   "execution_count": 2,
   "id": "4ebd3a16",
   "metadata": {},
   "outputs": [],
   "source": [
    "from microphone import play_audio\n",
    "\n",
    "# Play 5 seconds of audio\n",
    "play_audio(byte_encoded_signal, 5)\n"
   ]
  },
  {
   "cell_type": "code",
   "execution_count": null,
   "id": "8aac5a09",
   "metadata": {},
   "outputs": [],
   "source": []
  },
  {
   "cell_type": "code",
   "execution_count": null,
   "id": "49ceccb3",
   "metadata": {},
   "outputs": [],
   "source": []
  }
 ],
 "metadata": {
  "kernelspec": {
   "display_name": "Python 3 (ipykernel)",
   "language": "python",
   "name": "python3"
  },
  "language_info": {
   "codemirror_mode": {
    "name": "ipython",
    "version": 3
   },
   "file_extension": ".py",
   "mimetype": "text/x-python",
   "name": "python",
   "nbconvert_exporter": "python",
   "pygments_lexer": "ipython3",
   "version": "3.8.11"
  }
 },
 "nbformat": 4,
 "nbformat_minor": 5
}

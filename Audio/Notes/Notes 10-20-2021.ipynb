{
 "cells": [
  {
   "cell_type": "code",
   "execution_count": null,
   "id": "67c64386",
   "metadata": {},
   "outputs": [],
   "source": [
    "#numpy.fft.rfft() & numpy,fft.irfft() for real data\n",
    "#numpy.fft.fft() & numpy.fft.ifft() for both real and complex"
   ]
  },
  {
   "cell_type": "code",
   "execution_count": 1,
   "id": "04466f54",
   "metadata": {},
   "outputs": [
    {
     "data": {
      "image/png": "[encoded data removed]",
      "text/plain": [
       "<Figure size 432x288 with 1 Axes>"
      ]
     },
     "metadata": {
      "needs_background": "light"
     },
     "output_type": "display_data"
    }
   ],
   "source": [
    "import numpy as np\n",
    "\n",
    "def dft_sample_points(T: float, N: int) -> np.ndarray:\n",
    "    # numpy.arange(N) returns array([0, 1, ..., N - 1])\n",
    "    return np.arange(N) * T / N\n",
    "import numpy as np\n",
    "\n",
    "def fourier_complex_to_real(complex_coeffs, N):\n",
    "    \"\"\"\n",
    "    Converts complex-valued Fourier coefficients (of\n",
    "    real-valued data) to the associated amplitudes and\n",
    "    phase-shifts of the real-valued sinusoids\n",
    "\n",
    "    Parameters\n",
    "    ----------\n",
    "    complex_coeffs : numpy.ndarray, shape-(N//2 + 1,)\n",
    "        The complex valued Fourier coefficients for k=0, 1, ...\n",
    "\n",
    "    N : int\n",
    "        The number of samples that the DFT was performed on.\n",
    "\n",
    "    Returns\n",
    "    -------\n",
    "    Tuple[numpy.ndarray, numpy.ndarray]\n",
    "        (amplitudes, phase-shifts)\n",
    "        Two real-valued, shape-(N//2 + 1,) arrays\n",
    "    \"\"\"\n",
    "    amplitudes = np.abs(complex_coeffs) / N\n",
    "\n",
    "    # |a_k| = 2 |c_k| / N for all k except for\n",
    "    # k=0 and k=N/2 (only if N is even)\n",
    "    # where |a_k| = |c_k| / N\n",
    "    amplitudes[1 : (-1 if N % 2 == 0 else None)] *= 2\n",
    "\n",
    "    phases = np.arctan2(-complex_coeffs.imag, complex_coeffs.real)\n",
    "    return amplitudes, phases\n",
    "#`dft_sample_points` is from the \"Type-1 DFT Sampling\" reading comprehension\n",
    "# `fourier_complex_to_real` is from the \"Converting  c_k  to  a_k\" reading comprehension\n",
    "\n",
    "import matplotlib.pyplot as plt\n",
    "%matplotlib inline\n",
    "\n",
    "\n",
    "def f(t):\n",
    "    return sum(amp * np.sin(2 * np.pi * freq * t) for amp, freq in zip((2, 3, 1), (1, 4, 16)))\n",
    "\n",
    "\n",
    "N = 100\n",
    "T = 2  # units: seconds\n",
    "\n",
    "\n",
    "# sample at t_n = n/N * T; n = 0, 1, ..., N-1\n",
    "times = dft_sample_points(T=T, N=N)\n",
    "\n",
    "# evaluate function at sampled times\n",
    "samples = f(times)\n",
    "\n",
    "# perform FFT on real-valued data\n",
    "ck = np.fft.rfft(samples) # N//2 + 1 complex-valued coeffs\n",
    "\n",
    "\n",
    "# convert each c_k to |a_k| and phi_k\n",
    "amps, phases = fourier_complex_to_real(ck, N=N)\n",
    "\n",
    "# k=0, 1, ..., N//2 -> freq=0/T, 1/T, ..., (N//2)/T\n",
    "freqs = np.arange(len(ck)) / T  # convert k to freq (Hz)\n",
    "\n",
    "fig, ax = plt.subplots()\n",
    "\n",
    "# plot |a_k| vs freq\n",
    "ax.stem(freqs, amps, use_line_collection=True, basefmt=\" \")\n",
    "\n",
    "ax.set_xlabel(r\"$\\nu_k$ [Hz]\")\n",
    "ax.set_ylabel(r\"$|a_k|$\")\n",
    "ax.grid(True);"
   ]
  },
  {
   "cell_type": "code",
   "execution_count": null,
   "id": "d5595530",
   "metadata": {},
   "outputs": [],
   "source": []
  }
 ],
 "metadata": {
  "kernelspec": {
   "display_name": "Python 3 (ipykernel)",
   "language": "python",
   "name": "python3"
  },
  "language_info": {
   "codemirror_mode": {
    "name": "ipython",
    "version": 3
   },
   "file_extension": ".py",
   "mimetype": "text/x-python",
   "name": "python",
   "nbconvert_exporter": "python",
   "pygments_lexer": "ipython3",
   "version": "3.8.11"
  }
 },
 "nbformat": 4,
 "nbformat_minor": 5
}

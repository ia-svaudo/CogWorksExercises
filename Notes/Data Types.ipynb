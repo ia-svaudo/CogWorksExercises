{
 "cells": [
  {
   "cell_type": "markdown",
   "id": "c2391c97",
   "metadata": {},
   "source": [
    "Sets take less time to check for membership compared to lists"
   ]
  },
  {
   "cell_type": "markdown",
   "id": "3f252235",
   "metadata": {},
   "source": [
    "f(x) sum of several terms, largest growth factor, all others can be ommited\n",
    "O(n) is the complexity of a function with a growth rate of n\n",
    "f(x)= x^4+x^3+x, f(x) = O(n^4)"
   ]
  },
  {
   "cell_type": "markdown",
   "id": "5bcd3bb1",
   "metadata": {},
   "source": [
    "every for loop multiplies the O function by n"
   ]
  },
  {
   "cell_type": "markdown",
   "id": "aa56b0ea",
   "metadata": {},
   "source": []
  },
  {
   "cell_type": "markdown",
   "id": "ffb8768d",
   "metadata": {},
   "source": [
    "sets cant be made just by {}, but with a set() function"
   ]
  },
  {
   "cell_type": "code",
   "execution_count": null,
   "id": "2de57762",
   "metadata": {},
   "outputs": [],
   "source": []
  }
 ],
 "metadata": {
  "kernelspec": {
   "display_name": "Python 3",
   "language": "python",
   "name": "python3"
  },
  "language_info": {
   "codemirror_mode": {
    "name": "ipython",
    "version": 3
   },
   "file_extension": ".py",
   "mimetype": "text/x-python",
   "name": "python",
   "nbconvert_exporter": "python",
   "pygments_lexer": "ipython3",
   "version": "3.8.8"
  }
 },
 "nbformat": 4,
 "nbformat_minor": 5
}

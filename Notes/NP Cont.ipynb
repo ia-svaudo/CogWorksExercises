{
 "cells": [
  {
   "cell_type": "markdown",
   "id": "c8240b94",
   "metadata": {},
   "source": [
    "NP arrays can be joined\n",
    "\n",
    ".vstack() takes each one and makes it horizontal"
   ]
  },
  {
   "cell_type": "markdown",
   "id": "f80d7182",
   "metadata": {},
   "source": [
    "Array traversal Order\n",
    "\n",
    ".ndenumerate() enumerates all values and their position"
   ]
  },
  {
   "cell_type": "markdown",
   "id": "af374883",
   "metadata": {},
   "source": []
  }
 ],
 "metadata": {
  "kernelspec": {
   "display_name": "Python 3",
   "language": "python",
   "name": "python3"
  },
  "language_info": {
   "codemirror_mode": {
    "name": "ipython",
    "version": 3
   },
   "file_extension": ".py",
   "mimetype": "text/x-python",
   "name": "python",
   "nbconvert_exporter": "python",
   "pygments_lexer": "ipython3",
   "version": "3.8.8"
  }
 },
 "nbformat": 4,
 "nbformat_minor": 5
}

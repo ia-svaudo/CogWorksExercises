{
 "cells": [
  {
   "cell_type": "markdown",
   "id": "11583359",
   "metadata": {},
   "source": [
    "**Microphone Mechanics**\n",
    "\n",
    "5K-8K of wire around magnet to turn the movement of the string into electricity, induces a current.\n",
    "\n"
   ]
  },
  {
   "cell_type": "code",
   "execution_count": null,
   "id": "381cbb02",
   "metadata": {},
   "outputs": [],
   "source": []
  }
 ],
 "metadata": {
  "kernelspec": {
   "display_name": "Python 3 (ipykernel)",
   "language": "python",
   "name": "python3"
  },
  "language_info": {
   "codemirror_mode": {
    "name": "ipython",
    "version": 3
   },
   "file_extension": ".py",
   "mimetype": "text/x-python",
   "name": "python",
   "nbconvert_exporter": "python",
   "pygments_lexer": "ipython3",
   "version": "3.8.11"
  }
 },
 "nbformat": 4,
 "nbformat_minor": 5
}

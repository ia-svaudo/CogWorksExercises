{
 "cells": [
  {
   "cell_type": "code",
   "execution_count": 2,
   "id": "34020264",
   "metadata": {},
   "outputs": [],
   "source": [
    "import numpy as np"
   ]
  },
  {
   "cell_type": "markdown",
   "id": "ed5c1f3b",
   "metadata": {},
   "source": [
    "Broadcasting\n",
    "\n",
    "a*b where b is either an array with 1 element or with a same dimensional array as a"
   ]
  },
  {
   "cell_type": "markdown",
   "id": "ec020279",
   "metadata": {},
   "source": [
    "arr.mean(0) 0 is the first element\n"
   ]
  },
  {
   "cell_type": "markdown",
   "id": "ab006f18",
   "metadata": {},
   "source": [
    "inserting a size-1 dimension array"
   ]
  },
  {
   "cell_type": "code",
   "execution_count": 4,
   "id": "4fe12c0b",
   "metadata": {},
   "outputs": [
    {
     "data": {
      "text/plain": [
       "array([[[[1]],\n",
       "\n",
       "        [[2]],\n",
       "\n",
       "        [[3]]]])"
      ]
     },
     "execution_count": 4,
     "metadata": {},
     "output_type": "execute_result"
    }
   ],
   "source": [
    "np.array([1,2,3]).reshape([1,3,1,1])"
   ]
  },
  {
   "cell_type": "markdown",
   "id": "7cd2c786",
   "metadata": {},
   "source": [
    "broadcasting not always the optimal solution"
   ]
  },
  {
   "cell_type": "code",
   "execution_count": 9,
   "id": "acbbeec0",
   "metadata": {},
   "outputs": [
    {
     "data": {
      "text/plain": [
       "array([[ 3.67797499,  8.45241977, 10.30566349,  7.37106505,  6.21519107,\n",
       "         5.55479973],\n",
       "       [10.14568381,  5.87925165,  2.92740499,  4.11144743,  3.9097826 ,\n",
       "         5.22593532],\n",
       "       [ 7.32185769,  0.84386018,  6.873398  ,  4.56873068,  7.32833542,\n",
       "         4.82158688],\n",
       "       [10.33895062,  7.03196985,  7.47451002,  7.06332783,  3.59991667,\n",
       "         4.01071066],\n",
       "       [ 8.28775603,  3.54677318,  6.33600032,  4.90138756,  4.18583325,\n",
       "         2.02573443]])"
      ]
     },
     "execution_count": 9,
     "metadata": {},
     "output_type": "execute_result"
    }
   ],
   "source": [
    "# a shape-(5, 3) array\n",
    "x = np.array([[ 8.54,  1.54,  8.12],\n",
    "              [ 3.13,  8.76,  5.29],\n",
    "              [ 7.73,  6.71,  1.31],\n",
    "              [ 6.44,  9.64,  8.44],\n",
    "              [ 7.27,  8.42,  5.27]])\n",
    "\n",
    "# a shape-(6, 3) array\n",
    "y = np.array([[ 8.65,  0.27,  4.67],\n",
    "              [ 7.73,  7.26,  1.95],\n",
    "              [ 1.27,  7.27,  3.59],\n",
    "              [ 4.05,  5.16,  3.53],\n",
    "              [ 4.77,  6.48,  8.01],\n",
    "              [ 7.85,  6.68,  6.13]])\n",
    "\n",
    "def pairwise_dists_looped(x,y):\n",
    "    dists = np.empty((5,6))\n",
    "    for i,row_x in enumerate(x):\n",
    "        for j,row_y in enumerate(y):\n",
    "            dists[i,j] = np.sum((row_x - row_y)**2)\n",
    "    return np.sqrt(dists)\n",
    "pairwise_dists_looped(x,y)"
   ]
  },
  {
   "cell_type": "code",
   "execution_count": 12,
   "id": "0192d795",
   "metadata": {},
   "outputs": [
    {
     "data": {
      "text/plain": [
       "False"
      ]
     },
     "execution_count": 12,
     "metadata": {},
     "output_type": "execute_result"
    }
   ],
   "source": [
    "0.1+0.1+0.1-0.3==0"
   ]
  }
 ],
 "metadata": {
  "kernelspec": {
   "display_name": "Python 3",
   "language": "python",
   "name": "python3"
  },
  "language_info": {
   "codemirror_mode": {
    "name": "ipython",
    "version": 3
   },
   "file_extension": ".py",
   "mimetype": "text/x-python",
   "name": "python",
   "nbconvert_exporter": "python",
   "pygments_lexer": "ipython3",
   "version": "3.8.8"
  }
 },
 "nbformat": 4,
 "nbformat_minor": 5
}

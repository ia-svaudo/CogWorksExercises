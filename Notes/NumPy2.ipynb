{
 "cells": [
  {
   "cell_type": "code",
   "execution_count": 2,
   "id": "5bba24cc",
   "metadata": {},
   "outputs": [],
   "source": [
    "import numpy as np"
   ]
  },
  {
   "cell_type": "code",
   "execution_count": 3,
   "id": "d78bb022",
   "metadata": {},
   "outputs": [],
   "source": [
    "#NumPy Indexing - 9/29/2021\n",
    "x = np.array([[ -5,   2,  0, -7],\n",
    "              [ -1,   9,  3,  8],\n",
    "              [ -3,  -3,  4,  6]])"
   ]
  },
  {
   "cell_type": "code",
   "execution_count": 4,
   "id": "b6fbbfcb",
   "metadata": {},
   "outputs": [
    {
     "data": {
      "text/plain": [
       "8"
      ]
     },
     "execution_count": 4,
     "metadata": {},
     "output_type": "execute_result"
    }
   ],
   "source": [
    "# Accessing the element located\n",
    "# at row-1, last-column of `x`\n",
    "x[1, -1]"
   ]
  },
  {
   "cell_type": "code",
   "execution_count": 5,
   "id": "80981de7",
   "metadata": {},
   "outputs": [
    {
     "data": {
      "text/plain": [
       "array([[-5,  2,  0],\n",
       "       [-1,  9,  3]])"
      ]
     },
     "execution_count": 5,
     "metadata": {},
     "output_type": "execute_result"
    }
   ],
   "source": [
    "# Access the subarray of `x`\n",
    "# contained within the first two rows\n",
    "# and the first three columns\n",
    "x[:2, :3]"
   ]
  },
  {
   "cell_type": "code",
   "execution_count": 7,
   "id": "944c036a",
   "metadata": {},
   "outputs": [
    {
     "data": {
      "text/plain": [
       "array([-5,  2,  0, -7])"
      ]
     },
     "execution_count": 7,
     "metadata": {},
     "output_type": "execute_result"
    }
   ],
   "source": [
    "# NumPy fills in \"trailing\" slices\n",
    "# if we don't supply as many indices\n",
    "# as there are dimensions in that array\n",
    "x[0]  # equivalent to x[0, :]\n"
   ]
  },
  {
   "cell_type": "code",
   "execution_count": 10,
   "id": "4b5a9b3c",
   "metadata": {},
   "outputs": [],
   "source": [
    "y = np.array([[[ 0,  1,  2,  3],\n",
    "              [ 4,  5,  6,  7]],\n",
    "\n",
    "             [[ 8,  9, 10, 11],\n",
    "              [12, 13, 14, 15]],\n",
    "\n",
    "             [[16, 17, 18, 19],\n",
    "              [20, 21, 22, 23]]])"
   ]
  },
  {
   "cell_type": "code",
   "execution_count": 11,
   "id": "7d39cbf1",
   "metadata": {},
   "outputs": [
    {
     "data": {
      "text/plain": [
       "array([[ 0,  4],\n",
       "       [ 8, 12],\n",
       "       [16, 20]])"
      ]
     },
     "execution_count": 11,
     "metadata": {},
     "output_type": "execute_result"
    }
   ],
   "source": [
    "# equivalent: `y[:, :, 0]`\n",
    "y[..., 0]"
   ]
  },
  {
   "cell_type": "code",
   "execution_count": 12,
   "id": "6b2397e7",
   "metadata": {},
   "outputs": [
    {
     "data": {
      "text/plain": [
       "array([[ 0,  4],\n",
       "       [ 8, 12],\n",
       "       [16, 20]])"
      ]
     },
     "execution_count": 12,
     "metadata": {},
     "output_type": "execute_result"
    }
   ],
   "source": [
    "# using an explicit tuple\n",
    "y[(Ellipsis, 0)]"
   ]
  },
  {
   "cell_type": "code",
   "execution_count": 13,
   "id": "4fc43acf",
   "metadata": {},
   "outputs": [
    {
     "data": {
      "text/plain": [
       "array([1, 5])"
      ]
     },
     "execution_count": 13,
     "metadata": {},
     "output_type": "execute_result"
    }
   ],
   "source": [
    "# equivalent: `y[0, :, 1]`\n",
    "y[0, ..., 1]"
   ]
  },
  {
   "cell_type": "markdown",
   "id": "82123af3",
   "metadata": {},
   "source": [
    "An index *cannot* possess more than one Ellipsis entry."
   ]
  },
  {
   "cell_type": "code",
   "execution_count": 19,
   "id": "3fc830b0",
   "metadata": {},
   "outputs": [
    {
     "data": {
      "text/plain": [
       "array([[ 3.31,  4.71,  0.4 ],\n",
       "       [ 0.21,  2.85,  3.21],\n",
       "       [-3.77,  4.53, -1.15]])"
      ]
     },
     "execution_count": 19,
     "metadata": {},
     "output_type": "execute_result"
    }
   ],
   "source": [
    "z = np.array([[ 3.31,  4.71,  0.4 ],\n",
    "              [ 0.21,  2.85,  3.21],\n",
    "              [-3.77,  4.53, -1.15]])\n",
    "x = np.array([[ 3.31,  4.71,  0.4 ],\n",
    "              [ 0.21,  2.85,  3.21],\n",
    "              [-3.77,  4.53, -1.15]])\n",
    "z"
   ]
  },
  {
   "cell_type": "code",
   "execution_count": 20,
   "id": "d4f4ed3f",
   "metadata": {},
   "outputs": [
    {
     "data": {
      "text/plain": [
       "array([ 3.31,  0.21, -3.77])"
      ]
     },
     "execution_count": 20,
     "metadata": {},
     "output_type": "execute_result"
    }
   ],
   "source": [
    "subarray = z[:, 0] #If z changes, subbarray changes as well\n",
    "subarray"
   ]
  },
  {
   "cell_type": "code",
   "execution_count": 21,
   "id": "bab2b9fe",
   "metadata": {},
   "outputs": [
    {
     "data": {
      "text/plain": [
       "True"
      ]
     },
     "execution_count": 21,
     "metadata": {},
     "output_type": "execute_result"
    }
   ],
   "source": [
    "np.shares_memory(subarray, z) #np.shares_memory() checks if 2 NP arrays share a memeory (i.e. one refers to another)"
   ]
  },
  {
   "cell_type": "code",
   "execution_count": 22,
   "id": "6e60f220",
   "metadata": {},
   "outputs": [
    {
     "data": {
      "text/plain": [
       "False"
      ]
     },
     "execution_count": 22,
     "metadata": {},
     "output_type": "execute_result"
    }
   ],
   "source": [
    "np.shares_memory(x, z)"
   ]
  },
  {
   "cell_type": "code",
   "execution_count": 24,
   "id": "91ab9fee",
   "metadata": {},
   "outputs": [],
   "source": [
    "newsubarray = np.copy(subarray)"
   ]
  },
  {
   "cell_type": "code",
   "execution_count": 25,
   "id": "5389d277",
   "metadata": {},
   "outputs": [
    {
     "data": {
      "text/plain": [
       "False"
      ]
     },
     "execution_count": 25,
     "metadata": {},
     "output_type": "execute_result"
    }
   ],
   "source": [
    "np.shares_memory(newsubarray, subarray)"
   ]
  },
  {
   "cell_type": "code",
   "execution_count": 27,
   "id": "b9ad738e",
   "metadata": {},
   "outputs": [
    {
     "data": {
      "text/plain": [
       "False"
      ]
     },
     "execution_count": 27,
     "metadata": {},
     "output_type": "execute_result"
    }
   ],
   "source": [
    "#Math operations dont link arrays in memory\n",
    "np.shares_memory(subarray+2, subarray)"
   ]
  },
  {
   "cell_type": "code",
   "execution_count": 28,
   "id": "a84b5b1b",
   "metadata": {},
   "outputs": [
    {
     "data": {
      "text/plain": [
       "True"
      ]
     },
     "execution_count": 28,
     "metadata": {},
     "output_type": "execute_result"
    }
   ],
   "source": [
    "#In-place Assignments\n",
    "a = np.array([0, 1, 2, 3, 4]) \n",
    "b = a[:]\n",
    "np.shares_memory(a, b)"
   ]
  },
  {
   "cell_type": "code",
   "execution_count": 30,
   "id": "c57ba3db",
   "metadata": {},
   "outputs": [
    {
     "data": {
      "text/plain": [
       "array([0, 1, 2, 3, 4])"
      ]
     },
     "execution_count": 30,
     "metadata": {},
     "output_type": "execute_result"
    }
   ],
   "source": [
    "# `a` is now assigned to reference a distinct array\n",
    "a = np.array([0, -1, -2, -3, -4])\n",
    "b"
   ]
  },
  {
   "cell_type": "code",
   "execution_count": 33,
   "id": "583da07f",
   "metadata": {},
   "outputs": [
    {
     "data": {
      "text/plain": [
       "False"
      ]
     },
     "execution_count": 33,
     "metadata": {},
     "output_type": "execute_result"
    }
   ],
   "source": [
    "np.shares_memory(a, b) #link is broken when `a` is changed"
   ]
  },
  {
   "cell_type": "code",
   "execution_count": 34,
   "id": "a6323818",
   "metadata": {},
   "outputs": [
    {
     "data": {
      "text/plain": [
       "array([ 0, -1, -2, -3, -4])"
      ]
     },
     "execution_count": 34,
     "metadata": {},
     "output_type": "execute_result"
    }
   ],
   "source": [
    "# reinitialize `a` and `b`.\n",
    "# `b` is again a view of `a`\n",
    "a = np.array([0, 1, 2, 3, 4])\n",
    "b = a[:]\n",
    "# assigning an array to a *view* of `a`\n",
    "# causes NumPy to update the data in-place\n",
    "a[:] = np.array([0, -1, -2, -3, -4])\n",
    "a"
   ]
  },
  {
   "cell_type": "code",
   "execution_count": 35,
   "id": "1eebe5ee",
   "metadata": {},
   "outputs": [
    {
     "data": {
      "text/plain": [
       "array([ 0, -1, -2, -3, -4])"
      ]
     },
     "execution_count": 35,
     "metadata": {},
     "output_type": "execute_result"
    }
   ],
   "source": [
    "# `b` a view of the same data, thus it is affected by this in-place assignment\n",
    "b"
   ]
  },
  {
   "cell_type": "code",
   "execution_count": 36,
   "id": "609e6301",
   "metadata": {},
   "outputs": [
    {
     "data": {
      "text/plain": [
       "True"
      ]
     },
     "execution_count": 36,
     "metadata": {},
     "output_type": "execute_result"
    }
   ],
   "source": [
    "np.shares_memory(a, b)"
   ]
  },
  {
   "cell_type": "markdown",
   "id": "963e0277",
   "metadata": {},
   "source": [
    "x += 5 instead of\n",
    "x = x + 5\n"
   ]
  },
  {
   "cell_type": "code",
   "execution_count": 41,
   "id": "8accf612",
   "metadata": {},
   "outputs": [],
   "source": [
    "a = np.array([[ 0,  1,  2,  3],\n",
    "              [ 4,  5,  6,  7],\n",
    "              [ 8,  9, 10, 11]])\n",
    "b = a[0]\n",
    "c = a[0]"
   ]
  },
  {
   "cell_type": "code",
   "execution_count": 42,
   "id": "631f038d",
   "metadata": {},
   "outputs": [
    {
     "data": {
      "text/plain": [
       "True"
      ]
     },
     "execution_count": 42,
     "metadata": {},
     "output_type": "execute_result"
    }
   ],
   "source": [
    "np.shares_memory(a, b) and np.shares_memory(a, c)\n"
   ]
  },
  {
   "cell_type": "code",
   "execution_count": 48,
   "id": "80c49359",
   "metadata": {},
   "outputs": [
    {
     "data": {
      "text/plain": [
       "False"
      ]
     },
     "execution_count": 48,
     "metadata": {},
     "output_type": "execute_result"
    }
   ],
   "source": [
    "b = b * -1\n",
    "np.shares_memory(a, b)"
   ]
  },
  {
   "cell_type": "code",
   "execution_count": 47,
   "id": "22f0ce66",
   "metadata": {},
   "outputs": [
    {
     "data": {
      "text/plain": [
       "True"
      ]
     },
     "execution_count": 47,
     "metadata": {},
     "output_type": "execute_result"
    }
   ],
   "source": [
    "c *= -2\n",
    "np.shares_memory(a, c)"
   ]
  },
  {
   "cell_type": "code",
   "execution_count": 53,
   "id": "7fb28fcf",
   "metadata": {},
   "outputs": [
    {
     "data": {
      "text/plain": [
       "True"
      ]
     },
     "execution_count": 53,
     "metadata": {},
     "output_type": "execute_result"
    }
   ],
   "source": [
    "a = np.array([0., 0.2, 0.4, 0.6, 0.8, 1.])\n",
    "b = a[:]\n",
    "np.shares_memory(a, b)\n"
   ]
  },
  {
   "cell_type": "code",
   "execution_count": 54,
   "id": "a6a655c1",
   "metadata": {},
   "outputs": [
    {
     "name": "stdout",
     "output_type": "stream",
     "text": [
      "[1.         1.22140276 1.4918247  1.8221188  2.22554093 2.71828183]\n",
      "[1.         1.22140276 1.4918247  1.8221188  2.22554093 2.71828183]\n"
     ]
    }
   ],
   "source": [
    "a = np.exp(a, out=a) #out= forces the output to go to a instead of making a new array\n",
    "print(a)\n",
    "print(b)"
   ]
  },
  {
   "cell_type": "code",
   "execution_count": 55,
   "id": "6be69852",
   "metadata": {},
   "outputs": [],
   "source": [
    "def add_3(x):\n",
    "    x += 3\n",
    "    return x"
   ]
  },
  {
   "cell_type": "code",
   "execution_count": 56,
   "id": "b9573a81",
   "metadata": {},
   "outputs": [
    {
     "data": {
      "text/plain": [
       "array([3, 4, 5])"
      ]
     },
     "execution_count": 56,
     "metadata": {},
     "output_type": "execute_result"
    }
   ],
   "source": [
    "y = np.array([0, 1, 2])\n",
    "z = add_3(y)\n",
    "z"
   ]
  },
  {
   "cell_type": "code",
   "execution_count": 57,
   "id": "b28ca944",
   "metadata": {},
   "outputs": [
    {
     "data": {
      "text/plain": [
       "array([3, 4, 5])"
      ]
     },
     "execution_count": 57,
     "metadata": {},
     "output_type": "execute_result"
    }
   ],
   "source": [
    "y"
   ]
  },
  {
   "cell_type": "code",
   "execution_count": 3,
   "id": "aac73291",
   "metadata": {},
   "outputs": [
    {
     "data": {
      "text/plain": [
       "array([[0, 0],\n",
       "       [8, 8]])"
      ]
     },
     "execution_count": 3,
     "metadata": {},
     "output_type": "execute_result"
    }
   ],
   "source": [
    "#Advanced Indexing 9-30\n",
    "x = np.array([[0, 1, 2],\n",
    "              [3, 4, 5],\n",
    "              [6, 7, 8]])\n",
    "\n",
    "rows = np.array([[0, 0],\n",
    "                 [2, 2]])\n",
    "\n",
    "cols = np.array([[0, 0],\n",
    "                 [2, 2]])\n",
    "\n",
    "x[rows, cols]"
   ]
  },
  {
   "cell_type": "code",
   "execution_count": 4,
   "id": "7c0fc9f8",
   "metadata": {},
   "outputs": [
    {
     "data": {
      "text/plain": [
       "array([0, 4, 8])"
      ]
     },
     "execution_count": 4,
     "metadata": {},
     "output_type": "execute_result"
    }
   ],
   "source": [
    "bool_index = np.array([[True, False, False],\n",
    "                       [False, True, False],\n",
    "                       [False, False, True]])\n",
    "\n",
    "x[bool_index]"
   ]
  },
  {
   "cell_type": "code",
   "execution_count": 6,
   "id": "79dead60",
   "metadata": {},
   "outputs": [
    {
     "data": {
      "text/plain": [
       "False"
      ]
     },
     "execution_count": 6,
     "metadata": {},
     "output_type": "execute_result"
    }
   ],
   "source": [
    "np.shares_memory(x, x[rows, cols])\n",
    "\n",
    "\n",
    "np.shares_memory(x, x[bool_index])\n"
   ]
  },
  {
   "cell_type": "code",
   "execution_count": 7,
   "id": "13c6a064",
   "metadata": {},
   "outputs": [
    {
     "data": {
      "text/plain": [
       "array([-2, -4,  0, -4, -4, -4])"
      ]
     },
     "execution_count": 7,
     "metadata": {},
     "output_type": "execute_result"
    }
   ],
   "source": [
    "y = np.array([ 0, -1, -2, -3, -4, -5])\n",
    "index = np.array([2, 4, 0, 4, 4, 4])\n",
    "y[index]"
   ]
  },
  {
   "cell_type": "code",
   "execution_count": 8,
   "id": "b4b8228d",
   "metadata": {},
   "outputs": [
    {
     "data": {
      "text/plain": [
       "False"
      ]
     },
     "execution_count": 8,
     "metadata": {},
     "output_type": "execute_result"
    }
   ],
   "source": [
    "np.shares_memory(y, y[index])"
   ]
  },
  {
   "cell_type": "code",
   "execution_count": 11,
   "id": "6f6122f2",
   "metadata": {},
   "outputs": [
    {
     "data": {
      "text/plain": [
       "array([ 3, 23,  4])"
      ]
     },
     "execution_count": 11,
     "metadata": {},
     "output_type": "execute_result"
    }
   ],
   "source": [
    "z = np.array([[[ 0,  1,  2,  3],\n",
    "               [ 4,  5,  6,  7],\n",
    "               [ 8,  9, 10, 11]],\n",
    "\n",
    "              [[12, 13, 14, 15],\n",
    "               [16, 17, 18, 19],\n",
    "               [20, 21, 22, 23]]])\n",
    "\n",
    "# specifies subsequent sheets to access\n",
    "ind0 = np.array([0, 1, 0])\n",
    "\n",
    "# specifies subsequent rows to access\n",
    "ind1 = np.array([0, 2, 1])\n",
    "\n",
    "# specifies subsequent columns to access\n",
    "ind2 = np.array([3, 3, 0])\n",
    "\n",
    "z[ind0, ind1, ind2]"
   ]
  },
  {
   "cell_type": "code",
   "execution_count": 12,
   "id": "4bb6b255",
   "metadata": {},
   "outputs": [
    {
     "data": {
      "text/plain": [
       "array([[17, 23],\n",
       "       [ 1, 15]])"
      ]
     },
     "execution_count": 12,
     "metadata": {},
     "output_type": "execute_result"
    }
   ],
   "source": [
    "ind0 = np.array([1, 1, 0, 1]).reshape(2, 2)\n",
    "ind1 = np.array([1, 2, 0, 0]).reshape(2, 2)\n",
    "ind2 = np.array([1, 3, 1, 3]).reshape(2, 2)\n",
    "z[ind0, ind1, ind2]"
   ]
  },
  {
   "cell_type": "code",
   "execution_count": 14,
   "id": "0924a056",
   "metadata": {},
   "outputs": [
    {
     "data": {
      "text/plain": [
       "array([0.49, 0.18, 0.43, 0.3 , 0.29, 0.3 , 0.28, 0.27])"
      ]
     },
     "execution_count": 14,
     "metadata": {},
     "output_type": "execute_result"
    }
   ],
   "source": [
    "x = np.array([[[-0.26,  0.49,  0.18],\n",
    "               [ 0.43,  0.3 ,  0.29]],\n",
    "\n",
    "              [[-0.44,  0.3 ,  0.28],\n",
    "               [ 0.27, -0.09, -0.13]]])\n",
    "\n",
    "bool_ind = x > 0\n",
    "\n",
    "x[bool_ind]\n"
   ]
  },
  {
   "cell_type": "code",
   "execution_count": 15,
   "id": "60dc8dea",
   "metadata": {},
   "outputs": [
    {
     "data": {
      "text/plain": [
       "(array([0, 0, 0, 0, 0, 1, 1, 1], dtype=int64),\n",
       " array([0, 0, 1, 1, 1, 0, 0, 1], dtype=int64),\n",
       " array([1, 2, 0, 1, 2, 1, 2, 0], dtype=int64))"
      ]
     },
     "execution_count": 15,
     "metadata": {},
     "output_type": "execute_result"
    }
   ],
   "source": [
    "bool_ind\n",
    "np.where(bool_ind)"
   ]
  },
  {
   "cell_type": "code",
   "execution_count": null,
   "id": "0705c969",
   "metadata": {},
   "outputs": [],
   "source": []
  }
 ],
 "metadata": {
  "kernelspec": {
   "display_name": "Python 3",
   "language": "python",
   "name": "python3"
  },
  "language_info": {
   "codemirror_mode": {
    "name": "ipython",
    "version": 3
   },
   "file_extension": ".py",
   "mimetype": "text/x-python",
   "name": "python",
   "nbconvert_exporter": "python",
   "pygments_lexer": "ipython3",
   "version": "3.8.8"
  }
 },
 "nbformat": 4,
 "nbformat_minor": 5
}

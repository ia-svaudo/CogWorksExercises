{
 "cells": [
  {
   "cell_type": "markdown",
   "id": "c2695deb",
   "metadata": {},
   "source": [
    "* is a symbol for an abutrairy arguments and numbers\n",
    "if the input could be any object type\n",
    "func my_func(*argument)"
   ]
  },
  {
   "cell_type": "markdown",
   "id": "81265991",
   "metadata": {},
   "source": [
    "** is used for an arbutrairy number of arguments, opposed to anytype of object"
   ]
  },
  {
   "cell_type": "markdown",
   "id": "af7dd144",
   "metadata": {},
   "source": [
    "functions can be called anywhere, as long as it is defined before it is used"
   ]
  },
  {
   "cell_type": "code",
   "execution_count": null,
   "id": "741e0442",
   "metadata": {},
   "outputs": [],
   "source": []
  }
 ],
 "metadata": {
  "kernelspec": {
   "display_name": "Python 3",
   "language": "python",
   "name": "python3"
  },
  "language_info": {
   "codemirror_mode": {
    "name": "ipython",
    "version": 3
   },
   "file_extension": ".py",
   "mimetype": "text/x-python",
   "name": "python",
   "nbconvert_exporter": "python",
   "pygments_lexer": "ipython3",
   "version": "3.8.8"
  }
 },
 "nbformat": 4,
 "nbformat_minor": 5
}

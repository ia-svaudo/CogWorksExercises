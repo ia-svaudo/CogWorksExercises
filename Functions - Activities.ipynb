{
 "cells": [
  {
   "cell_type": "markdown",
   "id": "97fb722d",
   "metadata": {},
   "source": [
    "## Functions\n",
    "\n",
    "Links to Official Documentation: \n",
    "\n",
    "[Definition of ‘function’](https://docs.python.org/3/library/stdtypes.html#functions)\n",
    "\n",
    "[Defining functions](https://docs.python.org/3/tutorial/controlflow.html#defining-functions)\n",
    "\n",
    "[Default argument values](https://docs.python.org/3/tutorial/controlflow.html#default-argument-values)\n",
    "\n",
    "[Keyword arguments](https://docs.python.org/3/tutorial/controlflow.html#keyword-arguments)\n",
    "\n",
    "[Specifying arbitrary arguments](https://docs.python.org/3/tutorial/controlflow.html#arbitrary-argument-lists)\n",
    "\n",
    "[Unpacking arguments](https://docs.python.org/3/tutorial/controlflow.html#unpacking-argument-lists)\n",
    "\n",
    "[Documentation strings](https://docs.python.org/3/tutorial/controlflow.html#documentation-strings)\n",
    "\n",
    "[Function annotations](https://docs.python.org/3/tutorial/controlflow.html#function-annotations)"
   ]
  },
  {
   "cell_type": "markdown",
   "id": "a47ece58",
   "metadata": {},
   "source": [
    "1. Write a function named `count_even`. It should accept one input argument, named `numbers`, which will be an iterable containing integers. Have the function return the number of even-valued integers contained in the list. Include a reasonable docstring."
   ]
  },
  {
   "cell_type": "code",
   "execution_count": 1,
   "id": "bdf94f09",
   "metadata": {},
   "outputs": [],
   "source": [
    "def count_even(ints):\n",
    "    count = 0\n",
    "    for i in ints:\n",
    "        if i%2==0:\n",
    "            count+=1\n",
    "    return count"
   ]
  },
  {
   "cell_type": "markdown",
   "id": "5fd15ee6",
   "metadata": {},
   "source": [
    "2. Write a function, `max_or_min`, which accepts two positional arguments, `x` and `y` (which will hold numerical values), and a `mode` variable that has the default value `\"max\"`. \n",
    "\n",
    "The function should return `min(x, y)` or `max(x, y)` according to the `mode`. Have the function return `None` if `mode` is neither `\"max\"` nor `\"min\"`.\n",
    "\n",
    "Include a descriptive doc-string.\n",
    "\n"
   ]
  },
  {
   "cell_type": "code",
   "execution_count": null,
   "id": "fc4dca84",
   "metadata": {},
   "outputs": [],
   "source": []
  },
  {
   "cell_type": "markdown",
   "id": "34f5a4f2",
   "metadata": {},
   "source": [
    "3. Write a function named `mean`, which accepts and arbitrary number of numerical arguments, and computes the mean of all of the values passed to the function. Thus `mean(1, 2, 3)` should return (1+2+3) / 3 = 2.0\n",
    "\n",
    "This function should return `0`. if no arguments are passed to it. Be sure to test your function, and include a docstring."
   ]
  },
  {
   "cell_type": "code",
   "execution_count": null,
   "id": "6a40eb73",
   "metadata": {},
   "outputs": [],
   "source": []
  }
 ],
 "metadata": {
  "kernelspec": {
   "display_name": "Python 3",
   "language": "python",
   "name": "python3"
  },
  "language_info": {
   "codemirror_mode": {
    "name": "ipython",
    "version": 3
   },
   "file_extension": ".py",
   "mimetype": "text/x-python",
   "name": "python",
   "nbconvert_exporter": "python",
   "pygments_lexer": "ipython3",
   "version": "3.8.8"
  }
 },
 "nbformat": 4,
 "nbformat_minor": 5
}

{
 "cells": [
  {
   "cell_type": "markdown",
   "id": "da5b5ff1",
   "metadata": {},
   "source": [
    "## Generators & Comprehension Expressions\n",
    "\n",
    "You may reference the following documentation if you need to look up something: \n",
    " * [Generator definition](https://docs.python.org/3/glossary.html#term-generator) \n",
    " * [range](https://docs.python.org/3/library/stdtypes.html#typesseq-range)\n",
    " * [Generator comprehension expressions](https://docs.python.org/3/tutorial/classes.html#generator-expressions)\n",
    " * [Iterator definition](https://docs.python.org/3/glossary.html#term-iterator)\n",
    " * [next](https://docs.python.org/3/library/functions.html#next)\n",
    " * [iter](https://docs.python.org/3/library/functions.html#iter)\n",
    " * [List comprehensions](https://docs.python.org/3/tutorial/datastructures.html#list-comprehensions)\n",
    " * [Nested list comprehensions](https://docs.python.org/3/tutorial/datastructures.html#nested-list-comprehensions) \n"
   ]
  },
  {
   "cell_type": "markdown",
   "id": "f300e074",
   "metadata": {},
   "source": [
    "__1.__ Using `range` in a for-loop, print the numbers 10-1, in sequence.\n",
    "\n"
   ]
  },
  {
   "cell_type": "code",
   "execution_count": 5,
   "id": "1212cf0e",
   "metadata": {},
   "outputs": [
    {
     "name": "stdout",
     "output_type": "stream",
     "text": [
      "10\n",
      "9\n",
      "8\n",
      "7\n",
      "6\n",
      "5\n",
      "4\n",
      "3\n",
      "2\n",
      "1\n"
     ]
    }
   ],
   "source": [
    "for i in range (1,11):\n",
    "    print(11-i)"
   ]
  },
  {
   "cell_type": "markdown",
   "id": "7b5b44d1",
   "metadata": {},
   "source": [
    "__2.__ Using a generator comprehension, define a generator for the series:\n",
    "\n",
    "`(0, 2).. (1, 3).. (2, 4).. (4, 6).. (5, 7)`\n",
    "\n",
    "Note that (3, 5) is _not_ in the series.\n",
    "\n",
    "Iterate over the generator and print its contents to verify your solution."
   ]
  },
  {
   "cell_type": "code",
   "execution_count": 1,
   "id": "e721c44f",
   "metadata": {},
   "outputs": [
    {
     "name": "stdout",
     "output_type": "stream",
     "text": [
      "(0, 2)\n",
      "(1, 3)\n",
      "(2, 4)\n",
      "(4, 6)\n",
      "(5, 7)\n"
     ]
    }
   ],
   "source": [
    "for i in range(0,6):\n",
    "    if i != 3:\n",
    "        print((i,i+2))"
   ]
  },
  {
   "cell_type": "markdown",
   "id": "111a0716",
   "metadata": {},
   "source": [
    "__3.__ In a single line, compute the sum of all of the odd-numbers in 0-100.\n",
    "\n"
   ]
  },
  {
   "cell_type": "code",
   "execution_count": 10,
   "id": "d7d09d92",
   "metadata": {},
   "outputs": [
    {
     "ename": "TypeError",
     "evalue": "'int' object is not callable",
     "output_type": "error",
     "traceback": [
      "\u001b[1;31m---------------------------------------------------------------------------\u001b[0m",
      "\u001b[1;31mTypeError\u001b[0m                                 Traceback (most recent call last)",
      "\u001b[1;32m<ipython-input-10-61b52bf76c09>\u001b[0m in \u001b[0;36m<module>\u001b[1;34m\u001b[0m\n\u001b[1;32m----> 1\u001b[1;33m \u001b[0msum\u001b[0m\u001b[1;33m(\u001b[0m\u001b[1;33m[\u001b[0m\u001b[0mi\u001b[0m \u001b[1;32mfor\u001b[0m \u001b[0mi\u001b[0m \u001b[1;32min\u001b[0m \u001b[0mrange\u001b[0m\u001b[1;33m(\u001b[0m\u001b[1;36m101\u001b[0m\u001b[1;33m)\u001b[0m \u001b[1;32mif\u001b[0m \u001b[0mi\u001b[0m\u001b[1;33m%\u001b[0m\u001b[1;36m2\u001b[0m \u001b[1;33m!=\u001b[0m \u001b[1;36m0\u001b[0m\u001b[1;33m]\u001b[0m\u001b[1;33m)\u001b[0m\u001b[1;33m\u001b[0m\u001b[1;33m\u001b[0m\u001b[0m\n\u001b[0m",
      "\u001b[1;31mTypeError\u001b[0m: 'int' object is not callable"
     ]
    }
   ],
   "source": [
    "sum([i for i in range(101) if i%2 != 0])"
   ]
  },
  {
   "cell_type": "markdown",
   "id": "7c86488a",
   "metadata": {},
   "source": [
    "__4.__ Use a list comprehension to create a list that contains the string “hello” 100 times.\n",
    "\n"
   ]
  },
  {
   "cell_type": "code",
   "execution_count": 8,
   "id": "34fe20f4",
   "metadata": {},
   "outputs": [
    {
     "data": {
      "text/plain": [
       "['hello',\n",
       " 'hello',\n",
       " 'hello',\n",
       " 'hello',\n",
       " 'hello',\n",
       " 'hello',\n",
       " 'hello',\n",
       " 'hello',\n",
       " 'hello',\n",
       " 'hello',\n",
       " 'hello',\n",
       " 'hello',\n",
       " 'hello',\n",
       " 'hello',\n",
       " 'hello',\n",
       " 'hello',\n",
       " 'hello',\n",
       " 'hello',\n",
       " 'hello',\n",
       " 'hello',\n",
       " 'hello',\n",
       " 'hello',\n",
       " 'hello',\n",
       " 'hello',\n",
       " 'hello',\n",
       " 'hello',\n",
       " 'hello',\n",
       " 'hello',\n",
       " 'hello',\n",
       " 'hello',\n",
       " 'hello',\n",
       " 'hello',\n",
       " 'hello',\n",
       " 'hello',\n",
       " 'hello',\n",
       " 'hello',\n",
       " 'hello',\n",
       " 'hello',\n",
       " 'hello',\n",
       " 'hello',\n",
       " 'hello',\n",
       " 'hello',\n",
       " 'hello',\n",
       " 'hello',\n",
       " 'hello',\n",
       " 'hello',\n",
       " 'hello',\n",
       " 'hello',\n",
       " 'hello',\n",
       " 'hello',\n",
       " 'hello',\n",
       " 'hello',\n",
       " 'hello',\n",
       " 'hello',\n",
       " 'hello',\n",
       " 'hello',\n",
       " 'hello',\n",
       " 'hello',\n",
       " 'hello',\n",
       " 'hello',\n",
       " 'hello',\n",
       " 'hello',\n",
       " 'hello',\n",
       " 'hello',\n",
       " 'hello',\n",
       " 'hello',\n",
       " 'hello',\n",
       " 'hello',\n",
       " 'hello',\n",
       " 'hello',\n",
       " 'hello',\n",
       " 'hello',\n",
       " 'hello',\n",
       " 'hello',\n",
       " 'hello',\n",
       " 'hello',\n",
       " 'hello',\n",
       " 'hello',\n",
       " 'hello',\n",
       " 'hello',\n",
       " 'hello',\n",
       " 'hello',\n",
       " 'hello',\n",
       " 'hello',\n",
       " 'hello',\n",
       " 'hello',\n",
       " 'hello',\n",
       " 'hello',\n",
       " 'hello',\n",
       " 'hello',\n",
       " 'hello',\n",
       " 'hello',\n",
       " 'hello',\n",
       " 'hello',\n",
       " 'hello',\n",
       " 'hello',\n",
       " 'hello',\n",
       " 'hello',\n",
       " 'hello',\n",
       " 'hello']"
      ]
     },
     "execution_count": 8,
     "metadata": {},
     "output_type": "execute_result"
    }
   ],
   "source": [
    "[\"hello\"]*100"
   ]
  },
  {
   "cell_type": "markdown",
   "id": "a6e9567d",
   "metadata": {},
   "source": [
    "__5.__ Use the inline `if-else` statement (discussed earlier in this module), along with a list comprehension, to create the list: \n",
    "\n",
    "`['hello',\n",
    " 'goodbye',\n",
    " 'hello',\n",
    " 'goodbye',\n",
    " 'hello',\n",
    " 'goodbye',\n",
    " 'hello',\n",
    " 'goodbye',\n",
    " 'hello',\n",
    " 'goodbye']`"
   ]
  },
  {
   "cell_type": "code",
   "execution_count": 15,
   "id": "b2f917e2",
   "metadata": {},
   "outputs": [
    {
     "ename": "TypeError",
     "evalue": "'int' object is not subscriptable",
     "output_type": "error",
     "traceback": [
      "\u001b[1;31m---------------------------------------------------------------------------\u001b[0m",
      "\u001b[1;31mTypeError\u001b[0m                                 Traceback (most recent call last)",
      "\u001b[1;32m<ipython-input-15-010f420c4542>\u001b[0m in \u001b[0;36m<module>\u001b[1;34m\u001b[0m\n\u001b[1;32m----> 1\u001b[1;33m \u001b[0msum\u001b[0m\u001b[1;33m[\u001b[0m\u001b[1;33m(\u001b[0m\u001b[1;34m'hello'\u001b[0m \u001b[1;32mif\u001b[0m \u001b[0mi\u001b[0m\u001b[1;33m%\u001b[0m\u001b[1;36m2\u001b[0m\u001b[1;33m==\u001b[0m\u001b[1;36m0\u001b[0m \u001b[1;32melse\u001b[0m \u001b[1;34m'goodbye'\u001b[0m \u001b[1;32mfor\u001b[0m \u001b[0mi\u001b[0m \u001b[1;32min\u001b[0m \u001b[0mrange\u001b[0m\u001b[1;33m(\u001b[0m\u001b[1;36m11\u001b[0m\u001b[1;33m)\u001b[0m\u001b[1;33m)\u001b[0m\u001b[1;33m]\u001b[0m\u001b[1;33m\u001b[0m\u001b[1;33m\u001b[0m\u001b[0m\n\u001b[0m",
      "\u001b[1;31mTypeError\u001b[0m: 'int' object is not subscriptable"
     ]
    }
   ],
   "source": [
    "[('hello' if i%2==0 else 'goodbye' for i in range(11))]"
   ]
  },
  {
   "cell_type": "markdown",
   "id": "91c599da",
   "metadata": {},
   "source": [
    "__6.__ Use a tuple-comprehension to extract comma-separated numbers from a string, converting them into a tuple of floats. I.e. `\"3.2,2.4,99.8\"` should become `(3.2, 2.4, 99.8)`. You will want to use the built-in string function [str.split](https://docs.python.org/3/library/stdtypes.html#str.split).\n",
    "\n"
   ]
  },
  {
   "cell_type": "code",
   "execution_count": 21,
   "id": "ba5e309c",
   "metadata": {},
   "outputs": [
    {
     "data": {
      "text/plain": [
       "(3.2, 2.4, 99.8)"
      ]
     },
     "execution_count": 21,
     "metadata": {},
     "output_type": "execute_result"
    }
   ],
   "source": [
    "string1 = \"3.2,2.4,99.8\"\n",
    "tuple(float(i) for i in string1.split(','))"
   ]
  },
  {
   "cell_type": "markdown",
   "id": "d8e01940",
   "metadata": {},
   "source": [
    "__7.__ Replicate the functionality of the the following code by writing a list comprehension."
   ]
  },
  {
   "cell_type": "code",
   "execution_count": 26,
   "id": "ab960ad9",
   "metadata": {},
   "outputs": [
    {
     "data": {
      "text/plain": [
       "[0, 0, 0, 1, 1, 0, 0, 0, 1, 0]"
      ]
     },
     "execution_count": 26,
     "metadata": {},
     "output_type": "execute_result"
    }
   ],
   "source": [
    "# skip all non-lowercased letters (including punctuation)\n",
    "# append 1 if lowercase letter is equal to \"o\"\n",
    "# append 0 if lowercase letter is not \"o\"\n",
    "out = []\n",
    "for i in \"Hello. How Are You?\":\n",
    "    if i.islower():\n",
    "        out.append(1 if i == \"o\" else 0)\n",
    "out"
   ]
  },
  {
   "cell_type": "code",
   "execution_count": 25,
   "id": "8505c25d",
   "metadata": {},
   "outputs": [
    {
     "data": {
      "text/plain": [
       "[0, 0, 0, 1, 1, 0, 0, 0, 1, 0]"
      ]
     },
     "execution_count": 25,
     "metadata": {},
     "output_type": "execute_result"
    }
   ],
   "source": [
    "[int(i=='o') for i in \"Hello. How Are You?\" if i.islower()]"
   ]
  },
  {
   "cell_type": "markdown",
   "id": "03e95719",
   "metadata": {},
   "source": [
    "__8.__ Is there any difference in performance between the following expressions?\n",
    "\n",
    "`# feeding 'sum' a generator comprehension\n",
    "sum(1/n for n in range(1, 101))`\n",
    "\n",
    "`# feeding 'sum' a list comprehension\n",
    "sum([1/n for n in range(1, 101)])`\n",
    "\n",
    "Is one expression preferable over the other? Why?"
   ]
  },
  {
   "cell_type": "markdown",
   "id": "40d87bb7",
   "metadata": {},
   "source": [
    "Generator comprehension has a better performance and efficency compared to List comprehension, since a list takes up all the memory needed to store it, and a generator only contains the function needed"
   ]
  }
 ],
 "metadata": {
  "kernelspec": {
   "display_name": "Python 3",
   "language": "python",
   "name": "python3"
  },
  "language_info": {
   "codemirror_mode": {
    "name": "ipython",
    "version": 3
   },
   "file_extension": ".py",
   "mimetype": "text/x-python",
   "name": "python",
   "nbconvert_exporter": "python",
   "pygments_lexer": "ipython3",
   "version": "3.8.8"
  }
 },
 "nbformat": 4,
 "nbformat_minor": 5
}

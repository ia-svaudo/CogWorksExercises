{
 "cells": [
  {
   "cell_type": "markdown",
   "id": "34c0b504",
   "metadata": {},
   "source": [
    "## Sequences\n",
    "\n",
    "In Python programming, sequences are a generic term for an ordered set which means that the order in which we input the items will be the same when we access them.\n",
    "\n",
    "Python supports six different types of sequences. These are strings, lists, tuples, byte sequences, byte arrays, and range objects. \n",
    "\n",
    "https://www.pythonlikeyoumeanit.com/Module2_EssentialsOfPython/SequenceTypes.html\n",
    "\n",
    "https://techvidvan.com/tutorials/python-sequences/"
   ]
  },
  {
   "cell_type": "markdown",
   "id": "5ee9c896",
   "metadata": {},
   "source": [
    "### Strings\n",
    "Strings are __immutable__ in nature so we can reassign a variable to a new string but we can’t make any changes in the string.\n",
    "\n"
   ]
  },
  {
   "cell_type": "code",
   "execution_count": 23,
   "id": "1b881e7c",
   "metadata": {},
   "outputs": [
    {
     "ename": "TypeError",
     "evalue": "'str' object does not support item assignment",
     "output_type": "error",
     "traceback": [
      "\u001b[1;31m---------------------------------------------------------------------------\u001b[0m",
      "\u001b[1;31mTypeError\u001b[0m                                 Traceback (most recent call last)",
      "\u001b[1;32m~\\AppData\\Local\\Temp/ipykernel_16332/226898635.py\u001b[0m in \u001b[0;36m<module>\u001b[1;34m\u001b[0m\n\u001b[0;32m      1\u001b[0m \u001b[0mmystring\u001b[0m \u001b[1;33m=\u001b[0m \u001b[1;34m\"TechVidvan\"\u001b[0m\u001b[1;33m\u001b[0m\u001b[1;33m\u001b[0m\u001b[0m\n\u001b[1;32m----> 2\u001b[1;33m \u001b[0mmystring\u001b[0m\u001b[1;33m[\u001b[0m\u001b[1;36m1\u001b[0m\u001b[1;33m]\u001b[0m \u001b[1;33m=\u001b[0m \u001b[1;34m'i'\u001b[0m\u001b[1;33m\u001b[0m\u001b[1;33m\u001b[0m\u001b[0m\n\u001b[0m",
      "\u001b[1;31mTypeError\u001b[0m: 'str' object does not support item assignment"
     ]
    }
   ],
   "source": [
    "mystring = \"TechVidvan\"\n",
    "mystring[1] = 'i'"
   ]
  },
  {
   "cell_type": "markdown",
   "id": "d6bb41a2",
   "metadata": {},
   "source": [
    "### Lists\n",
    "\n",
    "Python lists are similar to an array but they allow us to create a heterogeneous collection of items inside a list. A list can contain numbers, strings, lists, tuples, dictionaries, objects, etc.\n",
    "\n",
    "Lists are declared by using square brackets around comma-separated items.\n",
    "\n",
    "\n"
   ]
  },
  {
   "cell_type": "code",
   "execution_count": 6,
   "id": "d9d07a74",
   "metadata": {},
   "outputs": [
    {
     "data": {
      "text/plain": [
       "'green'"
      ]
     },
     "execution_count": 6,
     "metadata": {},
     "output_type": "execute_result"
    }
   ],
   "source": [
    "list1 = [1,2,3,4]\n",
    "list2 = ['red', 'green', 'blue']\n",
    "list3 = ['Hello', 100, 3.14, [1,2,3] ]\n",
    "\n",
    "list2[1]"
   ]
  },
  {
   "cell_type": "markdown",
   "id": "cf24eca8",
   "metadata": {},
   "source": [
    "Lists are __mutable__ which makes it easier to change and we can quickly modify a list by directly accessing it.\n",
    "\n"
   ]
  },
  {
   "cell_type": "code",
   "execution_count": 8,
   "id": "ce14ace2",
   "metadata": {},
   "outputs": [
    {
     "data": {
      "text/plain": [
       "[10, 99, 30, 40]"
      ]
     },
     "execution_count": 8,
     "metadata": {},
     "output_type": "execute_result"
    }
   ],
   "source": [
    "list = [10,20,30,40]\n",
    "list[1] = 99\n",
    "list"
   ]
  },
  {
   "cell_type": "markdown",
   "id": "48c9af7c",
   "metadata": {},
   "source": [
    "## Tuples\n",
    "A tuple is created by separating items with a comma. They can be optionally put inside the parenthesis () but it is necessary to put parenthesis in an empty tuple. \n",
    "\n",
    "Tuples are also immutable like strings so we can only reassign the variable but we cannot change, add or remove elements from the tuple.\n",
    "\n",
    "A single item tuple should use a comma in the end."
   ]
  },
  {
   "cell_type": "code",
   "execution_count": 11,
   "id": "85cc81a0",
   "metadata": {},
   "outputs": [
    {
     "name": "stdout",
     "output_type": "stream",
     "text": [
      "('78 Street', 3.8, 9826)\n",
      "(7,)\n"
     ]
    }
   ],
   "source": [
    "tup = ()\n",
    "tup = (1,2,3,4,5)\n",
    "tup = ( \"78 Street\", 3.8, 9826 )\n",
    "print(tup)\n",
    "tup = (7,)\n",
    "print(tup)"
   ]
  },
  {
   "cell_type": "markdown",
   "id": "c9df61c2",
   "metadata": {},
   "source": [
    "Unlike a list, once a tuple is formed, _it cannot be changed_. That is, a tuple is _immutable_, whereas a list is _mutable_. Tuples generally consume less memory than do lists, since it is known that a tuple will not change in size. Furthermore, tuples come in handy when you want to ensure that a sequence of data cannot be changed by subsequent code. \n"
   ]
  },
  {
   "cell_type": "markdown",
   "id": "d6e5bda4",
   "metadata": {},
   "source": [
    "## Bytes\n",
    "The __bytes()__ function in Python is used to return an immutable bytes sequence. Since they are immutable, we cannot modify them.\n",
    "\n",
    "If you want a mutable byte sequence, then it is better to use byte arrays. This is how we can create a byte of a given integer size."
   ]
  },
  {
   "cell_type": "code",
   "execution_count": 14,
   "id": "835408ff",
   "metadata": {},
   "outputs": [
    {
     "name": "stdout",
     "output_type": "stream",
     "text": [
      "b'\\x00\\x00\\x00\\x00\\x00\\x00\\x00\\x00\\x00\\x00'\n",
      "b'\\x04\\x02\\x01'\n"
     ]
    },
    {
     "data": {
      "text/plain": [
       "b'Hey'"
      ]
     },
     "execution_count": 14,
     "metadata": {},
     "output_type": "execute_result"
    }
   ],
   "source": [
    "b = bytes(10)\n",
    "print(b)\n",
    "\n",
    "print( bytes([4,2,1]) )\n",
    "\n",
    "#For strings, we have to provide the encoding in the second parameter.\n",
    "bytes(\"Hey\", 'utf=8')"
   ]
  },
  {
   "cell_type": "code",
   "execution_count": 16,
   "id": "11aa0bc8",
   "metadata": {},
   "outputs": [
    {
     "name": "stdout",
     "output_type": "stream",
     "text": [
      "bytearray(b'\\x00\\x00\\x00\\x00')\n",
      "bytearray(b'\\x01\\x02\\x03\\x04')\n",
      "bytearray(b'Hola!')\n",
      "bytearray(b'\\x01\\x03\\x04\\x05')\n",
      "bytearray(b'\\x01\\x03\\x02\\x05')\n"
     ]
    }
   ],
   "source": [
    "print( bytearray(4) )\n",
    "print( bytearray([1, 2, 3, 4]) )\n",
    "print( bytearray('Hola!', 'utf-8'))\n",
    "\n",
    "#Byte Arrays are mutable\n",
    "a = bytearray([1,3,4,5])\n",
    "print(a)\n",
    "a[2] = 2\n",
    "print(a)"
   ]
  },
  {
   "cell_type": "markdown",
   "id": "831d2d20",
   "metadata": {},
   "source": [
    "## Python range() objects\n",
    "range() is a built-in function in Python that returns us a range object. The range object is nothing but a sequence of integers. It generates the integers within the specified start and stop range."
   ]
  },
  {
   "cell_type": "code",
   "execution_count": 17,
   "id": "e8739c40",
   "metadata": {},
   "outputs": [
    {
     "name": "stdout",
     "output_type": "stream",
     "text": [
      "0\n",
      "1\n",
      "2\n",
      "3\n",
      "4\n"
     ]
    }
   ],
   "source": [
    "for i in range(5):\n",
    "  print(i)"
   ]
  },
  {
   "cell_type": "code",
   "execution_count": 22,
   "id": "aa01a588",
   "metadata": {},
   "outputs": [
    {
     "name": "stdout",
     "output_type": "stream",
     "text": [
      "4\n",
      "6\n",
      "8\n",
      "10\n",
      "12\n",
      "14\n"
     ]
    }
   ],
   "source": [
    "#The first argument is the starting range, the second argument is the stopping range \n",
    "#and the third argument tells how many steps to take.\n",
    "for i in range(4,16,2):\n",
    "  print(i)"
   ]
  },
  {
   "cell_type": "markdown",
   "id": "0c7aad64",
   "metadata": {},
   "source": [
    "## Working with sequences\n"
   ]
  },
  {
   "cell_type": "code",
   "execution_count": 24,
   "id": "e1a7b952",
   "metadata": {},
   "outputs": [
    {
     "data": {
      "text/plain": [
       "True"
      ]
     },
     "execution_count": 24,
     "metadata": {},
     "output_type": "execute_result"
    }
   ],
   "source": [
    "# using 'in' and 'not in' for membership checking\n",
    "x = (1, 3, 5)\n",
    "3 in x"
   ]
  },
  {
   "cell_type": "code",
   "execution_count": 27,
   "id": "d960f7a2",
   "metadata": {},
   "outputs": [
    {
     "data": {
      "text/plain": [
       "True"
      ]
     },
     "execution_count": 27,
     "metadata": {},
     "output_type": "execute_result"
    }
   ],
   "source": [
    "y = ['a', 2, 3.14, \"cat\"]\n",
    "\"cat\" in y"
   ]
  },
  {
   "cell_type": "code",
   "execution_count": 29,
   "id": "ebc1745e",
   "metadata": {},
   "outputs": [
    {
     "data": {
      "text/plain": [
       "True"
      ]
     },
     "execution_count": 29,
     "metadata": {},
     "output_type": "execute_result"
    }
   ],
   "source": [
    "\"dog\" not in y"
   ]
  },
  {
   "cell_type": "code",
   "execution_count": 41,
   "id": "e2faa1f1",
   "metadata": {},
   "outputs": [
    {
     "data": {
      "text/plain": [
       "[1, 2, 3, 4]"
      ]
     },
     "execution_count": 41,
     "metadata": {},
     "output_type": "execute_result"
    }
   ],
   "source": [
    "#Concatenating sequences\n",
    "\n",
    "x = [1,2]\n",
    "y = [3,4]\n",
    "z = x + y\n",
    "z\n"
   ]
  },
  {
   "cell_type": "code",
   "execution_count": 33,
   "id": "7c8ba88d",
   "metadata": {},
   "outputs": [
    {
     "data": {
      "text/plain": [
       "'catcatcat'"
      ]
     },
     "execution_count": 33,
     "metadata": {},
     "output_type": "execute_result"
    }
   ],
   "source": [
    "# equivalent to \"cat\" + \"cat\" + 'cat'\n",
    "\"cat\" * 3 "
   ]
  },
  {
   "cell_type": "code",
   "execution_count": 34,
   "id": "81586516",
   "metadata": {},
   "outputs": [
    {
     "data": {
      "text/plain": [
       "(1, 5, 1, 5, 1, 5, 1, 5)"
      ]
     },
     "execution_count": 34,
     "metadata": {},
     "output_type": "execute_result"
    }
   ],
   "source": [
    "4 * (1, 5)  # creates a new tuple"
   ]
  },
  {
   "cell_type": "code",
   "execution_count": 35,
   "id": "dcb2f292",
   "metadata": {},
   "outputs": [
    {
     "data": {
      "text/plain": [
       "4"
      ]
     },
     "execution_count": 35,
     "metadata": {},
     "output_type": "execute_result"
    }
   ],
   "source": [
    "# number of members in a sequence\n",
    "len(z)"
   ]
  },
  {
   "cell_type": "code",
   "execution_count": 36,
   "id": "ae1493db",
   "metadata": {},
   "outputs": [
    {
     "data": {
      "text/plain": [
       "2"
      ]
     },
     "execution_count": 36,
     "metadata": {},
     "output_type": "execute_result"
    }
   ],
   "source": [
    "# getting the index of the first occurrence of x in a sequence\n",
    "\"cat cat cat\".index(\"t\")  # 't' first occurs at index-2\n"
   ]
  },
  {
   "cell_type": "code",
   "execution_count": 39,
   "id": "8d8d6aad",
   "metadata": {},
   "outputs": [
    {
     "data": {
      "text/plain": [
       "2"
      ]
     },
     "execution_count": 39,
     "metadata": {},
     "output_type": "execute_result"
    }
   ],
   "source": [
    "# counting the number of occurrences of x in a sequence\n",
    "[1, [1, 2], \"111\", 1].count(1)  #it doesn't \"see\" the 1 within `[1, 2]` or \"111\""
   ]
  },
  {
   "cell_type": "code",
   "execution_count": 44,
   "id": "dad69d16",
   "metadata": {},
   "outputs": [
    {
     "data": {
      "text/plain": [
       "list"
      ]
     },
     "execution_count": 44,
     "metadata": {},
     "output_type": "execute_result"
    }
   ],
   "source": [
    "type(z)\n"
   ]
  },
  {
   "cell_type": "code",
   "execution_count": 45,
   "id": "07cc8cf4",
   "metadata": {},
   "outputs": [
    {
     "data": {
      "text/plain": [
       "False"
      ]
     },
     "execution_count": 45,
     "metadata": {},
     "output_type": "execute_result"
    }
   ],
   "source": [
    "isinstance(z, tuple)"
   ]
  },
  {
   "cell_type": "code",
   "execution_count": 4,
   "id": "e082c933",
   "metadata": {},
   "outputs": [
    {
     "data": {
      "text/plain": [
       "[1, 'yes', 0.99]"
      ]
     },
     "execution_count": 4,
     "metadata": {},
     "output_type": "execute_result"
    }
   ],
   "source": [
    "x = [1,\"no\",0.99]\n",
    "x[1] = \"yes\"\n",
    "x\n"
   ]
  },
  {
   "cell_type": "code",
   "execution_count": 3,
   "id": "982faab0",
   "metadata": {},
   "outputs": [
    {
     "ename": "TypeError",
     "evalue": "'tuple' object does not support item assignment",
     "output_type": "error",
     "traceback": [
      "\u001b[1;31m---------------------------------------------------------------------------\u001b[0m",
      "\u001b[1;31mTypeError\u001b[0m                                 Traceback (most recent call last)",
      "\u001b[1;32m<ipython-input-3-728d89d39303>\u001b[0m in \u001b[0;36m<module>\u001b[1;34m\u001b[0m\n\u001b[0;32m      1\u001b[0m \u001b[0mx\u001b[0m \u001b[1;33m=\u001b[0m \u001b[1;33m(\u001b[0m\u001b[1;36m1\u001b[0m\u001b[1;33m,\u001b[0m \u001b[1;34m\"no\"\u001b[0m\u001b[1;33m,\u001b[0m \u001b[1;36m1.99\u001b[0m\u001b[1;33m)\u001b[0m\u001b[1;33m\u001b[0m\u001b[1;33m\u001b[0m\u001b[0m\n\u001b[1;32m----> 2\u001b[1;33m \u001b[0mx\u001b[0m\u001b[1;33m[\u001b[0m\u001b[1;36m1\u001b[0m\u001b[1;33m]\u001b[0m \u001b[1;33m=\u001b[0m \u001b[1;34m\"yes\"\u001b[0m\u001b[1;33m\u001b[0m\u001b[1;33m\u001b[0m\u001b[0m\n\u001b[0m\u001b[0;32m      3\u001b[0m \u001b[0mx\u001b[0m\u001b[1;33m\u001b[0m\u001b[1;33m\u001b[0m\u001b[0m\n",
      "\u001b[1;31mTypeError\u001b[0m: 'tuple' object does not support item assignment"
     ]
    }
   ],
   "source": [
    "x = (1, \"no\", 1.99)\n",
    "x[1] = \"yes\"\n",
    "x"
   ]
  },
  {
   "cell_type": "code",
   "execution_count": 5,
   "id": "cfa96774",
   "metadata": {},
   "outputs": [
    {
     "ename": "TypeError",
     "evalue": "'tuple' object does not support item assignment",
     "output_type": "error",
     "traceback": [
      "\u001b[1;31m---------------------------------------------------------------------------\u001b[0m",
      "\u001b[1;31mTypeError\u001b[0m                                 Traceback (most recent call last)",
      "\u001b[1;32m<ipython-input-5-65a4cc6ccd6f>\u001b[0m in \u001b[0;36m<module>\u001b[1;34m\u001b[0m\n\u001b[0;32m      1\u001b[0m \u001b[0mx\u001b[0m \u001b[1;33m=\u001b[0m \u001b[1;33m[\u001b[0m\u001b[1;36m1\u001b[0m\u001b[1;33m,\u001b[0m\u001b[1;34m\"ok\"\u001b[0m\u001b[1;33m,\u001b[0m\u001b[1;36m0\u001b[0m\u001b[1;33m]\u001b[0m\u001b[1;33m\u001b[0m\u001b[1;33m\u001b[0m\u001b[0m\n\u001b[0;32m      2\u001b[0m \u001b[0mx\u001b[0m \u001b[1;33m=\u001b[0m \u001b[0mtuple\u001b[0m\u001b[1;33m(\u001b[0m\u001b[0mx\u001b[0m\u001b[1;33m)\u001b[0m\u001b[1;33m\u001b[0m\u001b[1;33m\u001b[0m\u001b[0m\n\u001b[1;32m----> 3\u001b[1;33m \u001b[0mx\u001b[0m\u001b[1;33m[\u001b[0m\u001b[1;36m1\u001b[0m\u001b[1;33m]\u001b[0m \u001b[1;33m=\u001b[0m \u001b[1;34m\"nok\"\u001b[0m\u001b[1;33m\u001b[0m\u001b[1;33m\u001b[0m\u001b[0m\n\u001b[0m",
      "\u001b[1;31mTypeError\u001b[0m: 'tuple' object does not support item assignment"
     ]
    }
   ],
   "source": [
    "x = [1,\"ok\",0]\n",
    "x = tuple(x)\n",
    "x[1] = \"nok\""
   ]
  },
  {
   "cell_type": "code",
   "execution_count": null,
   "id": "e4279b06",
   "metadata": {},
   "outputs": [],
   "source": []
  },
  {
   "cell_type": "code",
   "execution_count": null,
   "id": "b7dce0bc",
   "metadata": {},
   "outputs": [],
   "source": []
  },
  {
   "cell_type": "code",
   "execution_count": null,
   "id": "0a697784",
   "metadata": {},
   "outputs": [],
   "source": []
  }
 ],
 "metadata": {
  "kernelspec": {
   "display_name": "Python 3",
   "language": "python",
   "name": "python3"
  },
  "language_info": {
   "codemirror_mode": {
    "name": "ipython",
    "version": 3
   },
   "file_extension": ".py",
   "mimetype": "text/x-python",
   "name": "python",
   "nbconvert_exporter": "python",
   "pygments_lexer": "ipython3",
   "version": "3.8.8"
  }
 },
 "nbformat": 4,
 "nbformat_minor": 5
}

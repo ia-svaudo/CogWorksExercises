{
 "cells": [
  {
   "cell_type": "markdown",
   "id": "0289d34c",
   "metadata": {},
   "source": [
    "## Sequence activities\n",
    "You may reference these sites if you need to look up something: \n",
    "\n",
    " * Sequences: https://docs.python.org/3/library/stdtypes.html#typesseq \n",
    " * Tuples: https://docs.python.org/3/library/stdtypes.html#tuple \n",
    " * Immutable sequence types: https://docs.python.org/3/library/stdtypes.html#immutable-sequence-types \n",
    " * Mutable sequence types: https://docs.python.org/3/library/stdtypes.html#mutable-sequence-types"
   ]
  },
  {
   "cell_type": "markdown",
   "id": "dce462a6",
   "metadata": {},
   "source": [
    "__1.__ Change the list [True, None, 22] into a tuple\n",
    "\n"
   ]
  },
  {
   "cell_type": "code",
   "execution_count": 1,
   "id": "d546b540",
   "metadata": {},
   "outputs": [
    {
     "data": {
      "text/plain": [
       "(True, None, 22)"
      ]
     },
     "execution_count": 1,
     "metadata": {},
     "output_type": "execute_result"
    }
   ],
   "source": [
    "tuple([True, None, 22])"
   ]
  },
  {
   "cell_type": "markdown",
   "id": "963a0bee",
   "metadata": {},
   "source": [
    "__2.__ \n",
    "In Python, a sequence is any ordered collection of objects whose contents \n",
    "can be accessed via “indexing”. A sub-sequence can be accessed by “slicing” the sequence. \n",
    "Python’s lists and strings are both examples of sequences. \n",
    "The following questions will help you explore the power of sequence indexing and slicing.\n",
    "\n",
    "Given the tuple:\n"
   ]
  },
  {
   "cell_type": "code",
   "execution_count": 2,
   "id": "2e328a46",
   "metadata": {},
   "outputs": [],
   "source": [
    "x = (0, 2, 4, 6, 8)"
   ]
  },
  {
   "cell_type": "markdown",
   "id": "127977d9",
   "metadata": {},
   "source": [
    "Slice or index into x to produce the following:"
   ]
  },
  {
   "cell_type": "code",
   "execution_count": 4,
   "id": "56d07fe5",
   "metadata": {},
   "outputs": [
    {
     "data": {
      "text/plain": [
       "0"
      ]
     },
     "execution_count": 4,
     "metadata": {},
     "output_type": "execute_result"
    }
   ],
   "source": [
    "# 0\n",
    "x[0]\n"
   ]
  },
  {
   "cell_type": "code",
   "execution_count": 7,
   "id": "23f9868e",
   "metadata": {},
   "outputs": [],
   "source": [
    "# 8 (using a negative index)\n"
   ]
  },
  {
   "cell_type": "code",
   "execution_count": 8,
   "id": "beabf4bc",
   "metadata": {},
   "outputs": [],
   "source": [
    "# (2, 4, 6) (using a slice-object)\n"
   ]
  },
  {
   "cell_type": "code",
   "execution_count": 9,
   "id": "8f61efdc",
   "metadata": {},
   "outputs": [],
   "source": [
    "# (4,)\n"
   ]
  },
  {
   "cell_type": "code",
   "execution_count": 10,
   "id": "8d3543d9",
   "metadata": {},
   "outputs": [],
   "source": [
    "# 4\n"
   ]
  },
  {
   "cell_type": "code",
   "execution_count": 11,
   "id": "db233587",
   "metadata": {},
   "outputs": [],
   "source": [
    "# 4 (using a negative index)\n"
   ]
  },
  {
   "cell_type": "code",
   "execution_count": 12,
   "id": "cec02666",
   "metadata": {},
   "outputs": [],
   "source": [
    "# (6, 8) (using a negative index for the start of the slice)\n"
   ]
  },
  {
   "cell_type": "code",
   "execution_count": 13,
   "id": "9695b195",
   "metadata": {},
   "outputs": [],
   "source": [
    "# (2, 6)\n"
   ]
  },
  {
   "cell_type": "code",
   "execution_count": 14,
   "id": "e8b44648",
   "metadata": {},
   "outputs": [],
   "source": [
    "# (8, 6, 4, 2)\n"
   ]
  },
  {
   "cell_type": "markdown",
   "id": "c3c65c1f",
   "metadata": {},
   "source": [
    "__3.__ Write a piece of code for each of the following tasks.  If the task is impossible/ill-posed explain why."
   ]
  },
  {
   "cell_type": "markdown",
   "id": "91b2609b",
   "metadata": {},
   "source": [
    "Using the string “blogosphere”, slicing, and repeat-concatenation, create the string: ‘boopeeboopeeboopeeboopeeboopee’. (hint: how would you slice “blogosphere” to produce “boopee”, think step-size)"
   ]
  },
  {
   "cell_type": "code",
   "execution_count": null,
   "id": "a9c7393d",
   "metadata": {},
   "outputs": [],
   "source": []
  },
  {
   "cell_type": "markdown",
   "id": "32eeb8d1",
   "metadata": {},
   "source": [
    "Assume that a tuple, x, contains the item 5 in it at least once. Find where that first entry is, and change it to -5. For example (1, 2, 5, 0, 5) → (1, 2, -5, 0, 5).\n",
    "\n"
   ]
  },
  {
   "cell_type": "code",
   "execution_count": null,
   "id": "0288899f",
   "metadata": {},
   "outputs": [],
   "source": []
  },
  {
   "cell_type": "markdown",
   "id": "4ace7988",
   "metadata": {},
   "source": [
    "Given a sequence, x, and a valid negative index for x, neg_index, find the corresponding positive-value for that index. \n",
    "\n",
    "That is, if x = \"cat\", and neg_index = -3, which is the negative index that would return \"c\", then you would want to return the index 0."
   ]
  },
  {
   "cell_type": "code",
   "execution_count": null,
   "id": "da4967d4",
   "metadata": {},
   "outputs": [],
   "source": []
  },
  {
   "cell_type": "markdown",
   "id": "8823a36b",
   "metadata": {},
   "source": [
    "Assume that a list, y, contains the item 5 in it at least once. Find where that first entry is, and change it to -5. For example (1, 2, 5, 0, 5) → (1, 2, -5, 0, 5)."
   ]
  },
  {
   "cell_type": "code",
   "execution_count": null,
   "id": "f1f8a644",
   "metadata": {},
   "outputs": [],
   "source": []
  },
  {
   "cell_type": "code",
   "execution_count": null,
   "id": "59be3b71",
   "metadata": {},
   "outputs": [],
   "source": []
  }
 ],
 "metadata": {
  "kernelspec": {
   "display_name": "Python 3",
   "language": "python",
   "name": "python3"
  },
  "language_info": {
   "codemirror_mode": {
    "name": "ipython",
    "version": 3
   },
   "file_extension": ".py",
   "mimetype": "text/x-python",
   "name": "python",
   "nbconvert_exporter": "python",
   "pygments_lexer": "ipython3",
   "version": "3.8.8"
  }
 },
 "nbformat": 4,
 "nbformat_minor": 5
}

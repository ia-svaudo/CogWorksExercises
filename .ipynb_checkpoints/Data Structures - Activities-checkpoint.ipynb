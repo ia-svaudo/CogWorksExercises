{
 "cells": [
  {
   "cell_type": "markdown",
   "id": "f839b4ef",
   "metadata": {},
   "source": [
    "## Data Structures\n",
    "\n",
    "You may reference the following documentation if you need to look up something: \n",
    " * [Big-O Notation](https://www.pythonlikeyoumeanit.com/Module2_EssentialsOfPython/DataStructures.html#Describing-Algorithm-Complexity) \n",
    "\n",
    "* [Dictionaries](https://docs.python.org/3/library/stdtypes.html#mapping-types-dict)\n",
    "    * [Dictionaries tutorial](https://docs.python.org/3/tutorial/datastructures.html#dictionaries)\n",
    "* [Definition of 'hashable'](https://docs.python.org/3/glossary.html#term-hashable)\n",
    "* [Dictionary view objects](https://docs.python.org/3/library/stdtypes.html#dictionary-view-objects)\n",
    "\n",
    "\n",
    " * [Sets and frozen sets](https://docs.python.org/3/library/stdtypes.html#set-types-set-frozenset)\n",
    "    * [Tutorial on sets](https://docs.python.org/3/tutorial/datastructures.html#sets)\n",
    " * [The collections module](https://docs.python.org/3/library/collections.html)\n",
    " * [Counter](https://docs.python.org/3/library/collections.html#counter-objects)\n",
    " "
   ]
  },
  {
   "cell_type": "markdown",
   "id": "1fcc5c43",
   "metadata": {},
   "source": [
    "## Big-O Notation"
   ]
  },
  {
   "cell_type": "code",
   "execution_count": 7,
   "id": "253fea72",
   "metadata": {},
   "outputs": [],
   "source": [
    "# what is the Big-O notation for the following function: \n",
    "def print_first_item(items):\n",
    "    print(items[0])\n",
    "    \n",
    "#you can write the notation as a comment\n"
   ]
  },
  {
   "cell_type": "code",
   "execution_count": 8,
   "id": "08b4e325",
   "metadata": {},
   "outputs": [],
   "source": [
    "# what is the Big-O notation for the following function: \n",
    "def print_all_items(items):\n",
    "    for item in items:\n",
    "        print(item)\n",
    "\n",
    "#you can write the notation as a comment\n"
   ]
  },
  {
   "cell_type": "code",
   "execution_count": 9,
   "id": "69146a70",
   "metadata": {},
   "outputs": [],
   "source": [
    "# what is the Big-O notation for the following function: \n",
    "def print_all_items(items):\n",
    "    for item in items:\n",
    "        print(item)\n",
    "\n",
    "#you can write the notation as a comment\n"
   ]
  },
  {
   "cell_type": "markdown",
   "id": "264fdd70",
   "metadata": {},
   "source": [
    "## Dictionaries"
   ]
  },
  {
   "cell_type": "markdown",
   "id": "aa227f25",
   "metadata": {},
   "source": [
    "1. Given the tuple of student names `(\"Ashley\", \"David\", \"Edward\", \"Zoe\")`, and their corresponding exam grades `(0.92, 0.72, 0.88, 0.77)`, create a dictionary that maps: name → grade. \n",
    "Then, update Zoe's grade to .79. \n",
    "Lastly, add a new student, Ryan, whose grade is 0.34."
   ]
  },
  {
   "cell_type": "code",
   "execution_count": 8,
   "id": "5f133cbc",
   "metadata": {},
   "outputs": [
    {
     "ename": "ValueError",
     "evalue": "dictionary update sequence element #0 has length 4; 2 is required",
     "output_type": "error",
     "traceback": [
      "\u001b[1;31m---------------------------------------------------------------------------\u001b[0m",
      "\u001b[1;31mValueError\u001b[0m                                Traceback (most recent call last)",
      "\u001b[1;32m<ipython-input-8-841130224827>\u001b[0m in \u001b[0;36m<module>\u001b[1;34m\u001b[0m\n\u001b[0;32m     13\u001b[0m \u001b[1;31m# and create the dictionary using a comprehension expression.\u001b[0m\u001b[1;33m\u001b[0m\u001b[1;33m\u001b[0m\u001b[1;33m\u001b[0m\u001b[0m\n\u001b[0;32m     14\u001b[0m \u001b[0mgrades\u001b[0m\u001b[1;33m[\u001b[0m\u001b[1;34m\"Zoe\"\u001b[0m\u001b[1;33m]\u001b[0m \u001b[1;33m=\u001b[0m \u001b[1;36m0.79\u001b[0m\u001b[1;33m\u001b[0m\u001b[1;33m\u001b[0m\u001b[0m\n\u001b[1;32m---> 15\u001b[1;33m \u001b[0mgrades\u001b[0m\u001b[1;33m.\u001b[0m\u001b[0mupdate\u001b[0m\u001b[1;33m(\u001b[0m\u001b[1;33m(\u001b[0m\u001b[1;34m'Ryan'\u001b[0m\u001b[1;33m,\u001b[0m \u001b[1;36m0.34\u001b[0m\u001b[1;33m)\u001b[0m\u001b[1;33m)\u001b[0m\u001b[1;33m\u001b[0m\u001b[1;33m\u001b[0m\u001b[0m\n\u001b[0m",
      "\u001b[1;31mValueError\u001b[0m: dictionary update sequence element #0 has length 4; 2 is required"
     ]
    }
   ],
   "source": [
    "names = (\"Ashley\", \"David\", \"Edward\", \"Zoe\")\n",
    "scores = (0.92, 0.72, 0.88, 0.77)\n",
    "\n",
    "#Here is a basic, but verbose solution. \n",
    "#It is too long and its logic is complicated by the use of index.\n",
    "grades = {}\n",
    "for index in range(len(names)):\n",
    "    name = names[index]\n",
    "    value = scores[index]\n",
    "    grades[name] = value\n",
    "\n",
    "#You should make use of the function zip to pair the names and scores together in an iterable, \n",
    "# and create the dictionary using a comprehension expression.\n",
    "grades[\"Zoe\"] = 0.79\n",
    "grades.update(('Ryan', 0.34))"
   ]
  },
  {
   "cell_type": "markdown",
   "id": "13e170ae",
   "metadata": {},
   "source": [
    "2. Write a function that inverts a dictionary. \n",
    "\n",
    "For example, if you were given `x = {'k1': 'v1', 'k2': 'v2', 'k3': 'v3'}`, you would produce the dictionary `inverted_x = {'v1': 'k1', 'v2': 'k2', 'v3': 'k3'}`.\n",
    "\n"
   ]
  },
  {
   "cell_type": "code",
   "execution_count": 1,
   "id": "1869f865",
   "metadata": {},
   "outputs": [
    {
     "data": {
      "text/plain": [
       "{'v1': 'k1', 'v2': 'k2', 'v3': 'k3'}"
      ]
     },
     "execution_count": 1,
     "metadata": {},
     "output_type": "execute_result"
    }
   ],
   "source": [
    "x = {'k1': 'v1', 'k2': 'v2', 'k3': 'v3'}\n",
    "inverted_x1 = {}\n",
    "for key, value in x.items():\n",
    "    inverted[value] = key\n",
    "\n",
    "inverted"
   ]
  },
  {
   "cell_type": "markdown",
   "id": "2cc5d21d",
   "metadata": {},
   "source": [
    "3(a). Assume we are working with a dictionary whose values are all unique numbers. Write a function that returns the key that maps to the largest value in the dictionary.\n",
    "\n"
   ]
  },
  {
   "cell_type": "code",
   "execution_count": 2,
   "id": "88f73910",
   "metadata": {},
   "outputs": [
    {
     "data": {
      "text/plain": [
       "'c'"
      ]
     },
     "execution_count": 2,
     "metadata": {},
     "output_type": "execute_result"
    }
   ],
   "source": [
    "def maximum_key(x):\n",
    "    max_val = max(x.values())\n",
    "    for key, value in x.items():\n",
    "        if value == max_val:\n",
    "            return key\n",
    "\n",
    "maximum_key({'a': 0, 'b': 2, 'c': 200, 'd': 0})"
   ]
  },
  {
   "cell_type": "code",
   "execution_count": null,
   "id": "0a2c29a0",
   "metadata": {},
   "outputs": [],
   "source": []
  },
  {
   "cell_type": "markdown",
   "id": "19e7189a",
   "metadata": {},
   "source": [
    "3(b). Next, generalize your solution for a dictionary whose values are not necessarily unique. Return a tuple of all of the keys that map to that max value.\n",
    "\n"
   ]
  },
  {
   "cell_type": "code",
   "execution_count": 4,
   "id": "29c4ad99",
   "metadata": {},
   "outputs": [
    {
     "data": {
      "text/plain": [
       "('b', 'c')"
      ]
     },
     "execution_count": 4,
     "metadata": {},
     "output_type": "execute_result"
    }
   ],
   "source": [
    "def get_maxes(dictionary):\n",
    "    max_val = max(dictionary.values())\n",
    "    return tuple(k for k,v in dictionary.items() if v == max_val)\n",
    "\n",
    "get_maxes(dict(a=1, b=15, c=15, d=1))"
   ]
  },
  {
   "cell_type": "markdown",
   "id": "b985256d",
   "metadata": {},
   "source": [
    "## Sets & the Collections Module"
   ]
  },
  {
   "cell_type": "markdown",
   "id": "3d3d97df",
   "metadata": {},
   "source": [
    "4. Use a set to find all of the unique letters in the string `\"The cat in the hat\"`. Ignore all non-letter characters and lowercase all letters."
   ]
  },
  {
   "cell_type": "code",
   "execution_count": 6,
   "id": "754980d3",
   "metadata": {},
   "outputs": [
    {
     "data": {
      "text/plain": [
       "{'a', 'c', 'e', 'h', 'i', 'n', 't'}"
      ]
     },
     "execution_count": 6,
     "metadata": {},
     "output_type": "execute_result"
    }
   ],
   "source": [
    "sentence = \"The cat in the hat\"\n",
    "{char for char in sentence.lower() if char.isalpha()}"
   ]
  },
  {
   "cell_type": "markdown",
   "id": "743ae15a",
   "metadata": {},
   "source": [
    "5. Given the enrollment lists for class-A and class-B, find the students enrolled in both classes. Produce the result as a sorted list of names. \n",
    "\n",
    "`classA = [\"Bohr\", \"Curie\", \"David\", \"Euler\", \"Fermi\", \"Feynman\", \"Gauss\", \"Heisenberg\", \"Noether\"]`\n",
    "\n",
    "`classB = [\"Bohm\", \"Bohr\", \"Einstein\", \"Fermi\", \"Gauss\", \"Hopper\", \"Montalcini\"]`"
   ]
  },
  {
   "cell_type": "code",
   "execution_count": 8,
   "id": "6aca6df7",
   "metadata": {},
   "outputs": [
    {
     "data": {
      "text/plain": [
       "['Bohr', 'Fermi', 'Gauss']"
      ]
     },
     "execution_count": 8,
     "metadata": {},
     "output_type": "execute_result"
    }
   ],
   "source": [
    "classA = [\"Bohr\", \"Curie\", \"David\", \"Euler\", \"Fermi\", \"Feynman\", \"Gauss\", \"Heisenberg\", \"Noether\"]\n",
    "classB = [\"Bohm\", \"Bohr\", \"Einstein\", \"Fermi\", \"Gauss\", \"Hopper\", \"Montalcini\"]\n",
    "\n",
    "sorted(set(classA) & set(classB))"
   ]
  },
  {
   "cell_type": "markdown",
   "id": "e7c249c4",
   "metadata": {},
   "source": [
    "6. Create a __named tuple__ called 'cnc_coord' to hold the x, y, and z position of the CNC.\n",
    "Create an instance of the named tuple and access the z coordinate \"by name.\"\n",
    "\n",
    "\n",
    "\n"
   ]
  },
  {
   "cell_type": "code",
   "execution_count": 1,
   "id": "141bb108",
   "metadata": {},
   "outputs": [
    {
     "data": {
      "text/plain": [
       "4.9"
      ]
     },
     "execution_count": 1,
     "metadata": {},
     "output_type": "execute_result"
    }
   ],
   "source": [
    "from collections import namedtuple\n",
    "\n",
    "cnc_coord = namedtuple(\"cnc_coord\", ['x', 'y', 'z'])\n",
    "cnc1 = cnc_coord(2.5, 3.1, 4.9)\n",
    "cnc1.z"
   ]
  },
  {
   "cell_type": "markdown",
   "id": "19f88046",
   "metadata": {},
   "source": [
    "7. Create a __default dictionary__ to store grocery prices. Add at least three items and their prices to the dictionary. "
   ]
  },
  {
   "cell_type": "code",
   "execution_count": 2,
   "id": "9017e3be",
   "metadata": {},
   "outputs": [
    {
     "data": {
      "text/plain": [
       "defaultdict(list, {'Apples': [1.0], 'Oranges': [3.49], 'Rice': [3.99]})"
      ]
     },
     "execution_count": 2,
     "metadata": {},
     "output_type": "execute_result"
    }
   ],
   "source": [
    "from collections import defaultdict\n",
    "\n",
    "grocery_prices = defaultdict(list)\n",
    "grocery_prices[\"Apples\"].append(1.0)\n",
    "grocery_prices[\"Oranges\"].append(3.49)\n",
    "grocery_prices[\"Rice\"].append(3.99)\n",
    "\n",
    "grocery_prices"
   ]
  }
 ],
 "metadata": {
  "kernelspec": {
   "display_name": "Python 3",
   "language": "python",
   "name": "python3"
  },
  "language_info": {
   "codemirror_mode": {
    "name": "ipython",
    "version": 3
   },
   "file_extension": ".py",
   "mimetype": "text/x-python",
   "name": "python",
   "nbconvert_exporter": "python",
   "pygments_lexer": "ipython3",
   "version": "3.8.8"
  }
 },
 "nbformat": 4,
 "nbformat_minor": 5
}

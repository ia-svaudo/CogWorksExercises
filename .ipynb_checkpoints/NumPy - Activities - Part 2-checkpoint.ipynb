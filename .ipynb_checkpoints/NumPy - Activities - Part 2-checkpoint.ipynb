{
 "cells": [
  {
   "cell_type": "code",
   "execution_count": 56,
   "id": "ae8c96c1",
   "metadata": {},
   "outputs": [],
   "source": [
    "import numpy as np"
   ]
  },
  {
   "cell_type": "markdown",
   "id": "e8742c1d",
   "metadata": {},
   "source": [
    "0. A digital image is simply an array of numbers, which instructs a grid of pixels on a monitor to shine light of specific colors, according to the numerical values in that array.\n",
    "\n",
    "An RGB-image can thus be stored as a 3D NumPy array of shape-(V,H,3). V is the number of pixels along the vertical direction, H is the number of pixels along the horizontal, and the size-3 dimension stores the red, blue, and green color values for a given pixel. Thus a (32, 32, 3) array would be a 32x32 RBG image.\n",
    "\n",
    "It is common to work with a collection of images. Suppose we want to store N images in a single array; thus we now consider a 4D shape-(N, V, H, 3) array.\n",
    "\n",
    "Let's collect some statistics on a collection of images. For the sake of convenience, let's simply generate a 4D-array of random numbers as a placeholder for real image data. We will generate 100, 32x32 RGB images:\n",
    "\n",
    "`images = np.random.rand(100, 32, 32, 3)`\n",
    "\n",
    "Now, compute the following (5 different problems): "
   ]
  },
  {
   "cell_type": "code",
   "execution_count": 3,
   "id": "b69de962",
   "metadata": {},
   "outputs": [],
   "source": [
    "images = np.random.rand(100, 32, 32, 3)"
   ]
  },
  {
   "cell_type": "code",
   "execution_count": 7,
   "id": "e6463803",
   "metadata": {},
   "outputs": [
    {
     "data": {
      "text/plain": [
       "array([[[0.53554714, 0.53976622, 0.531514  ],\n",
       "        [0.48773237, 0.50873074, 0.48085293],\n",
       "        [0.51469939, 0.52222588, 0.47809808],\n",
       "        ...,\n",
       "        [0.51908462, 0.45555684, 0.47437542],\n",
       "        [0.48880838, 0.49760301, 0.53982126],\n",
       "        [0.48614742, 0.48626743, 0.54637513]],\n",
       "\n",
       "       [[0.50135863, 0.51564852, 0.52117644],\n",
       "        [0.49809201, 0.49709799, 0.54600344],\n",
       "        [0.44983872, 0.48127384, 0.50709029],\n",
       "        ...,\n",
       "        [0.49830918, 0.46593004, 0.44421581],\n",
       "        [0.48446615, 0.51457748, 0.50610812],\n",
       "        [0.49730165, 0.49674961, 0.45257231]],\n",
       "\n",
       "       [[0.49273241, 0.4975042 , 0.55163125],\n",
       "        [0.47299029, 0.51061877, 0.51725307],\n",
       "        [0.48391579, 0.49375616, 0.51134419],\n",
       "        ...,\n",
       "        [0.49460112, 0.51676856, 0.50905822],\n",
       "        [0.4697599 , 0.52051981, 0.52260194],\n",
       "        [0.51462695, 0.53271545, 0.55694555]],\n",
       "\n",
       "       ...,\n",
       "\n",
       "       [[0.49712901, 0.53489573, 0.44031173],\n",
       "        [0.48627386, 0.48501566, 0.54995706],\n",
       "        [0.46193957, 0.47835829, 0.52087812],\n",
       "        ...,\n",
       "        [0.45815014, 0.54690145, 0.51940648],\n",
       "        [0.49955087, 0.44576935, 0.48273507],\n",
       "        [0.52163819, 0.50714573, 0.51009998]],\n",
       "\n",
       "       [[0.46196993, 0.5298886 , 0.49589462],\n",
       "        [0.47172316, 0.51125458, 0.47850617],\n",
       "        [0.51535446, 0.47150818, 0.48380964],\n",
       "        ...,\n",
       "        [0.50303139, 0.48151449, 0.49125935],\n",
       "        [0.5130235 , 0.51393428, 0.48596882],\n",
       "        [0.46727385, 0.50407763, 0.52581858]],\n",
       "\n",
       "       [[0.51161751, 0.54377102, 0.52306673],\n",
       "        [0.53710458, 0.46763406, 0.4875894 ],\n",
       "        [0.48417902, 0.54749315, 0.49657774],\n",
       "        ...,\n",
       "        [0.5206431 , 0.51292164, 0.50867342],\n",
       "        [0.51086139, 0.47121114, 0.49200662],\n",
       "        [0.48305384, 0.51900334, 0.48765014]]])"
      ]
     },
     "execution_count": 7,
     "metadata": {},
     "output_type": "execute_result"
    }
   ],
   "source": [
    "#a. The average 32x32 RGB image.\n",
    "np.mean(images,axis=0)"
   ]
  },
  {
   "cell_type": "code",
   "execution_count": 8,
   "id": "00c0d1dc",
   "metadata": {},
   "outputs": [
    {
     "data": {
      "text/plain": [
       "153761.37211837247"
      ]
     },
     "execution_count": 8,
     "metadata": {},
     "output_type": "execute_result"
    }
   ],
   "source": [
    "#b. The total sum of all the values in the array.\n",
    "np.sum(images)"
   ]
  },
  {
   "cell_type": "code",
   "execution_count": 12,
   "id": "40117cc6",
   "metadata": {},
   "outputs": [
    {
     "data": {
      "text/plain": [
       "array([1.98560554e-03, 3.71381013e-04, 9.29746555e-06, 8.02821242e-04,\n",
       "       3.46155421e-05, 4.63354701e-04, 1.88678368e-03, 8.32219434e-04,\n",
       "       2.90305773e-03, 2.07944272e-03, 5.50878916e-04, 1.28117502e-03,\n",
       "       8.45691361e-04, 1.62730022e-03, 1.69359665e-04, 7.14992501e-05,\n",
       "       4.22350022e-04, 9.35971689e-04, 9.59683934e-05, 1.41158558e-03,\n",
       "       1.20596184e-03, 6.83270716e-04, 6.17988744e-04, 1.52598666e-03,\n",
       "       3.16204660e-04, 1.74467032e-03, 5.32276848e-04, 2.58611682e-05,\n",
       "       4.35026957e-03, 7.03012629e-04, 1.07844845e-05, 1.04950612e-04,\n",
       "       1.49019788e-04, 6.31960467e-04, 1.02590272e-03, 4.40187806e-04,\n",
       "       1.42945179e-04, 3.28050129e-04, 1.09782891e-04, 9.69254864e-04,\n",
       "       4.58861185e-04, 2.08219761e-03, 1.36972114e-04, 7.50535738e-05,\n",
       "       3.50553335e-04, 2.91105674e-04, 1.83864487e-03, 3.06339137e-04,\n",
       "       2.49637473e-03, 1.83097752e-04, 9.30674400e-04, 1.34410628e-03,\n",
       "       9.11451239e-04, 3.82808531e-03, 1.38258279e-03, 4.29661088e-04,\n",
       "       1.55101630e-03, 2.57448172e-03, 9.13537186e-04, 1.42651958e-04,\n",
       "       1.66703983e-03, 2.17397500e-03, 2.99822975e-03, 9.66791541e-04,\n",
       "       1.35532221e-03, 1.26240122e-03, 9.99243647e-04, 3.11643610e-03,\n",
       "       8.84419482e-04, 2.29853220e-03, 1.07033021e-03, 3.67197116e-05,\n",
       "       3.74201800e-04, 1.52896372e-03, 2.35948188e-04, 1.18491009e-03,\n",
       "       4.46568575e-04, 4.03911847e-04, 1.69730630e-03, 7.49884766e-04,\n",
       "       7.98103873e-04, 6.57441039e-05, 1.77254952e-03, 1.54953187e-04,\n",
       "       2.83502432e-03, 1.49046426e-03, 2.39846701e-05, 9.79953729e-04,\n",
       "       5.82676339e-05, 1.18526924e-03, 1.86818603e-03, 9.25955447e-04,\n",
       "       1.55225545e-03, 3.01072192e-03, 1.19587319e-03, 6.23334944e-04,\n",
       "       3.56595863e-03, 2.49076867e-04, 2.64461511e-03, 1.18698423e-03])"
      ]
     },
     "execution_count": 12,
     "metadata": {},
     "output_type": "execute_result"
    }
   ],
   "source": [
    "#c. The minimum blue value, respective to each image.\n",
    "np.array(np.min(images[:,:,:,2],axis=(1,2)))"
   ]
  },
  {
   "cell_type": "code",
   "execution_count": 15,
   "id": "bc5915d5",
   "metadata": {},
   "outputs": [
    {
     "data": {
      "text/plain": [
       "array([[0.29229319, 0.29045089, 0.28519049, ..., 0.29920384, 0.29088339,\n",
       "        0.29538297],\n",
       "       [0.29632948, 0.28711337, 0.28975904, ..., 0.29273412, 0.28739439,\n",
       "        0.29007975],\n",
       "       [0.28708705, 0.29023734, 0.28287243, ..., 0.28450384, 0.29455449,\n",
       "        0.27951342],\n",
       "       ...,\n",
       "       [0.28893048, 0.29046789, 0.28777867, ..., 0.29601913, 0.27561881,\n",
       "        0.30033173],\n",
       "       [0.27048899, 0.28971991, 0.29640963, ..., 0.30102248, 0.29294905,\n",
       "        0.28959218],\n",
       "       [0.28787842, 0.28939348, 0.28041737, ..., 0.27677976, 0.29693148,\n",
       "        0.2875361 ]])"
      ]
     },
     "execution_count": 15,
     "metadata": {},
     "output_type": "execute_result"
    }
   ],
   "source": [
    "#d. The standard deviation among all the RGB values in all the images, \n",
    "#   respective to each pixel position (thus you should produce a shape-(32, 32) array of values).\n",
    "np.array(np.std(images, axis=(0,3)))"
   ]
  },
  {
   "cell_type": "code",
   "execution_count": 16,
   "id": "07195317",
   "metadata": {},
   "outputs": [
    {
     "data": {
      "text/plain": [
       "array([0.98867746, 0.99801221, 0.99939201, 0.99648311, 0.99858762,\n",
       "       0.9988705 , 0.99299707, 0.99615862, 0.99820672, 0.99317874,\n",
       "       0.99754645, 0.99844953, 0.99344767, 0.9959485 , 0.98792345,\n",
       "       0.9959063 , 0.99978102, 0.99877863, 0.99965398, 0.99630737,\n",
       "       0.9950148 , 0.99865799, 0.99724858, 0.99305477, 0.98205338,\n",
       "       0.9971089 , 0.99587002, 0.9990337 , 0.99423948, 0.99710869,\n",
       "       0.99425029, 0.99937449, 0.99954479, 0.99978819, 0.99814853,\n",
       "       0.99970437, 0.99276193, 0.99701484, 0.99543544, 0.99920214,\n",
       "       0.99789232, 0.99931647, 0.99849774, 0.99100729, 0.99971973,\n",
       "       0.99959209, 0.99241397, 0.99988559, 0.98752997, 0.99793768,\n",
       "       0.99795394, 0.99825313, 0.99999132, 0.99048981, 0.99775443,\n",
       "       0.99576752, 0.99535296, 0.99562556, 0.99606053, 0.99889479,\n",
       "       0.99847858, 0.99677097, 0.99906886, 0.99895741, 0.99668913,\n",
       "       0.99557908, 0.99970367, 0.99990713, 0.99739009, 0.99852252,\n",
       "       0.99899323, 0.99934604, 0.9987268 , 0.9982101 , 0.99941867,\n",
       "       0.99721906, 0.99294808, 0.99715136, 0.98935325, 0.99996536,\n",
       "       0.99959706, 0.99917922, 0.99310908, 0.9976733 , 0.99642538,\n",
       "       0.99601396, 0.9906285 , 0.99922916, 0.99584985, 0.9978605 ,\n",
       "       0.9998602 , 0.99452075, 0.99901209, 0.99917388, 0.99873578,\n",
       "       0.99830046, 0.99941822, 0.99868344, 0.99338242, 0.99212351])"
      ]
     },
     "execution_count": 16,
     "metadata": {},
     "output_type": "execute_result"
    }
   ],
   "source": [
    "#e. The maximum red-value in the top-left quadrant, respective to each image.\n",
    "np.amax(images[:,:16,:16,0], axis=(1,2))"
   ]
  },
  {
   "cell_type": "markdown",
   "id": "1dc1db07",
   "metadata": {},
   "source": [
    "1. Given the following pairs of array-shapes, determine what the resulting broadcasted shapes will be. Indicate if a pair is broadcast-incompatible.\n",
    "\n",
    " * 7 x 2 with 7\n",
    "\n",
    " * 4 with 3 x 4\n",
    "\n",
    " * 1 x 3 x 1 with 8 x 1 x 1\n",
    "\n",
    " * 9 x 2 x 5 with 2 x 5\n",
    "\n",
    " * 3 with 3 x 3 x 2"
   ]
  },
  {
   "cell_type": "code",
   "execution_count": 28,
   "id": "642fd44f",
   "metadata": {},
   "outputs": [
    {
     "data": {
      "text/plain": [
       "(3, 4)"
      ]
     },
     "execution_count": 28,
     "metadata": {},
     "output_type": "execute_result"
    }
   ],
   "source": [
    "x=np.random.rand(4)\n",
    "y=np.random.rand(3,4)\n",
    "(x*y).shape\n",
    "\n",
    "#Incompatable\n",
    "#3 x 4\n",
    "#8 x 3 x 1\n",
    "#9 x 2 x 5\n",
    "#Incompatable"
   ]
  },
  {
   "cell_type": "markdown",
   "id": "f98ffc61",
   "metadata": {},
   "source": [
    "2. Generate a random array of 10,000 2D points using `np.random.rand`. Compute the “center of mass” of these points, which is simply the average x-coordinate and the average y-coordinate of these 10,000 points. Then, use broadcasting to compute the shape-(10000, 2) array that stores the position of the points relative to the center of mass. For example, if the center of mass is `(0.5,1)`, and the absolute position of a point is `(2,3)`, then the position of that point relative to the center of mass is simply `(2,3)−(0.5,1)=(1.5,2)`\n",
    "\n"
   ]
  },
  {
   "cell_type": "code",
   "execution_count": 34,
   "id": "737d334a",
   "metadata": {},
   "outputs": [
    {
     "name": "stdout",
     "output_type": "stream",
     "text": [
      "[0.49658287 0.50419522]\n",
      "[[-1.27419560e-01 -3.76794649e-04]\n",
      " [ 2.77718698e-01 -7.05051136e-02]\n",
      " [-2.10773028e-01  4.95193920e-01]\n",
      " ...\n",
      " [-4.54067823e-01  4.91532124e-01]\n",
      " [ 3.98198477e-01 -2.19302342e-01]\n",
      " [-3.16298953e-01  9.66030172e-02]]\n"
     ]
    }
   ],
   "source": [
    "arr = np.random.rand(10000,2)\n",
    "com = arr.mean(axis=0)\n",
    "print(com)\n",
    "print(arr-com)"
   ]
  },
  {
   "cell_type": "markdown",
   "id": "f94e327a",
   "metadata": {},
   "source": [
    "3. Given the shape-(2,3,4) array:\n",
    "```\n",
    "x = np.array([[[ 0,  1,  2,  3],\n",
    "               [ 4,  5,  6,  7],\n",
    "               [ 8,  9, 10, 11]],\n",
    "\n",
    "              [[12, 13, 14, 15],\n",
    "               [16, 17, 18, 19],\n",
    "               [20, 21, 22, 23]]])\n",
    "```\n",
    "Normalize `x` such that _each of its rows, within each sheet, will sum to a value of 1_. Make use of the sequential function `np.sum`, which should be called only once, and broadcast-division."
   ]
  },
  {
   "cell_type": "code",
   "execution_count": 42,
   "id": "8ca5645e",
   "metadata": {},
   "outputs": [
    {
     "data": {
      "text/plain": [
       "array([[[0.        , 0.16666667, 0.33333333, 0.5       ],\n",
       "        [0.18181818, 0.22727273, 0.27272727, 0.31818182],\n",
       "        [0.21052632, 0.23684211, 0.26315789, 0.28947368]],\n",
       "\n",
       "       [[0.22222222, 0.24074074, 0.25925926, 0.27777778],\n",
       "        [0.22857143, 0.24285714, 0.25714286, 0.27142857],\n",
       "        [0.23255814, 0.24418605, 0.25581395, 0.26744186]]])"
      ]
     },
     "execution_count": 42,
     "metadata": {},
     "output_type": "execute_result"
    }
   ],
   "source": [
    "x = np.array([[[ 0,  1,  2,  3],\n",
    "            [ 4,  5,  6,  7],\n",
    "            [ 8,  9, 10, 11]],\n",
    "\n",
    "           [[12, 13, 14, 15],\n",
    "            [16, 17, 18, 19],\n",
    "            [20, 21, 22, 23]]])\n",
    "y = np.ndarray.sum(x,axis=2).reshape(2,3,1)\n",
    "x = x/y\n",
    "z = np.ndarray.sum(x,axis=2)\n",
    "x\n",
    "#z"
   ]
  },
  {
   "cell_type": "markdown",
   "id": "c32f1de8",
   "metadata": {},
   "source": [
    "4. A digital image is simply an array of numbers, which instructs a grid of pixels on a monitor to shine light of specific colors, according to the numerical values in that array.\n",
    "\n",
    "An RGB-image can thus be stored as a 3D NumPy array of shape-(V,H,3). V is the number of pixels along the vertical direction, H is the number of pixels along the horizontal, and the size-3 dimension stores the red, blue, and green color values for a given pixel. Thus a (32,32,3) array would be a 32x32 RGB image.\n",
    "\n",
    "You often work with a collection of images. Suppose we want to store N images in a single array; thus we now consider a 4D shape-(N, V, H, 3) array. For the sake of convenience, let’s simply generate a 4D-array of random numbers as a placeholder for real image data. We will generate 500, 48x48 RGB images:\n",
    "\n",
    "`images = np.random.rand(500, 48, 48, 3)`\n",
    "\n",
    "Using the sequential function `np.max` and broadcasting, normalize `images` such that the largest value within _each color-channel of each image is 1_."
   ]
  },
  {
   "cell_type": "code",
   "execution_count": 55,
   "id": "6f96dfc0",
   "metadata": {},
   "outputs": [
    {
     "data": {
      "text/plain": [
       "True"
      ]
     },
     "execution_count": 55,
     "metadata": {},
     "output_type": "execute_result"
    }
   ],
   "source": [
    "images = np.random.rand(500, 48, 48, 3)\n",
    "maxvals = np.max(images,axis=(1,2))\n",
    "images = images/maxvals.reshape(500,1,1,3)\n",
    "np.max(images,axis=(1,2))\n",
    "np.all(images.max(axis=(1,2)) == 1)"
   ]
  },
  {
   "cell_type": "markdown",
   "id": "2b81487f",
   "metadata": {},
   "source": [
    "5.  Use the function numpy.allclose to verify that the three methods for computing the pairwise distances produce the same numerical results. \n",
    "\n",
    "The three functions we covered in class were: \n",
    "\n",
    " * `pairwise_dists_looped(x, y)`\n",
    "\n",
    " * `pairwise_dists_crude(x, y)`\n",
    "\n",
    " * `pairwise_dists(x, y)`\n",
    "\n",
    "If you didn't get them completed, you can find each of them here. \n",
    "[https://www.pythonlikeyoumeanit.com/Module3_IntroducingNumpy/Broadcasting.html](https://www.pythonlikeyoumeanit.com/Module3_IntroducingNumpy/Broadcasting.html)"
   ]
  },
  {
   "cell_type": "code",
   "execution_count": null,
   "id": "1d56d1be",
   "metadata": {},
   "outputs": [],
   "source": [
    "\n",
    "\n"
   ]
  },
  {
   "cell_type": "code",
   "execution_count": null,
   "id": "a915ebcf",
   "metadata": {},
   "outputs": [],
   "source": []
  }
 ],
 "metadata": {
  "kernelspec": {
   "display_name": "Python 3",
   "language": "python",
   "name": "python3"
  },
  "language_info": {
   "codemirror_mode": {
    "name": "ipython",
    "version": 3
   },
   "file_extension": ".py",
   "mimetype": "text/x-python",
   "name": "python",
   "nbconvert_exporter": "python",
   "pygments_lexer": "ipython3",
   "version": "3.8.8"
  }
 },
 "nbformat": 4,
 "nbformat_minor": 5
}

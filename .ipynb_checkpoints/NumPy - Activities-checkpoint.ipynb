{
 "cells": [
  {
   "cell_type": "markdown",
   "id": "da84fef6",
   "metadata": {},
   "source": [
    "## NumPy\n",
    "\n",
    "You may reference the following documentation if you need to look up something: \n",
    "\n",
    " * [NumPy Basics](https://numpy.org/doc/stable/user/basics.html#numpy-basics)\n",
    " * [NumPy reference](https://numpy.org/doc/stable/reference/index.html)\n",
    " * [The N-dimensional array](https://numpy.org/doc/stable/reference/arrays.ndarray.html)\n",
    " * [Array indexing](https://numpy.org/doc/stable/user/basics.indexing.html#indexing)\n",
    " * [Indexing routines](https://numpy.org/doc/stable/reference/routines.indexing.html#indexing-routines)\n",
    " * [Array manipulation routines](https://numpy.org/doc/stable/reference/routines.array-manipulation.html)\n",
    " * [Array attributes](https://numpy.org/doc/stable/reference/arrays.ndarray.html#array-attributes)\n",
    " * [Routines for iterating over arrays](https://numpy.org/doc/stable/reference/routines.indexing.html#iterating-over-arrays)\n",
    " * [Detailed description of array iteration](https://numpy.org/doc/stable/reference/arrays.nditer.html#iterating-over-arrays)"
   ]
  },
  {
   "cell_type": "code",
   "execution_count": 2,
   "id": "507a282c",
   "metadata": {},
   "outputs": [],
   "source": [
    "# be sure to run this cell!\n",
    "import numpy as np\n"
   ]
  },
  {
   "cell_type": "markdown",
   "id": "15396ba4",
   "metadata": {},
   "source": [
    "1. Convert a 1-D array with 12 elements into a 2-D array"
   ]
  },
  {
   "cell_type": "code",
   "execution_count": 6,
   "id": "57c708b7",
   "metadata": {},
   "outputs": [
    {
     "data": {
      "text/plain": [
       "array([[ 1,  2,  3,  4,  5,  6],\n",
       "       [ 7,  8,  9, 10, 11, 12]])"
      ]
     },
     "execution_count": 6,
     "metadata": {},
     "output_type": "execute_result"
    }
   ],
   "source": [
    "one = np.array([1,2,3,4,5,6,7,8,9,10,11,12])\n",
    "two = one.reshape(2,-1)\n",
    "two"
   ]
  },
  {
   "cell_type": "markdown",
   "id": "907f498d",
   "metadata": {},
   "source": [
    "2. Convert 1-D array with 8 elements to 3-D array with 2x2 elements."
   ]
  },
  {
   "cell_type": "code",
   "execution_count": 8,
   "id": "e50fe417",
   "metadata": {},
   "outputs": [
    {
     "data": {
      "text/plain": [
       "array([[[1, 2],\n",
       "        [3, 4]],\n",
       "\n",
       "       [[5, 6],\n",
       "        [7, 8]]])"
      ]
     },
     "execution_count": 8,
     "metadata": {},
     "output_type": "execute_result"
    }
   ],
   "source": [
    "oneeight = np.array([1,2,3,4,5,6,7,8])\n",
    "threeeight = oneeight.reshape(2,2,-1)\n",
    "threeeight"
   ]
  },
  {
   "cell_type": "markdown",
   "id": "18790f3a",
   "metadata": {},
   "source": [
    "3. Given the 3D, shape-(3, 3, 3) array: \n"
   ]
  },
  {
   "cell_type": "code",
   "execution_count": 3,
   "id": "de230629",
   "metadata": {},
   "outputs": [],
   "source": [
    "arr = np.array([[[ 0,  1,  2],\n",
    "                 [ 3,  4,  5],\n",
    "                 [ 6,  7,  8]],\n",
    "\n",
    "                [[ 9, 10, 11],\n",
    "                 [12, 13, 14],\n",
    "                 [15, 16, 17]],\n",
    "\n",
    "                [[18, 19, 20],\n",
    "                 [21, 22, 23],\n",
    "                 [24, 25, 26]]])"
   ]
  },
  {
   "cell_type": "markdown",
   "id": "ed654b14",
   "metadata": {},
   "source": [
    "Index into the array to produce the following results (four problems): "
   ]
  },
  {
   "cell_type": "markdown",
   "id": "48749ddd",
   "metadata": {},
   "source": [
    "a. <code>\n",
    "array([[ 2,  5,  8],\n",
    "       [11, 14, 17],\n",
    "       [20, 23, 26]])\n",
    "</code>"
   ]
  },
  {
   "cell_type": "code",
   "execution_count": 17,
   "id": "8700cc6f",
   "metadata": {},
   "outputs": [
    {
     "data": {
      "text/plain": [
       "array([[ 2,  5,  8],\n",
       "       [11, 14, 17],\n",
       "       [20, 23, 26]])"
      ]
     },
     "execution_count": 17,
     "metadata": {},
     "output_type": "execute_result"
    }
   ],
   "source": [
    "arr[:,:,2]"
   ]
  },
  {
   "cell_type": "markdown",
   "id": "a54a1d38",
   "metadata": {},
   "source": [
    "b. \n",
    "<code>\n",
    "array([[ 3,  4,  5],\n",
    "       [12, 13, 14]])\n",
    "</code>"
   ]
  },
  {
   "cell_type": "code",
   "execution_count": 5,
   "id": "70d4a2a5",
   "metadata": {},
   "outputs": [
    {
     "data": {
      "text/plain": [
       "array([[ 3,  4,  5],\n",
       "       [12, 13, 14]])"
      ]
     },
     "execution_count": 5,
     "metadata": {},
     "output_type": "execute_result"
    }
   ],
   "source": [
    "arr[0:2,1,:]"
   ]
  },
  {
   "cell_type": "markdown",
   "id": "6af7599d",
   "metadata": {},
   "source": [
    "c. \n",
    "<code>\n",
    "array([2, 5])\n",
    "</code>"
   ]
  },
  {
   "cell_type": "code",
   "execution_count": 6,
   "id": "63ec69bd",
   "metadata": {},
   "outputs": [
    {
     "data": {
      "text/plain": [
       "array([2, 5])"
      ]
     },
     "execution_count": 6,
     "metadata": {},
     "output_type": "execute_result"
    }
   ],
   "source": [
    "arr[0,0:2,2]"
   ]
  },
  {
   "cell_type": "markdown",
   "id": "9d4b139e",
   "metadata": {},
   "source": [
    "d. \n",
    "<code>\n",
    "array([[11, 10,  9],\n",
    "       [14, 13, 12],\n",
    "       [17, 16, 15]])\n",
    "<code>"
   ]
  },
  {
   "cell_type": "code",
   "execution_count": 9,
   "id": "59e8290e",
   "metadata": {},
   "outputs": [
    {
     "data": {
      "text/plain": [
       "array([[11, 10,  9],\n",
       "       [14, 13, 12],\n",
       "       [17, 16, 15]])"
      ]
     },
     "execution_count": 9,
     "metadata": {},
     "output_type": "execute_result"
    }
   ],
   "source": [
    "arr[1,:,::-1]"
   ]
  },
  {
   "cell_type": "markdown",
   "id": "d8858afb",
   "metadata": {},
   "source": [
    "4. Given the 2D array:\n",
    "\n",
    "`x = np.array([[ 0,  1,  2,  3],\n",
    "              [ 4,  5,  6,  7],\n",
    "              [ 8,  9, 10, 11],\n",
    "              [12, 13, 14, 15]])`\n",
    "\n",
    "Take the natural-logarithm of the 1st and 3rd element in the 3rd-row of x, producing a shape-(2,) result."
   ]
  },
  {
   "cell_type": "code",
   "execution_count": 11,
   "id": "b327e904",
   "metadata": {},
   "outputs": [
    {
     "data": {
      "text/plain": [
       "array([2.07944154, 2.30258509])"
      ]
     },
     "execution_count": 11,
     "metadata": {},
     "output_type": "execute_result"
    }
   ],
   "source": [
    "x = np.array(([[ 0,  1,  2,  3],\n",
    "              [ 4,  5,  6,  7],\n",
    "              [ 8,  9, 10, 11],\n",
    "              [12, 13, 14, 15]]))\n",
    "np.log(x[2,0::2])"
   ]
  },
  {
   "cell_type": "markdown",
   "id": "d5c92a35",
   "metadata": {},
   "source": [
    "5. Given the 2D array:\n",
    "\n",
    "`x = np.array([[ 0,  1,  2,  3],\n",
    "              [ 4,  5,  6,  7],\n",
    "              [ 8,  9, 10, 11],\n",
    "              [12, 13, 14, 15]])`\n",
    "              \n",
    "Add the four quadrants of x, producing a shape-(2, 2) output."
   ]
  },
  {
   "cell_type": "code",
   "execution_count": 12,
   "id": "14a8825c",
   "metadata": {},
   "outputs": [
    {
     "data": {
      "text/plain": [
       "array([[20, 24],\n",
       "       [36, 40]])"
      ]
     },
     "execution_count": 12,
     "metadata": {},
     "output_type": "execute_result"
    }
   ],
   "source": [
    "x[:2,:2] + x[:2, -2:] + x[-2:, :2] + x[-2:, -2:]"
   ]
  },
  {
   "cell_type": "markdown",
   "id": "ab311df5",
   "metadata": {},
   "source": [
    "6. A digital image is simply an array of numbers, which instructs a grid of pixels on a monitor to shine light of specific colors, according to the numerical values in that array.\n",
    "\n",
    "An RGB-image can thus be stored as a 3D NumPy array of shape-(V,H,3). V is the number of pixels along the vertical direction, H is the number of pixels along the horizontal, and the size-3 dimension stores the red, blue, and green color values for a given pixel. Thus a (32, 32, 3) array would be a 32x32 RBG image.\n",
    "\n",
    "It is common to work with a collection of images. Suppose we want to store N images in a single array; thus we now consider a 4D shape-(N, V, H, 3) array.\n",
    "\n",
    "Let's collect some statistics on a collection of images. For the sake of convenience, let's simply generate a 4D-array of random numbers as a placeholder for real image data. We will generate 100, 32x32 RGB images:\n",
    "\n",
    "`images = np.random.rand(100, 32, 32, 3)`\n",
    "\n",
    "Now, compute the following (5 different problems): "
   ]
  },
  {
   "cell_type": "code",
   "execution_count": 2,
   "id": "92c9a472",
   "metadata": {},
   "outputs": [],
   "source": [
    "#a. The average 32x32 RGB image.\n"
   ]
  },
  {
   "cell_type": "code",
   "execution_count": 3,
   "id": "e725f4da",
   "metadata": {},
   "outputs": [],
   "source": [
    "#b. The total sum of all the values in the array.\n"
   ]
  },
  {
   "cell_type": "code",
   "execution_count": 4,
   "id": "38efff8a",
   "metadata": {},
   "outputs": [],
   "source": [
    "#c. The minimum blue value, respective to each image.\n"
   ]
  },
  {
   "cell_type": "code",
   "execution_count": 5,
   "id": "abc2e1ae",
   "metadata": {},
   "outputs": [],
   "source": [
    "#d. The standard deviation among all the RGB values in all the images, respective to each pixel position (thus you should produce a shape-(32, 32) array of values).\n"
   ]
  },
  {
   "cell_type": "code",
   "execution_count": 6,
   "id": "8c6020f3",
   "metadata": {},
   "outputs": [],
   "source": [
    "#e. The maximum red-value in the top-left quadrant, respective to each image.\n"
   ]
  },
  {
   "cell_type": "code",
   "execution_count": null,
   "id": "4c7d8143",
   "metadata": {},
   "outputs": [],
   "source": []
  }
 ],
 "metadata": {
  "kernelspec": {
   "display_name": "Python 3",
   "language": "python",
   "name": "python3"
  },
  "language_info": {
   "codemirror_mode": {
    "name": "ipython",
    "version": 3
   },
   "file_extension": ".py",
   "mimetype": "text/x-python",
   "name": "python",
   "nbconvert_exporter": "python",
   "pygments_lexer": "ipython3",
   "version": "3.8.8"
  }
 },
 "nbformat": 4,
 "nbformat_minor": 5
}

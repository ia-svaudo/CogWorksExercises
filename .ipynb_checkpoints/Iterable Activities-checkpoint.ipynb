{
 "cells": [
  {
   "cell_type": "markdown",
   "id": "c0d9a02c",
   "metadata": {},
   "source": [
    "## Iterables\n",
    "\n",
    "You may reference the following sites if you need to look up something: \n",
    " * Iterable definition: https://docs.python.org/3/glossary.html#term-iterable\n",
    " * Functions on iterables: https://docs.python.org/3/howto/functional.html#built-in-functions\n",
    " * Enumerate: https://docs.python.org/3/library/functions.html#enumerate"
   ]
  },
  {
   "cell_type": "markdown",
   "id": "a8692c95",
   "metadata": {},
   "source": [
    "__1.__ Use the iterable ` \"abcd\" `, the `enumerate` function, and tuple-unpacking in a for-loop to create the list: [(0, 'a'), (1, 'b'), (2, 'c'), (3, 'd')]"
   ]
  },
  {
   "cell_type": "code",
   "execution_count": null,
   "id": "8ff28933",
   "metadata": {},
   "outputs": [],
   "source": [
    "list1 = []\n",
    "for num,letter in enumerate(\"abcd\"):\n",
    "    list1.append((num))"
   ]
  },
  {
   "cell_type": "markdown",
   "id": "4a18b2d9",
   "metadata": {},
   "source": [
    "__2.__ Use control flow and looping tools to see if an iterable of numbers is sorted.\n",
    "\n",
    "The variable `unsorted_index` should be initialized to `None`. If the iterable is not sorted, `unsorted_index` should store the index where the sequence first fell out of order. If the iterable is sorted, then `unsorted_index` should remain `None` and your code should print “sorted!”.\n",
    "\n",
    "For instance:\n",
    "\n",
    "given the iterable `my_list = [0, 1, -10, 2]`, `unsorted_index` should take the value `2`.\n",
    "\n",
    "given the iterable `my_list = [-1, 0, 3, 6]`, `unsorted_index` should be `None` and your code should print “sorted!”."
   ]
  },
  {
   "cell_type": "code",
   "execution_count": null,
   "id": "98c2b6bc",
   "metadata": {},
   "outputs": [],
   "source": []
  }
 ],
 "metadata": {
  "kernelspec": {
   "display_name": "Python 3",
   "language": "python",
   "name": "python3"
  },
  "language_info": {
   "codemirror_mode": {
    "name": "ipython",
    "version": 3
   },
   "file_extension": ".py",
   "mimetype": "text/x-python",
   "name": "python",
   "nbconvert_exporter": "python",
   "pygments_lexer": "ipython3",
   "version": "3.8.8"
  }
 },
 "nbformat": 4,
 "nbformat_minor": 5
}

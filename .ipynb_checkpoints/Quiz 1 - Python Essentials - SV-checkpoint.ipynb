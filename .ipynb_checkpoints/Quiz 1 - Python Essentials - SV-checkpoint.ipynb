{
 "cells": [
  {
   "cell_type": "markdown",
   "id": "30a80768",
   "metadata": {},
   "source": [
    "This quiz is \"open Jupyter Notebook,\" meaning you can look in other Jupyter Notebooks that you have created. You can also reference notes you have taken by hand, if applicable. Additionally, you can reference the official Python documentation: https://docs.python.org/3/library/. You _cannot_ search for answers on forums, blogs, etc.\n",
    "\n",
    "You can add more cells that what are initially provided below. \n",
    "\n",
    "The first 5 problems are worth 5 points each. The last 5 are worth 15 points each. 100 total points. "
   ]
  },
  {
   "cell_type": "markdown",
   "id": "487c1bc7",
   "metadata": {},
   "source": [
    "1. (5 points) Given the tuple: (1, 3, 5, 7, 9), use slicing to reverse the order of the sequence. "
   ]
  },
  {
   "cell_type": "code",
   "execution_count": 84,
   "id": "70fcfe0a",
   "metadata": {},
   "outputs": [
    {
     "data": {
      "text/plain": [
       "(9, 7, 5, 3, 1)"
      ]
     },
     "execution_count": 84,
     "metadata": {},
     "output_type": "execute_result"
    }
   ],
   "source": [
    "t = (1,3,5,7,9)\n",
    "t2 = list(range(len(t)))\n",
    "for i in range(len(t)):\n",
    "    t2[i] = t[-i-1]\n",
    "    \n",
    "t2 = tuple(t2)\n",
    "t2"
   ]
  },
  {
   "cell_type": "markdown",
   "id": "3236bbeb",
   "metadata": {},
   "source": [
    "2. (5 points) Given the list `mylist = ['a', 'b', 'c', 'dog', None, 3.14159]`, enumerate the list and display each entry. "
   ]
  },
  {
   "cell_type": "code",
   "execution_count": 13,
   "id": "a8c0a115",
   "metadata": {},
   "outputs": [
    {
     "name": "stdout",
     "output_type": "stream",
     "text": [
      "a\n",
      "b\n",
      "c\n",
      "dog\n",
      "None\n",
      "3.14159\n"
     ]
    }
   ],
   "source": [
    "mylist = ['a','b','c','dog',None,3.14159]\n",
    "for i in range (len(mylist)):\n",
    "    print(mylist[i])"
   ]
  },
  {
   "cell_type": "markdown",
   "id": "aea6fe45",
   "metadata": {},
   "source": [
    "3. (5 points) Use a generator expression to compute the sum of the squares of all of the numbers that are divisible by 3 in the range 0-100 in a single line of code."
   ]
  },
  {
   "cell_type": "code",
   "execution_count": 58,
   "id": "6d6a92a5",
   "metadata": {},
   "outputs": [],
   "source": [
    "n = (sum(i^2) for i in range(101) if i%3==0)\n"
   ]
  },
  {
   "cell_type": "markdown",
   "id": "83d2a4be",
   "metadata": {},
   "source": [
    "4. (5 points)  Given this example dictionary `grail_heroes = {\"Robin\":\"Ran Away\", \"Rabit\":\"Mean Streak\", \"Knight\":\"Flesh Wound\"}` iterate over the values and assign them to a variable as a list."
   ]
  },
  {
   "cell_type": "code",
   "execution_count": 85,
   "id": "6e0a098d",
   "metadata": {},
   "outputs": [
    {
     "data": {
      "text/plain": [
       "['Ran Away', 'Mean Streak', 'Flesh Wound']"
      ]
     },
     "execution_count": 85,
     "metadata": {},
     "output_type": "execute_result"
    }
   ],
   "source": [
    "grail_heroes = {\"Robin\":\"Ran Away\", \"Rabit\":\"Mean Streak\", \"Knight\":\"Flesh Wound\"}\n",
    "alist=list(range(len(grail_heroes)))\n",
    "count = 0\n",
    "for name in grail_heroes.keys():\n",
    "    alist[count] = grail_heroes[name]\n",
    "    count+=1\n",
    "alist"
   ]
  },
  {
   "cell_type": "markdown",
   "id": "f8589169",
   "metadata": {},
   "source": [
    "5. (5 points) Given the text in the code block below, use the Counter function and determine the 5 most common words in the text. You should convert all text to lower case. Remove unmeaningful words like \"the,\" \"a,\" and \"to\" (any way you like). "
   ]
  },
  {
   "cell_type": "code",
   "execution_count": 39,
   "id": "c8b46842",
   "metadata": {},
   "outputs": [
    {
     "data": {
      "text/plain": [
       "[('galaxy', 2), ('far', 2), ('rebel', 2), ('plans', 2), (\"empire's\", 2)]"
      ]
     },
     "execution_count": 39,
     "metadata": {},
     "output_type": "execute_result"
    }
   ],
   "source": [
    "from collections import Counter\n",
    "\n",
    "star_text = \"A long time ago in a galaxy far far away It is a period of civil war Rebel spaceships striking from a hidden base have won their first victory against the evil Galactic Empire. During the battle, Rebel spies managed to steal secret plans to the Empire's ultimate weapon the Death Star an armored space station with enough power to destroy an entire planet Pursued by the Empire's sinister agents Princess Leia races home aboard her starship custodian of the stolen plans that can save her people and restore freedom to the galaxy\"\n",
    "\n",
    "a = Counter(star_text.lower().split())\n",
    "del a['the']\n",
    "del a['a']\n",
    "del a['to']\n",
    "del a['of']\n",
    "a.most_common(5)"
   ]
  },
  {
   "cell_type": "markdown",
   "id": "68085de6",
   "metadata": {},
   "source": [
    "6. (15 points) Write a Python function to check if a sequence of numbers is an arithmetic progression or not. \n",
    "\n",
    "In mathematics, an arithmetic progression is a sequence of numbers such that the difference between the consecutive terms is constant. For example, the sequence 5, 7, 9, 11, 13, 15 is an arithmetic progression with common difference of 2. \n",
    "\n",
    "If it is a progression, return `True`. Otherwise, return the tuple `(False, n)`, where `n` is the number where the sequence failed. \n",
    "\n",
    "If you tested against the sequence 5, 7, 9, 11, 13, your function should return `True`. \n",
    "\n",
    "If you tested against the sequence 5, 7, 9, 11, 19, your function should return `(False, 19)`. \n"
   ]
  },
  {
   "cell_type": "code",
   "execution_count": 86,
   "id": "5698fcb6",
   "metadata": {},
   "outputs": [
    {
     "data": {
      "text/plain": [
       "(False, 35)"
      ]
     },
     "execution_count": 86,
     "metadata": {},
     "output_type": "execute_result"
    }
   ],
   "source": [
    "def progtest(list):\n",
    "    for i in range(len(list)):\n",
    "        if i == 0:\n",
    "            diff = list[1]-list[0]\n",
    "        else:\n",
    "            if diff != list[i]-list[i-1]:\n",
    "                return (False,list[i])\n",
    "    return True\n",
    "#progtest([5, 7, 9, 11, 13])\n",
    "#progtest([5, 7, 9, 11, 19])\n",
    "progtest([0,10,20,30,35,40,50])"
   ]
  },
  {
   "cell_type": "markdown",
   "id": "f676362e",
   "metadata": {},
   "source": [
    "7. (15 points) Write a function to return the number of characters in the longest word in a string that has several words. Ignore or omit punctuation. \n",
    "\n",
    "For example, given: \n",
    "`mystr = \"Quoth the Raven Nevermore\"`\n",
    "\n",
    "Running: \n",
    "`length_of_longest_word(mystr)` produces `9`."
   ]
  },
  {
   "cell_type": "code",
   "execution_count": 53,
   "id": "4631e890",
   "metadata": {},
   "outputs": [
    {
     "data": {
      "text/plain": [
       "9"
      ]
     },
     "execution_count": 53,
     "metadata": {},
     "output_type": "execute_result"
    }
   ],
   "source": [
    "def longestword(string):\n",
    "    longword = 0\n",
    "    for i in string.lower().split():\n",
    "        if len(i) > longword:\n",
    "            longword = len(i)\n",
    "    return longword\n",
    "longestword(\"I can do something today\")"
   ]
  },
  {
   "cell_type": "markdown",
   "id": "29b48ab8",
   "metadata": {},
   "source": [
    "8. (15 points) Note: there are two parts to this problem. \n",
    "\n",
    "The following list is a Fibonacci sequence: \n",
    "`[0, 1, 1, 2, 3, 5, 8, 13, 21, 34]`\n",
    "\n",
    "The next number in the sequence is found by adding up the two numbers before it. Therefore, the next number in this sequence would be 21 + 34 = 55. \n",
    "\n",
    "Part 1 (10 points): \n",
    "Write a function that provides the Fibonacci number, given its index. For example, `fibonacci_num(7)` would return `13`. \n",
    "\n"
   ]
  },
  {
   "cell_type": "code",
   "execution_count": 87,
   "id": "a99110cb",
   "metadata": {},
   "outputs": [
    {
     "data": {
      "text/plain": [
       "610"
      ]
     },
     "execution_count": 87,
     "metadata": {},
     "output_type": "execute_result"
    }
   ],
   "source": [
    "def fibonacci_num(pos):\n",
    "    if pos == 0:\n",
    "        return 0\n",
    "    elif pos == 1:\n",
    "        return 1\n",
    "    else:\n",
    "        return fibonacci_num(pos-1) + fibonacci_num(pos-2)\n",
    "\n",
    "fibonacci_num(15)"
   ]
  },
  {
   "cell_type": "markdown",
   "id": "d2ffa438",
   "metadata": {},
   "source": [
    "Part 2 (5 points): Call the function using list comprehension to generate the first 15 numbers in the sequence."
   ]
  },
  {
   "cell_type": "code",
   "execution_count": 88,
   "id": "a75f7486",
   "metadata": {},
   "outputs": [
    {
     "data": {
      "text/plain": [
       "<generator object <genexpr> at 0x00000255F1BFA350>"
      ]
     },
     "execution_count": 88,
     "metadata": {},
     "output_type": "execute_result"
    }
   ],
   "source": [
    "(fibonacci_num(i) for i in range(15))"
   ]
  },
  {
   "cell_type": "markdown",
   "id": "224cf599",
   "metadata": {},
   "source": [
    "9. (15 points) Given a string, return whether or not it is a palindrome. \n",
    "\n",
    "A palindrome is a string that reads the same from left to right and from right to left. Strings like `racecar` and `Live on time, emit no evil` are palindromes. Notice that only valid alphanumeric characters are accounted for and that palindromes are not case-sensitive. \n",
    "\n",
    "#### example behavior\n",
    "\n",
    "`is_palindrome(\"Step on no pets!\")\n",
    "True`\n",
    "\n",
    "`is_palindrome(\"'Tis not a palindrome\")\n",
    "False`\n",
    "\n",
    "`is_palindrome(\"Hi, I am Mai Ih\")\n",
    "False`\n",
    "\n",
    "Hint: it may be helpful to make use of the `str.join()` and `str.isalnum()` functions. "
   ]
  },
  {
   "cell_type": "code",
   "execution_count": 90,
   "id": "8f0fa15c",
   "metadata": {},
   "outputs": [
    {
     "name": "stdout",
     "output_type": "stream",
     "text": [
      "True\n",
      "True\n"
     ]
    }
   ],
   "source": [
    "def is_palindrome(string):\n",
    "    #Not accounting for spaces\n",
    "    copystring = []\n",
    "    string = string.lower()\n",
    "    for i in string:\n",
    "        if i.isalnum():\n",
    "            copystring += i\n",
    "    for i in range(len(copystring)):\n",
    "        if copystring[i] != copystring[-i-1]:\n",
    "            return False\n",
    "    return True\n",
    "print(is_palindrome(\"Step on no pets!\"))\n",
    "print(is_palindrome(\"Hi, I am Mai Ih\"))    "
   ]
  },
  {
   "cell_type": "markdown",
   "id": "6ac6f771",
   "metadata": {},
   "source": [
    "10. (15 points) Merge two dictionaries together into a new dictionary. If there are common keys, use the _greater_ of the values provided. \n",
    "\n",
    "For example, given the following two dictionaries: \n",
    "\n",
    "`dict1 = {'dogs': 10, 'cats': 7, 'goldfish': 8}`\n",
    "\n",
    "`dict2 = {'dogs': 4, 'cats': 19, 'guinea pigs': 2}`\n",
    "\n",
    "The new dictionary should look like: \n",
    "\n",
    "`newdict = {'dogs': 10, 'cats': 19, 'goldfish': 8, 'guinea pigs': 2}`\n"
   ]
  },
  {
   "cell_type": "code",
   "execution_count": 91,
   "id": "cce3bfd8",
   "metadata": {},
   "outputs": [
    {
     "data": {
      "text/plain": [
       "{'dogs': 10, 'cats': 19, 'goldfish': 8, 'guinea pigs': 2}"
      ]
     },
     "execution_count": 91,
     "metadata": {},
     "output_type": "execute_result"
    }
   ],
   "source": [
    "dict1 = {'dogs': 10, 'cats': 7, 'goldfish': 8}\n",
    "dict2 = {'dogs': 4, 'cats': 19, 'guinea pigs': 2}\n",
    "newdict = {}\n",
    "keys1 = dict1.keys()\n",
    "keys2 = dict2.keys()\n",
    "for i in keys1:\n",
    "    if i in keys2:\n",
    "        if dict1[i] <= dict2[i]:\n",
    "            newdict[i] = dict2[i]\n",
    "        else:\n",
    "            newdict[i] = dict1[i]\n",
    "    else:\n",
    "        newdict[i] = dict1[i]\n",
    "for i in keys2:\n",
    "    if i not in keys1:\n",
    "        newdict[i] = dict2[i]\n",
    "newdict"
   ]
  }
 ],
 "metadata": {
  "kernelspec": {
   "display_name": "Python 3",
   "language": "python",
   "name": "python3"
  },
  "language_info": {
   "codemirror_mode": {
    "name": "ipython",
    "version": 3
   },
   "file_extension": ".py",
   "mimetype": "text/x-python",
   "name": "python",
   "nbconvert_exporter": "python",
   "pygments_lexer": "ipython3",
   "version": "3.8.8"
  }
 },
 "nbformat": 4,
 "nbformat_minor": 5
}

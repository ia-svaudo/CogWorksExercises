{
 "cells": [
  {
   "cell_type": "markdown",
   "id": "f839b4ef",
   "metadata": {},
   "source": [
    "## Data Structures\n",
    "\n",
    "You may reference the following documentation if you need to look up something: \n",
    " * [Big-O Notation](https://www.pythonlikeyoumeanit.com/Module2_EssentialsOfPython/DataStructures.html#Describing-Algorithm-Complexity) \n",
    "\n",
    "* [Dictionaries](https://docs.python.org/3/library/stdtypes.html#mapping-types-dict)\n",
    "    * [Dictionaries tutorial](https://docs.python.org/3/tutorial/datastructures.html#dictionaries)\n",
    "* [Definition of 'hashable'](https://docs.python.org/3/glossary.html#term-hashable)\n",
    "* [Dictionary view objects](https://docs.python.org/3/library/stdtypes.html#dictionary-view-objects)\n",
    "\n",
    "\n",
    " * [Sets and frozen sets](https://docs.python.org/3/library/stdtypes.html#set-types-set-frozenset)\n",
    "    * [Tutorial on sets](https://docs.python.org/3/tutorial/datastructures.html#sets)\n",
    " * [The collections module](https://docs.python.org/3/library/collections.html)\n",
    " * [Counter](https://docs.python.org/3/library/collections.html#counter-objects)\n",
    " "
   ]
  },
  {
   "cell_type": "markdown",
   "id": "1fcc5c43",
   "metadata": {},
   "source": [
    "## Big-O Notation"
   ]
  },
  {
   "cell_type": "code",
   "execution_count": 7,
   "id": "253fea72",
   "metadata": {},
   "outputs": [],
   "source": [
    "# what is the Big-O notation for the following function: \n",
    "def print_first_item(items):\n",
    "    print(items[0])\n",
    "    \n",
    "#you can write the notation as a comment\n"
   ]
  },
  {
   "cell_type": "code",
   "execution_count": 8,
   "id": "08b4e325",
   "metadata": {},
   "outputs": [],
   "source": [
    "# what is the Big-O notation for the following function: \n",
    "def print_all_items(items):\n",
    "    for item in items:\n",
    "        print(item)\n",
    "\n",
    "#you can write the notation as a comment\n"
   ]
  },
  {
   "cell_type": "code",
   "execution_count": 9,
   "id": "69146a70",
   "metadata": {},
   "outputs": [],
   "source": [
    "# what is the Big-O notation for the following function: \n",
    "def print_all_items(items):\n",
    "    for item in items:\n",
    "        print(item)\n",
    "\n",
    "#you can write the notation as a comment\n"
   ]
  },
  {
   "cell_type": "markdown",
   "id": "264fdd70",
   "metadata": {},
   "source": [
    "## Dictionaries"
   ]
  },
  {
   "cell_type": "markdown",
   "id": "aa227f25",
   "metadata": {},
   "source": [
    "1. Given the tuple of student names `(\"Ashley\", \"David\", \"Edward\", \"Zoe\")`, and their corresponding exam grades `(0.92, 0.72, 0.88, 0.77)`, create a dictionary that maps: name → grade. \n",
    "Then, update Zoe's grade to .79. \n",
    "Lastly, add a new student, Ryan, whose grade is 0.34."
   ]
  },
  {
   "cell_type": "code",
   "execution_count": 12,
   "id": "5f133cbc",
   "metadata": {},
   "outputs": [],
   "source": [
    "names = (\"Ashley\", \"David\", \"Edward\", \"Zoe\")\n",
    "scores = (0.92, 0.72, 0.88, 0.77)\n",
    "\n",
    "#Here is a basic, but verbose solution. \n",
    "#It is too long and its logic is complicated by the use of index.\n",
    "grades = {}\n",
    "for index in range(len(names)):\n",
    "    name = names[index]\n",
    "    value = scores[index]\n",
    "    grades[name] = value\n",
    "\n",
    "#You should make use of the function zip to pair the names and scores together in an iterable, \n",
    "# and create the dictionary using a comprehension expression.\n",
    "\n"
   ]
  },
  {
   "cell_type": "markdown",
   "id": "13e170ae",
   "metadata": {},
   "source": [
    "2. Write a function that inverts a dictionary. \n",
    "\n",
    "For example, if you were given `x = {'k1': 'v1', 'k2': 'v2', 'k3': 'v3'}`, you would produce the dictionary `inverted_x = {'v1': 'k1', 'v2': 'k2', 'v3': 'k3'}`.\n",
    "\n"
   ]
  },
  {
   "cell_type": "code",
   "execution_count": 6,
   "id": "1869f865",
   "metadata": {},
   "outputs": [
    {
     "data": {
      "text/plain": [
       "{'v1': 'k1', 'v2': 'k2', 'v3': 'k3'}"
      ]
     },
     "execution_count": 6,
     "metadata": {},
     "output_type": "execute_result"
    }
   ],
   "source": [
    "# simple solution: using a for-loop\n",
    "x = {'k1': 'v1', 'k2': 'v2', 'k3': 'v3'}\n",
    "inverted_x1 = {}\n",
    "for key, value in x.items():\n",
    "    inverted_x1[value] = key\n",
    "\n",
    "    \n",
    "# better solution: using a dictionary-comprehension\n",
    "inverted_x2 = {value:key for key, value in x.items()}\n",
    "\n",
    "#inverted_x1\n",
    "inverted_x2"
   ]
  },
  {
   "cell_type": "markdown",
   "id": "2cc5d21d",
   "metadata": {},
   "source": [
    "3(a). Assume we are working with a dictionary whose values are all unique numbers. Write a function that returns the key that maps to the largest value in the dictionary.\n",
    "\n"
   ]
  },
  {
   "cell_type": "code",
   "execution_count": 9,
   "id": "88f73910",
   "metadata": {},
   "outputs": [
    {
     "data": {
      "text/plain": [
       "'d'"
      ]
     },
     "execution_count": 9,
     "metadata": {},
     "output_type": "execute_result"
    }
   ],
   "source": [
    "def max_key(x):\n",
    "    max_val = max(x.values())\n",
    "    for key, value in x.items():\n",
    "        if value == max_val:\n",
    "            return key\n",
    "\n",
    "max_key({'a': 0, 'b': 2, 'c': 200, 'd': 0})\n",
    "\n",
    "\n",
    "\n",
    "# optimal solution (for the sake of completeness)\n",
    "def max_key_optimal(x):\n",
    "    return max(x, key=x.get)\n",
    "\n",
    "max_key_optimal({'a': -1, 'b': 30, 'c': 10, 'd': 500, 'e': 499})"
   ]
  },
  {
   "cell_type": "markdown",
   "id": "19e7189a",
   "metadata": {},
   "source": [
    "3(b). Next, generalize your solution for a dictionary whose values are not necessarily unique. Return a tuple of all of the keys that map to that max value.\n",
    "\n"
   ]
  },
  {
   "cell_type": "code",
   "execution_count": 10,
   "id": "29c4ad99",
   "metadata": {},
   "outputs": [
    {
     "data": {
      "text/plain": [
       "('b', 'c')"
      ]
     },
     "execution_count": 10,
     "metadata": {},
     "output_type": "execute_result"
    }
   ],
   "source": [
    "def get_maxes(dictionary):\n",
    "    max_val = max(dictionary.values())\n",
    "    return tuple(k for k,v in dictionary.items() if v == max_val)\n",
    "\n",
    "get_maxes(dict(a=1, b=2, c=2, d=1))\n"
   ]
  },
  {
   "cell_type": "markdown",
   "id": "b985256d",
   "metadata": {},
   "source": [
    "## Sets & the Collections Module"
   ]
  },
  {
   "cell_type": "markdown",
   "id": "3d3d97df",
   "metadata": {},
   "source": [
    "4. Use a set to find all of the unique letters in the string `\"The cat in the hat\"`. Ignore all non-letter characters and lowercase all letters."
   ]
  },
  {
   "cell_type": "code",
   "execution_count": 11,
   "id": "754980d3",
   "metadata": {},
   "outputs": [
    {
     "data": {
      "text/plain": [
       "{'a', 'c', 'e', 'h', 'i', 'n', 't'}"
      ]
     },
     "execution_count": 11,
     "metadata": {},
     "output_type": "execute_result"
    }
   ],
   "source": [
    "sentence = \"The cat in the hat\"\n",
    "\n",
    "{char.lower() for char in sentence if char.isalpha()}\n"
   ]
  },
  {
   "cell_type": "markdown",
   "id": "743ae15a",
   "metadata": {},
   "source": [
    "5. Given the enrollment lists for class-A and class-B, find the students enrolled in both classes. Produce the result as a sorted list of names. \n",
    "\n",
    "`classA = [\"Bohr\", \"Curie\", \"David\", \"Euler\", \"Fermi\", \"Feynman\", \"Gauss\", \"Heisenberg\", \"Noether\"]`\n",
    "\n",
    "`classB = [\"Bohm\", \"Bohr\", \"Einstein\", \"Fermi\", \"Gauss\", \"Hopper\", \"Montalcini\"]`"
   ]
  },
  {
   "cell_type": "code",
   "execution_count": 13,
   "id": "6aca6df7",
   "metadata": {},
   "outputs": [
    {
     "data": {
      "text/plain": [
       "['Bohr', 'Fermi', 'Gauss']"
      ]
     },
     "execution_count": 13,
     "metadata": {},
     "output_type": "execute_result"
    }
   ],
   "source": [
    "#We can find the entries common to both lists by constructing sets from them, \n",
    "#and then taking the intersection of those sets. The result is a set, which is an iterable. \n",
    "#Thus it can be fed to the built-in function sorted, to produce a sorted list of names.\n",
    "\n",
    "classA = [\"Bohr\", \"Curie\", \"David\", \"Euler\", \"Fermi\", \"Feynman\", \"Gauss\", \"Heisenberg\", \"Noether\"]\n",
    "classB = [\"Bohm\", \"Bohr\", \"Einstein\", \"Fermi\", \"Gauss\", \"Hopper\", \"Montalcini\"]\n",
    "\n",
    "sorted(set(classA) & set(classB))"
   ]
  },
  {
   "cell_type": "markdown",
   "id": "e7c249c4",
   "metadata": {},
   "source": [
    "6. Create a __named tuple__ called 'cnc_coord' to hold the x, y, and z position of the \n",
    "Create an instance of the named tuple and access the z coordinate \"by name.\"\n",
    "\n",
    "\n",
    "\n"
   ]
  },
  {
   "cell_type": "code",
   "execution_count": 14,
   "id": "141bb108",
   "metadata": {},
   "outputs": [
    {
     "data": {
      "text/plain": [
       "4.44"
      ]
     },
     "execution_count": 14,
     "metadata": {},
     "output_type": "execute_result"
    }
   ],
   "source": [
    "from collections import namedtuple\n",
    "\n",
    "cnc_coord = namedtuple(\"cnc_coord\", ['x', 'y', 'z'])\n",
    "cnc1 = cnc_coord(2.22, 3.33, 4.44)\n",
    "cnc1.z"
   ]
  },
  {
   "cell_type": "markdown",
   "id": "19f88046",
   "metadata": {},
   "source": [
    "7. Create a __default dictionary__ to store grocery prices. Add at least three items and their prices to the dictionary. "
   ]
  },
  {
   "cell_type": "code",
   "execution_count": 15,
   "id": "9017e3be",
   "metadata": {},
   "outputs": [
    {
     "data": {
      "text/plain": [
       "defaultdict(list, {'Apples': [1.25], 'Oranges': [2.99], 'Rice': [3.49]})"
      ]
     },
     "execution_count": 15,
     "metadata": {},
     "output_type": "execute_result"
    }
   ],
   "source": [
    "from collections import defaultdict\n",
    "\n",
    "grocery_prices = defaultdict(list)\n",
    "grocery_prices[\"Apples\"].append(1.25)\n",
    "grocery_prices[\"Oranges\"].append(2.99)\n",
    "grocery_prices[\"Rice\"].append(3.49)\n",
    "\n",
    "grocery_prices"
   ]
  },
  {
   "cell_type": "markdown",
   "id": "e1c78dd0",
   "metadata": {},
   "source": [
    "8. Take the first stanza of Edgar Allen Poe's _The Raven_ and: \n",
    " * remove punctuation (manually or with code)\n",
    " * make it all lower case\n",
    " * split the string by its spaces, storing the resulting tokens in a list\n",
    " * apply a counter, line by line (use update)\n",
    " * display the entire dictionary\n",
    " * display the top 3 most common words, along with their counts\n",
    "\n",
    "```\n",
    "Once upon a midnight dreary, while I pondered, weak and weary,\n",
    "Over many a quaint and curious volume of forgotten lore—\n",
    "While I nodded, nearly napping, suddenly there came a tapping,\n",
    "As of some one gently rapping, rapping at my chamber door.\n",
    "“'Tis some visitor,” I muttered, “tapping at my chamber door—\n",
    "            Only this and nothing more.”\n",
    "```\n",
    "\n"
   ]
  },
  {
   "cell_type": "code",
   "execution_count": 3,
   "id": "c8ba14c4",
   "metadata": {},
   "outputs": [
    {
     "data": {
      "text/plain": [
       "[('a', 3), ('i', 3), ('and', 3)]"
      ]
     },
     "execution_count": 3,
     "metadata": {},
     "output_type": "execute_result"
    }
   ],
   "source": [
    "from collections import Counter\n",
    "\n",
    "text_1 = \"Once upon a midnight dreary while I pondered weak and weary\"\n",
    "text_1 = text_1.lower().split()\n",
    "word_distr = Counter(text_1)\n",
    "\n",
    "text_2 = \"Over many a quaint and curious volume of forgotten lore\"\n",
    "text_2 = text_2.lower().split()\n",
    "word_distr.update(text_2)\n",
    "\n",
    "text_3 = \"While I nodded nearly napping suddenly there came a tapping\"\n",
    "text_3 = text_3.lower().split()\n",
    "word_distr.update(text_3)\n",
    "\n",
    "text_4 = \"As of some one gently rapping rapping at my chamber door\"\n",
    "text_4 = text_4.lower().split()\n",
    "word_distr.update(text_4)\n",
    "\n",
    "text_5 = \"Tis some visitor I muttered tapping at my chamber door\"\n",
    "text_5 = text_5.lower().split()\n",
    "word_distr.update(text_5)\n",
    "\n",
    "text_6 = \"Only this and nothing more\"\n",
    "text_6 = text_6.lower().split()\n",
    "word_distr.update(text_6)\n",
    "\n",
    "word_distr\n",
    "word_distr.most_common(3)"
   ]
  },
  {
   "cell_type": "code",
   "execution_count": null,
   "id": "dd3abf70",
   "metadata": {},
   "outputs": [],
   "source": []
  }
 ],
 "metadata": {
  "kernelspec": {
   "display_name": "Python 3 (ipykernel)",
   "language": "python",
   "name": "python3"
  },
  "language_info": {
   "codemirror_mode": {
    "name": "ipython",
    "version": 3
   },
   "file_extension": ".py",
   "mimetype": "text/x-python",
   "name": "python",
   "nbconvert_exporter": "python",
   "pygments_lexer": "ipython3",
   "version": "3.8.10"
  }
 },
 "nbformat": 4,
 "nbformat_minor": 5
}
